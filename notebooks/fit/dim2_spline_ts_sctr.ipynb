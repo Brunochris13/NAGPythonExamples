{
 "cells": [
  {
   "cell_type": "markdown",
   "metadata": {},
   "source": [
    "# Surface Fitting\n",
    "\n",
    "This example fits a surface to some scattered data and plots the result.\n",
    "\n",
    "To begin, generate some scattered $(x, y)$ data, of a modest size for this example: 100 pseudorandom uniformly-distributed values on (0,1] using the Wichmann&ndash;Hill I generator.\n",
    "\n",
    "NAG random number generators pass around their state using a communication structure which is constructed by an initialization function. To create a repeatable sequence we use `rand.init_repeat`, for which the required generator is selected using `genid = 2`:"
   ]
  },
  {
   "cell_type": "code",
   "execution_count": null,
   "metadata": {},
   "outputs": [],
   "source": [
    "from naginterfaces.library import rand\n",
    "statecomm = rand.init_repeat(genid=2, seed=[32958])"
   ]
  },
  {
   "cell_type": "markdown",
   "metadata": {},
   "source": [
    "Generate the scattered data using this initialized RNG state"
   ]
  },
  {
   "cell_type": "code",
   "execution_count": null,
   "metadata": {},
   "outputs": [],
   "source": [
    "n = 100\n",
    "x = rand.dist_uniform01(n, statecomm)\n",
    "y = rand.dist_uniform01(n, statecomm)"
   ]
  },
  {
   "cell_type": "markdown",
   "metadata": {},
   "source": [
    "Ensure that the bounding box for the data includes the corners $(0, 0)$ and $(1, 1)$"
   ]
  },
  {
   "cell_type": "code",
   "execution_count": null,
   "metadata": {},
   "outputs": [],
   "source": [
    "x[0], y[0] = 0., 0.\n",
    "x[-1], y[-1] = 1., 1."
   ]
  },
  {
   "cell_type": "markdown",
   "metadata": {},
   "source": [
    "Here are the function values to fit, which are from the Franke function&mdash;a popular function for testing surface-fitting methods"
   ]
  },
  {
   "cell_type": "code",
   "execution_count": null,
   "metadata": {},
   "outputs": [],
   "source": [
    "import numpy as np\n",
    "f = (\n",
    "    0.75*np.exp(\n",
    "        -(\n",
    "            (9.*x-2.)**2 +\n",
    "            (9.*y-2.)**2\n",
    "        )/4.\n",
    "    ) +\n",
    "    0.75*np.exp(\n",
    "        -(9.*x+1.)**2/49. -\n",
    "        (9.*y+1.)/10.\n",
    "    ) +\n",
    "    0.5*np.exp(\n",
    "        -(\n",
    "            (9.*x-7.)**2 +\n",
    "            (9.*y-3.)**2\n",
    "        )/4.\n",
    "    ) -\n",
    "    0.2*np.exp(\n",
    "        -(9.*x-4.)**2 -\n",
    "        (9.*y-7.)**2\n",
    "    )\n",
    ")"
   ]
  },
  {
   "cell_type": "markdown",
   "metadata": {},
   "source": [
    "The NAG Library supplies a very configurable function (based on the TSFIT package of Davydov and Zeilfelder) for fitting a smooth ($C^1$ or $C^2$) surface to scattered data: [`fit.dim2_spline_ts_sctr`](https://www.nag.com/numeric/py/nagdoc_latest/naginterfaces.library.fit.html#naginterfaces.library.fit.dim2_spline_ts_sctr).\n",
    "\n",
    "We need to choose a granularity for the triangulation that the function will use"
   ]
  },
  {
   "cell_type": "code",
   "execution_count": null,
   "metadata": {},
   "outputs": [],
   "source": [
    "nxcels = 6\n",
    "nycels = 6"
   ]
  },
  {
   "cell_type": "markdown",
   "metadata": {},
   "source": [
    "and also filtering thresholds for that triangulation"
   ]
  },
  {
   "cell_type": "code",
   "execution_count": null,
   "metadata": {},
   "outputs": [],
   "source": [
    "lsminp = 3\n",
    "lsmaxp = 100"
   ]
  },
  {
   "cell_type": "markdown",
   "metadata": {},
   "source": [
    "The fitting function needs its communication state to be initialized using the `fit` Chapter's initialization and option-setting function"
   ]
  },
  {
   "cell_type": "code",
   "execution_count": null,
   "metadata": {},
   "outputs": [],
   "source": [
    "from naginterfaces.library import fit\n",
    "comm = {}\n",
    "fit.opt_set('Initialize = dim2_spline_ts_sctr', comm)"
   ]
  },
  {
   "cell_type": "markdown",
   "metadata": {},
   "source": [
    "Further algorithmic options can also be configured using the option-setting function, if the documented defaults are not desired; we would like to use $C^2$ global smoothing and for the local approximations on the triangulation to use averaged radial basis functions"
   ]
  },
  {
   "cell_type": "code",
   "execution_count": null,
   "metadata": {},
   "outputs": [],
   "source": [
    "for fit_opt in [\n",
    "    'Global Smoothing Level = 2',\n",
    "    'Averaged Spline = Yes',\n",
    "    'Local Method = RBF',\n",
    "]:\n",
    "    fit.opt_set(fit_opt, comm)"
   ]
  },
  {
   "cell_type": "markdown",
   "metadata": {},
   "source": [
    "Now compute the spline coefficients, which are entered into the communication structure for subsequent use by the evaluation functions for the fitter"
   ]
  },
  {
   "cell_type": "code",
   "execution_count": null,
   "metadata": {},
   "outputs": [],
   "source": [
    "fit.dim2_spline_ts_sctr(\n",
    "    x, y, f, lsminp, lsmaxp, nxcels, nycels, comm,\n",
    ")"
   ]
  },
  {
   "cell_type": "markdown",
   "metadata": {},
   "source": [
    "For plotting the spline we use the associated mesh evaluator, which is `fit.dim2_spline_ts_evalm`. For the evaluation this requires a vector of $x$ coordinates and a vector of $y$ coordinates"
   ]
  },
  {
   "cell_type": "code",
   "execution_count": null,
   "metadata": {},
   "outputs": [],
   "source": [
    "x_m = np.linspace(0, 1, 101)\n",
    "y_m = np.linspace(0, 1, 101)"
   ]
  },
  {
   "cell_type": "markdown",
   "metadata": {},
   "source": [
    "The values of the spline on the grid defined by these vectors is then"
   ]
  },
  {
   "cell_type": "code",
   "execution_count": null,
   "metadata": {},
   "outputs": [],
   "source": [
    "z_m = fit.dim2_spline_ts_evalm(x_m, y_m, comm)"
   ]
  },
  {
   "cell_type": "markdown",
   "metadata": {},
   "source": [
    "For compatibility with surface plotting in `matplotlib` we need to convert the mesh vectors into a mesh grid"
   ]
  },
  {
   "cell_type": "code",
   "execution_count": null,
   "metadata": {},
   "outputs": [],
   "source": [
    "X, Y = np.meshgrid(x_m, y_m, indexing='ij')"
   ]
  },
  {
   "cell_type": "markdown",
   "metadata": {},
   "source": [
    "Now plot the spline surface (in wireframe here) with a projection of the contours and the original $(x, y, f)$ data as x's"
   ]
  },
  {
   "cell_type": "markdown",
   "metadata": {},
   "source": [
    "We use the nbagg matplotlib interface to make a 3D plot of our fitted spline"
   ]
  },
  {
   "cell_type": "code",
   "execution_count": null,
   "metadata": {},
   "outputs": [],
   "source": [
    "%matplotlib notebook\n",
    "import matplotlib\n",
    "import matplotlib.pyplot as plt\n",
    "matplotlib.use('nbagg')\n",
    "from mpl_toolkits.mplot3d import Axes3D\n",
    "from matplotlib import cm\n",
    "fig = plt.figure()\n",
    "ax = Axes3D(fig)\n",
    "ax.grid(False)\n",
    "ax.plot_wireframe(X, Y, z_m, color='red', linewidths=0.4)\n",
    "ax.contour(X, Y, z_m, 15, offset=-1.2, cmap=cm.jet)\n",
    "ax.set_title('Spline Fit of the Franke Function')\n",
    "ax.set_xlabel(r'$\\mathit{x}$')\n",
    "ax.set_ylabel(r'$\\mathit{y}$')\n",
    "ax.set_zlim3d(-1.2, 1.2)\n",
    "ax.azim = -20\n",
    "ax.elev = 20\n",
    "res = ax.scatter(x, y, f, marker='x')"
   ]
  },
  {
   "cell_type": "code",
   "execution_count": null,
   "metadata": {
    "scrolled": true
   },
   "outputs": [],
   "source": [
    "plt.show()"
   ]
  }
 ],
 "metadata": {
  "kernelspec": {
   "display_name": "Python 3",
   "language": "python",
   "name": "python3"
  },
  "language_info": {
   "codemirror_mode": {
    "name": "ipython",
    "version": 3
   },
   "file_extension": ".py",
   "mimetype": "text/x-python",
   "name": "python",
   "nbconvert_exporter": "python",
   "pygments_lexer": "ipython3",
   "version": "3.6.1"
  }
 },
 "nbformat": 4,
 "nbformat_minor": 2
}
