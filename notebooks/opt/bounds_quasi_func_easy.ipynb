{
 "cells": [
  {
   "cell_type": "markdown",
   "metadata": {},
   "source": [
    "# Minimizing the generalized Rosenbrock function\n",
    "\n",
    "Suppose that we wish to minimize the ‘generalized Rosenbrock’ function using\n",
    "bound constrained optimization.\n",
    "\n",
    "Interfaces to the NAG Library are provided in the ``naginterfaces.library``\n",
    "subpackage\n",
    "\n",
    "One can see from the HTML documentation at https://www.nag.com/numeric/py/nagdoc_latest/naginterfaces.library.html that the relevant algorithmic submodule for (local) optimization is ``opt``.\n",
    "\n",
    "Studying the `opt` Functionality Index confirms that the relevant optimization solver to call is\n",
    "``bounds_quasi_func_easy``. The HTML documentation for this solver is at https://www.nag.com/numeric/py/nagdoc_latest/naginterfaces.library.opt.html#naginterfaces.library.opt.bounds_quasi_func_easy.\n",
    "\n",
    "The optimization solver may be imported directly if desired"
   ]
  },
  {
   "cell_type": "code",
   "execution_count": 1,
   "metadata": {},
   "outputs": [],
   "source": [
    "from naginterfaces.library.opt import bounds_quasi_func_easy"
   ]
  },
  {
   "cell_type": "markdown",
   "metadata": {},
   "source": [
    "Now define the optimization problem: first, the objective function for the\n",
    "generalized Rosenbrock problem. From the documented signature of the NAG routine"
   ]
  },
  {
   "cell_type": "code",
   "execution_count": 2,
   "metadata": {},
   "outputs": [
    {
     "name": "stdout",
     "output_type": "stream",
     "text": [
      "Help on function bounds_quasi_func_easy in module naginterfaces.library.opt:\n",
      "\n",
      "bounds_quasi_func_easy(ibound, funct1, bl, bu, x, liw=None, lw=None, data=None)\n",
      "    Bound constrained minimum, quasi-Newton algorithm, using function\n",
      "    values only (easy-to-use).\n",
      "    \n",
      "    For full information please refer to the NAG Library document for\n",
      "    e04jy\n",
      "    \n",
      "    https://www.nag.com/numeric/fl/nagdoc_fl26.2/html/e04/e04jyf.html\n",
      "    \n",
      "    Parameters\n",
      "    ----------\n",
      "    ibound : int\n",
      "        Indicates whether the facility for dealing with bounds of\n",
      "        special forms is to be used.\n",
      "    \n",
      "        It must be set to one of the following values:\n",
      "    \n",
      "        - `ibound` = 0 If you are supplying all the l_j and u_j\n",
      "          individually.\n",
      "    \n",
      "        - `ibound` = 1 If there are no bounds on any x_j.\n",
      "    \n",
      "        - `ibound` = 2 If all the bounds are of the form 0 <= x_j.\n",
      "    \n",
      "        - `ibound` = 3 If l_1 = l_2 = ... = l_n and u_1 = u_2 = ... =\n",
      "          u_n.\n",
      "    \n",
      "    funct1 : callable fc = funct1(xc, data=None)\n",
      "        You must supply `funct1` to calculate the value of the function\n",
      "        F(x) at any point x.\n",
      "    \n",
      "        It should be tested separately before being used with\n",
      "        ``bounds_quasi_func_easy`` .\n",
      "    \n",
      "        Parameters\n",
      "            xc : float, ndarray, shape (n)\n",
      "                The point x at which the function value is required.\n",
      "    \n",
      "            data : arbitrary, optional, modifiable in place\n",
      "                User-communication data for callback functions.\n",
      "    \n",
      "        Returns\n",
      "            fc : float\n",
      "                The value of the function F at the current point x.\n",
      "    \n",
      "    bl : float, array-like, shape (n)\n",
      "        The lower bounds l_j.\n",
      "    \n",
      "        If `ibound` is set to 0, you must set `bl`[j-1] to l_j, for j =\n",
      "        1,2,...,n. (If a lower bound is not specified for a particular\n",
      "        x_j, the corresponding `bl`[j-1] should be set to -10^6.)\n",
      "    \n",
      "        If `ibound` is set to 3, you must set `bl`[0] to l_1;\n",
      "        ``bounds_quasi_func_easy`` will then set the remaining elements\n",
      "        of `bl` equal to `bl`[0].\n",
      "    \n",
      "    bu : float, array-like, shape (n)\n",
      "        The upper bounds u_j.\n",
      "    \n",
      "        If `ibound` is set to 0, you must set `bu`[j-1] to u_j, for j =\n",
      "        1,2,...,n. (If an upper bound is not specified for a particular\n",
      "        x_j, the corresponding `bu`[j-1] should be set to 10^6.)\n",
      "    \n",
      "        If `ibound` is set to 3, you must set `bu`[0] to u_1;\n",
      "        ``bounds_quasi_func_easy`` will then set the remaining elements\n",
      "        of `bu` equal to `bu`[0].\n",
      "    \n",
      "    x : float, array-like, shape (n)\n",
      "        `x`[j-1] must be set to an estimate of the jth component of the\n",
      "        position of the minimum, for j = 1,2,...,n.\n",
      "    \n",
      "    liw : int, optional\n",
      "        Note: if this argument is ``None`` then a default value will be\n",
      "        used, determined as follows: n+2.\n",
      "    \n",
      "        The dimension of the array `iw`.\n",
      "    \n",
      "    lw : int, optional\n",
      "        Note: if this argument is ``None`` then a default value will be\n",
      "        used, determined as follows: max(n*(n-1)/2+12*n, 13).\n",
      "    \n",
      "        The dimension of the array `w`.\n",
      "    \n",
      "    data : arbitrary, optional\n",
      "        User-communication data for callback functions.\n",
      "    \n",
      "    Returns\n",
      "    -------\n",
      "    bl : float, ndarray, shape (n)\n",
      "        The lower bounds actually used by ``bounds_quasi_func_easy``.\n",
      "    \n",
      "    bu : float, ndarray, shape (n)\n",
      "        The upper bounds actually used by ``bounds_quasi_func_easy``.\n",
      "    \n",
      "    x : float, ndarray, shape (n)\n",
      "        The lowest point found during the calculations. Thus, if no\n",
      "        exception or warning is raised on exit, `x`[j-1] is the jth\n",
      "        component of the position of the minimum.\n",
      "    \n",
      "    f : float\n",
      "        The value of F(x) corresponding to the final point stored in\n",
      "        `x`.\n",
      "    \n",
      "    iw : int, ndarray, shape (`liw`)\n",
      "        If the function exits successfully or `errno` = 3 or 5, the\n",
      "        first n elements of `iw` contain information about which\n",
      "        variables are currently on their bounds and which are free.\n",
      "        Specifically, if x_i is:\n",
      "    \n",
      "        - -- fixed on its upper bound, `iw`[i-1] is -1;\n",
      "    \n",
      "        - -- fixed on its lower bound, `iw`[i-1] is -2;\n",
      "    \n",
      "        - -- effectively a constant (i.e., l_j = u_j), `iw`[i-1] is -3;\n",
      "    \n",
      "        - -- free, `iw`[i-1] gives its position in the sequence of free\n",
      "          variables.\n",
      "    \n",
      "        In addition, `iw`[n] contains the number of free variables\n",
      "        (i.e., n_z).\n",
      "    \n",
      "        The rest of the array is used as workspace.\n",
      "    \n",
      "    w : float, ndarray, shape (`lw`)\n",
      "        If the function exits successfully or `errno` = 3 or 5, `w`[i-1]\n",
      "        contains a finite difference approximation to the ith element of\n",
      "        the projected gradient vector g_z, for i = 1,2,...,n. In\n",
      "        addition, `w`[n] contains an estimate of the condition number of\n",
      "        the projected Hessian matrix (i.e., k). The rest of the array is\n",
      "        used as workspace.\n",
      "    \n",
      "    Raises\n",
      "    ------\n",
      "    NagAlgorithmicWarning\n",
      "        (`errno` 3)\n",
      "            The conditions for a minimum have not all been met but a\n",
      "            lower point could not be found and the algorithm has failed.\n",
      "    \n",
      "        (`errno` 5)\n",
      "            It is probable that a local minimum has been found, but it\n",
      "            cannot be guaranteed.\n",
      "    \n",
      "        (`errno` 6)\n",
      "            It is probable that a local minimum has been found, but it\n",
      "            cannot be guaranteed.\n",
      "    \n",
      "        (`errno` 7)\n",
      "            It is unlikely that a local minimum has been found.\n",
      "    \n",
      "        (`errno` 8)\n",
      "            It is very unlikely that a local minimum has been found.\n",
      "    \n",
      "    NagValueError\n",
      "        (`errno` 1)\n",
      "            On entry, n = *<value>*.\n",
      "    \n",
      "            Constraint: n >= 1.\n",
      "    \n",
      "        (`errno` 1)\n",
      "            On entry, `ibound` = *<value>*.\n",
      "    \n",
      "            Constraint: 0 <= `ibound` <= 3.\n",
      "    \n",
      "        (`errno` 1)\n",
      "            On entry, `lw` = *<value>*.\n",
      "    \n",
      "            Constraint: `lw` >= *<value>*.\n",
      "    \n",
      "        (`errno` 1)\n",
      "            On entry, `liw` = *<value>*.\n",
      "    \n",
      "            Constraint: `liw` >= *<value>*.\n",
      "    \n",
      "        (`errno` 1)\n",
      "            On entry, either `ibound` = 0 and `bl`[j-1] > `bu`[j-1] for\n",
      "            some j, or `ibound` = 3 and `bl`[0] > `bu`[0].\n",
      "    \n",
      "        (`errno` 2)\n",
      "            There have been 400*n calls to `funct1`.\n",
      "    \n",
      "        (`errno` 4)\n",
      "            An overflow occurred during computation.\n",
      "    \n",
      "        (`errno` 9)\n",
      "            The modulus of a variable has become very large. There may\n",
      "            be a mistake in `funct1`, your problem has no finite\n",
      "            solution, or the problem needs rescaling.\n",
      "    \n",
      "        (`errno` 10)\n",
      "            One of the forward differences was negative.\n",
      "    \n",
      "    Notes\n",
      "    -----\n",
      "    No equivalent for this routine exists in the NAG C Library.\n",
      "\n"
     ]
    }
   ],
   "source": [
    "help(bounds_quasi_func_easy)"
   ]
  },
  {
   "cell_type": "markdown",
   "metadata": {},
   "source": [
    "we can infer that parameter ``funct1`` may be specified as a\n",
    "lambda expression in our case, where we do not have any communication data\n",
    "(``data``) to pass to the function"
   ]
  },
  {
   "cell_type": "code",
   "execution_count": 3,
   "metadata": {},
   "outputs": [],
   "source": [
    "rosen = lambda x: (sum(100.0*(x[1:]-x[:-1]**2.0)**2.0 + (1.0-x[:-1])**2.0))"
   ]
  },
  {
   "cell_type": "markdown",
   "metadata": {},
   "source": [
    "Here is a contour plot of the function:"
   ]
  },
  {
   "cell_type": "code",
   "execution_count": 4,
   "metadata": {},
   "outputs": [],
   "source": [
    "# Jupyter magic for displaying figures inline:\n",
    "%matplotlib inline"
   ]
  },
  {
   "cell_type": "code",
   "execution_count": 5,
   "metadata": {},
   "outputs": [
    {
     "data": {
      "image/png": "[encoded data removed]",
      "text/plain": [
       "<Figure size 432x288 with 1 Axes>"
      ]
     },
     "metadata": {
      "needs_background": "light"
     },
     "output_type": "display_data"
    }
   ],
   "source": [
    "import matplotlib\n",
    "import numpy as np\n",
    "import matplotlib.cm as cm\n",
    "import matplotlib.pyplot as plt\n",
    "\n",
    "delta = 0.025\n",
    "x = np.arange(-3., 3., delta)\n",
    "y = np.arange(-3., 3., delta)\n",
    "X, Y = np.meshgrid(x, y)\n",
    "Z = np.empty((len(X), len(Y)))\n",
    "for i, x_i in enumerate(x):\n",
    "    for j, y_j in enumerate(y):\n",
    "        Z[j, i] = rosen(np.array([x_i, y_j]))\n",
    "\n",
    "ax = plt.axes()\n",
    "ax.contour(\n",
    "    X, Y, Z,\n",
    "    levels=[5, 25, 50, 100, 250, 500, 1000, 1500, 2000, 2500],\n",
    "    cmap=cm.jet,\n",
    ")\n",
    "ax.set_title('Contours of the Rosenbrock Function')\n",
    "\n",
    "plt.show()"
   ]
  },
  {
   "cell_type": "markdown",
   "metadata": {},
   "source": [
    "Then define an initial guess for the optimization. In the\n",
    "``naginterfaces.library`` subpackage input array data may be supplied in any\n",
    "‘array-like’ container, as noted above in the ``float, array-like, shape (n)``\n",
    "specification for argument ``x``. For our one-dimensional ``x``, this means\n",
    "that any sequence of data will be a suitable container, as will a\n",
    "``numpy.ndarray``.\n",
    "(In functions taking multi-dimensional data, nested sequences and again\n",
    "instances of ``numpy.ndarray`` are valid.) Furthermore, the shape (length) of\n",
    "the ``x`` we supply determines the (inferred) value of ``n`` for the problem.\n",
    "\n",
    "Our chosen start point is $(0., 0., 0., 0.)$ and thus any of the\n",
    "following may be used to supply the ‘array-like’ vector ``x``:\n",
    "\n",
    "- as a ``list``\n"
   ]
  },
  {
   "cell_type": "code",
   "execution_count": 6,
   "metadata": {},
   "outputs": [],
   "source": [
    "x = [0.]*4"
   ]
  },
  {
   "cell_type": "markdown",
   "metadata": {},
   "source": [
    "- as a ``tuple``"
   ]
  },
  {
   "cell_type": "code",
   "execution_count": 7,
   "metadata": {},
   "outputs": [],
   "source": [
    "x = (0., 0., 0., 0.)"
   ]
  },
  {
   "cell_type": "markdown",
   "metadata": {},
   "source": [
    "- as an ``ndarray``\n"
   ]
  },
  {
   "cell_type": "code",
   "execution_count": 8,
   "metadata": {},
   "outputs": [],
   "source": [
    "x = np.array([0.]*4)"
   ]
  },
  {
   "cell_type": "markdown",
   "metadata": {},
   "source": [
    "Now define box bounds for the problem"
   ]
  },
  {
   "cell_type": "code",
   "execution_count": 9,
   "metadata": {},
   "outputs": [],
   "source": [
    "n = len(x)\n",
    "bl, bu = [0.0]*n, [2.0]*n\n",
    "ibound = 0"
   ]
  },
  {
   "cell_type": "markdown",
   "metadata": {},
   "source": [
    "Minimize the problem"
   ]
  },
  {
   "cell_type": "code",
   "execution_count": 10,
   "metadata": {},
   "outputs": [],
   "source": [
    "opt_soln = bounds_quasi_func_easy(ibound, rosen, bl, bu, x)"
   ]
  },
  {
   "cell_type": "markdown",
   "metadata": {},
   "source": [
    "Arguments returned by the NAG routine can be accessed as named fields of the return tuple.\n",
    "\n",
    "Display the results"
   ]
  },
  {
   "cell_type": "code",
   "execution_count": 11,
   "metadata": {},
   "outputs": [
    {
     "name": "stdout",
     "output_type": "stream",
     "text": [
      "Function value at lowest point found is 0.00000.\n",
      "The corresponding x is (1.0000, 1.0000, 1.0000, 1.0000).\n"
     ]
    }
   ],
   "source": [
    "print('Function value at lowest point found is {:.5f}.'.format(opt_soln.f))\n",
    "print('The corresponding x is (' + ', '.join(['{:.4f}'] * n).format(*opt_soln.x) + ').')"
   ]
  }
 ],
 "metadata": {
  "kernelspec": {
   "display_name": "Python 3",
   "language": "python",
   "name": "python3"
  },
  "language_info": {
   "codemirror_mode": {
    "name": "ipython",
    "version": 3
   },
   "file_extension": ".py",
   "mimetype": "text/x-python",
   "name": "python",
   "nbconvert_exporter": "python",
   "pygments_lexer": "ipython3",
   "version": "3.7.1"
  }
 },
 "nbformat": 4,
 "nbformat_minor": 1
}
