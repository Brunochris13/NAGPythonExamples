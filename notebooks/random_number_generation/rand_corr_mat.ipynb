{
 "cells": [
  {
   "cell_type": "markdown",
   "metadata": {},
   "source": [
    "# Notebook to test out NAG Python Library\n",
    "## Generate a random correlation matrix (g05py)"
   ]
  },
  {
   "cell_type": "code",
   "execution_count": 13,
   "metadata": {},
   "outputs": [],
   "source": [
    "import numpy as np\n",
    "import naginterfaces.library.rand as nirand"
   ]
  },
  {
   "cell_type": "code",
   "execution_count": 14,
   "metadata": {},
   "outputs": [],
   "source": [
    "n=10\n",
    "d = np.random.rand(n)\n",
    "c = np.zeros((n,n))"
   ]
  },
  {
   "cell_type": "code",
   "execution_count": 15,
   "metadata": {},
   "outputs": [
    {
     "data": {
      "text/plain": [
       "10.0"
      ]
     },
     "execution_count": 15,
     "metadata": {},
     "output_type": "execute_result"
    }
   ],
   "source": [
    "#ensure the sum of d is the same as the number of elements\n",
    "d = d*n/d.sum()\n",
    "d.sum()"
   ]
  },
  {
   "cell_type": "code",
   "execution_count": 16,
   "metadata": {},
   "outputs": [],
   "source": [
    "seed = [1]\n",
    "statecomm = nirand.init_repeat(1,seed)"
   ]
  },
  {
   "cell_type": "code",
   "execution_count": 17,
   "metadata": {},
   "outputs": [],
   "source": [
    "c = nirand.matrix_corr(d,statecomm)"
   ]
  },
  {
   "cell_type": "code",
   "execution_count": 18,
   "metadata": {},
   "outputs": [
    {
     "name": "stdout",
     "output_type": "stream",
     "text": [
      "[[ 1.          0.23260461 -0.20699425  0.1746899   0.09191297 -0.02054284\n",
      "   0.07346529 -0.14854648  0.04748459 -0.21840465]\n",
      " [ 0.23260461  1.         -0.44685587  0.11398157 -0.26410675  0.12153656\n",
      "  -0.20791305  0.09983093 -0.06560104 -0.10978248]\n",
      " [-0.20699425 -0.44685587  1.         -0.14438611  0.12809883 -0.00373178\n",
      "   0.18136475 -0.02285114  0.27715092  0.11966316]\n",
      " [ 0.1746899   0.11398157 -0.14438611  1.          0.24704935  0.23420144\n",
      "   0.05583548  0.1589859  -0.19291555  0.01554972]\n",
      " [ 0.09191297 -0.26410675  0.12809883  0.24704935  1.          0.09081158\n",
      "   0.38131824  0.13653079 -0.05963965  0.11105501]\n",
      " [-0.02054284  0.12153656 -0.00373178  0.23420144  0.09081158  1.\n",
      "   0.46927305  0.15063306 -0.22237532 -0.03749031]\n",
      " [ 0.07346529 -0.20791305  0.18136475  0.05583548  0.38131824  0.46927305\n",
      "   1.         -0.0215151   0.04545131 -0.30564952]\n",
      " [-0.14854648  0.09983093 -0.02285114  0.1589859   0.13653079  0.15063306\n",
      "  -0.0215151   1.          0.28806031  0.48624438]\n",
      " [ 0.04748459 -0.06560104  0.27715092 -0.19291555 -0.05963965 -0.22237532\n",
      "   0.04545131  0.28806031  1.         -0.31013848]\n",
      " [-0.21840465 -0.10978248  0.11966316  0.01554972  0.11105501 -0.03749031\n",
      "  -0.30564952  0.48624438 -0.31013848  1.        ]]\n"
     ]
    }
   ],
   "source": [
    "print (np.matrix(c))"
   ]
  },
  {
   "cell_type": "markdown",
   "metadata": {},
   "source": [
    "## Try the same thing but with pandas dataframes"
   ]
  },
  {
   "cell_type": "code",
   "execution_count": 1,
   "metadata": {},
   "outputs": [],
   "source": [
    "import numpy as np\n",
    "import pandas as pd\n",
    "from naginterfaces.library import rand as nag_rand"
   ]
  },
  {
   "cell_type": "code",
   "execution_count": 2,
   "metadata": {},
   "outputs": [],
   "source": [
    "n=10\n",
    "df = pd.DataFrame(np.random.rand(n))"
   ]
  },
  {
   "cell_type": "code",
   "execution_count": 3,
   "metadata": {},
   "outputs": [
    {
     "data": {
      "text/html": [
       "<div>\n",
       "<style scoped>\n",
       "    .dataframe tbody tr th:only-of-type {\n",
       "        vertical-align: middle;\n",
       "    }\n",
       "\n",
       "    .dataframe tbody tr th {\n",
       "        vertical-align: top;\n",
       "    }\n",
       "\n",
       "    .dataframe thead th {\n",
       "        text-align: right;\n",
       "    }\n",
       "</style>\n",
       "<table border=\"1\" class=\"dataframe\">\n",
       "  <thead>\n",
       "    <tr style=\"text-align: right;\">\n",
       "      <th></th>\n",
       "      <th>0</th>\n",
       "    </tr>\n",
       "  </thead>\n",
       "  <tbody>\n",
       "    <tr>\n",
       "      <th>0</th>\n",
       "      <td>0.354070</td>\n",
       "    </tr>\n",
       "    <tr>\n",
       "      <th>1</th>\n",
       "      <td>0.210462</td>\n",
       "    </tr>\n",
       "    <tr>\n",
       "      <th>2</th>\n",
       "      <td>0.898313</td>\n",
       "    </tr>\n",
       "    <tr>\n",
       "      <th>3</th>\n",
       "      <td>0.194417</td>\n",
       "    </tr>\n",
       "    <tr>\n",
       "      <th>4</th>\n",
       "      <td>0.535516</td>\n",
       "    </tr>\n",
       "  </tbody>\n",
       "</table>\n",
       "</div>"
      ],
      "text/plain": [
       "          0\n",
       "0  0.354070\n",
       "1  0.210462\n",
       "2  0.898313\n",
       "3  0.194417\n",
       "4  0.535516"
      ]
     },
     "execution_count": 3,
     "metadata": {},
     "output_type": "execute_result"
    }
   ],
   "source": [
    "df.head()"
   ]
  },
  {
   "cell_type": "code",
   "execution_count": 4,
   "metadata": {},
   "outputs": [],
   "source": [
    "df = df*n/df.sum()"
   ]
  },
  {
   "cell_type": "code",
   "execution_count": 5,
   "metadata": {},
   "outputs": [
    {
     "data": {
      "text/plain": [
       "0    10.0\n",
       "dtype: float64"
      ]
     },
     "execution_count": 5,
     "metadata": {},
     "output_type": "execute_result"
    }
   ],
   "source": [
    "df.sum()"
   ]
  },
  {
   "cell_type": "code",
   "execution_count": 6,
   "metadata": {},
   "outputs": [
    {
     "data": {
      "text/plain": [
       "0    0.721628\n",
       "1    0.428942\n",
       "2    1.830848\n",
       "3    0.396239\n",
       "4    1.091432\n",
       "5    0.248018\n",
       "6    1.899359\n",
       "7    1.740560\n",
       "8    1.134528\n",
       "9    0.508448\n",
       "Name: 0, dtype: float64"
      ]
     },
     "execution_count": 6,
     "metadata": {},
     "output_type": "execute_result"
    }
   ],
   "source": [
    "df[0]"
   ]
  },
  {
   "cell_type": "code",
   "execution_count": 7,
   "metadata": {},
   "outputs": [],
   "source": [
    "seed_pd = [1]\n",
    "statecomm_pd = nag_rand.init_repeat(1,seed_pd)"
   ]
  },
  {
   "cell_type": "code",
   "execution_count": 8,
   "metadata": {},
   "outputs": [
    {
     "data": {
      "text/html": [
       "<div>\n",
       "<style scoped>\n",
       "    .dataframe tbody tr th:only-of-type {\n",
       "        vertical-align: middle;\n",
       "    }\n",
       "\n",
       "    .dataframe tbody tr th {\n",
       "        vertical-align: top;\n",
       "    }\n",
       "\n",
       "    .dataframe thead th {\n",
       "        text-align: right;\n",
       "    }\n",
       "</style>\n",
       "<table border=\"1\" class=\"dataframe\">\n",
       "  <thead>\n",
       "    <tr style=\"text-align: right;\">\n",
       "      <th></th>\n",
       "      <th>0</th>\n",
       "      <th>1</th>\n",
       "      <th>2</th>\n",
       "      <th>3</th>\n",
       "      <th>4</th>\n",
       "      <th>5</th>\n",
       "      <th>6</th>\n",
       "      <th>7</th>\n",
       "      <th>8</th>\n",
       "      <th>9</th>\n",
       "    </tr>\n",
       "  </thead>\n",
       "  <tbody>\n",
       "    <tr>\n",
       "      <th>0</th>\n",
       "      <td>0.163645</td>\n",
       "      <td>0.518175</td>\n",
       "      <td>0.457185</td>\n",
       "      <td>0.733846</td>\n",
       "      <td>0.165786</td>\n",
       "      <td>0.888173</td>\n",
       "      <td>0.372544</td>\n",
       "      <td>0.234723</td>\n",
       "      <td>0.294216</td>\n",
       "      <td>0.654803</td>\n",
       "    </tr>\n",
       "    <tr>\n",
       "      <th>1</th>\n",
       "      <td>0.079415</td>\n",
       "      <td>0.429038</td>\n",
       "      <td>0.774631</td>\n",
       "      <td>0.046785</td>\n",
       "      <td>0.915193</td>\n",
       "      <td>0.622330</td>\n",
       "      <td>0.540092</td>\n",
       "      <td>0.032444</td>\n",
       "      <td>0.965679</td>\n",
       "      <td>0.211507</td>\n",
       "    </tr>\n",
       "    <tr>\n",
       "      <th>2</th>\n",
       "      <td>0.992866</td>\n",
       "      <td>0.190498</td>\n",
       "      <td>0.440074</td>\n",
       "      <td>0.590568</td>\n",
       "      <td>0.008585</td>\n",
       "      <td>0.170196</td>\n",
       "      <td>0.190414</td>\n",
       "      <td>0.084277</td>\n",
       "      <td>0.276852</td>\n",
       "      <td>0.769881</td>\n",
       "    </tr>\n",
       "    <tr>\n",
       "      <th>3</th>\n",
       "      <td>0.389242</td>\n",
       "      <td>0.318743</td>\n",
       "      <td>0.203588</td>\n",
       "      <td>0.314976</td>\n",
       "      <td>0.492470</td>\n",
       "      <td>0.417806</td>\n",
       "      <td>0.838833</td>\n",
       "      <td>0.895562</td>\n",
       "      <td>0.113684</td>\n",
       "      <td>0.982116</td>\n",
       "    </tr>\n",
       "    <tr>\n",
       "      <th>4</th>\n",
       "      <td>0.537348</td>\n",
       "      <td>0.702225</td>\n",
       "      <td>0.720019</td>\n",
       "      <td>0.383664</td>\n",
       "      <td>0.861587</td>\n",
       "      <td>0.963515</td>\n",
       "      <td>0.267661</td>\n",
       "      <td>0.397595</td>\n",
       "      <td>0.748987</td>\n",
       "      <td>0.971590</td>\n",
       "    </tr>\n",
       "  </tbody>\n",
       "</table>\n",
       "</div>"
      ],
      "text/plain": [
       "          0         1         2         3         4         5         6  \\\n",
       "0  0.163645  0.518175  0.457185  0.733846  0.165786  0.888173  0.372544   \n",
       "1  0.079415  0.429038  0.774631  0.046785  0.915193  0.622330  0.540092   \n",
       "2  0.992866  0.190498  0.440074  0.590568  0.008585  0.170196  0.190414   \n",
       "3  0.389242  0.318743  0.203588  0.314976  0.492470  0.417806  0.838833   \n",
       "4  0.537348  0.702225  0.720019  0.383664  0.861587  0.963515  0.267661   \n",
       "\n",
       "          7         8         9  \n",
       "0  0.234723  0.294216  0.654803  \n",
       "1  0.032444  0.965679  0.211507  \n",
       "2  0.084277  0.276852  0.769881  \n",
       "3  0.895562  0.113684  0.982116  \n",
       "4  0.397595  0.748987  0.971590  "
      ]
     },
     "execution_count": 8,
     "metadata": {},
     "output_type": "execute_result"
    }
   ],
   "source": [
    "c_df = pd.DataFrame(np.random.rand(n,n))\n",
    "c_df.head()"
   ]
  },
  {
   "cell_type": "code",
   "execution_count": 9,
   "metadata": {},
   "outputs": [],
   "source": [
    "c_df = nag_rand.matrix_corr(df[0],statecomm_pd)"
   ]
  },
  {
   "cell_type": "code",
   "execution_count": 10,
   "metadata": {},
   "outputs": [
    {
     "data": {
      "text/plain": [
       "array([[ 1.        ,  0.36145829, -0.29074115, -0.04720323, -0.04245269,\n",
       "        -0.00760673, -0.03770157,  0.12055337, -0.02261   , -0.42180717],\n",
       "       [ 0.36145829,  1.        , -0.11920724, -0.06954159, -0.1142769 ,\n",
       "         0.2630814 , -0.05884122,  0.16252296,  0.10122171, -0.11894888],\n",
       "       [-0.29074115, -0.11920724,  1.        ,  0.05290661,  0.11234829,\n",
       "        -0.19480388,  0.17000543,  0.35323726, -0.08714155,  0.29393853],\n",
       "       [-0.04720323, -0.06954159,  0.05290661,  1.        , -0.08323533,\n",
       "         0.06675441,  0.20375215, -0.13691394, -0.03217804,  0.02954191],\n",
       "       [-0.04245269, -0.1142769 ,  0.11234829, -0.08323533,  1.        ,\n",
       "         0.09814549,  0.19854072, -0.25039883, -0.21720332,  0.08068885],\n",
       "       [-0.00760673,  0.2630814 , -0.19480388,  0.06675441,  0.09814549,\n",
       "         1.        ,  0.15492479, -0.36591919,  0.27478035,  0.14974254],\n",
       "       [-0.03770157, -0.05884122,  0.17000543,  0.20375215,  0.19854072,\n",
       "         0.15492479,  1.        , -0.19712896, -0.48510556, -0.11246942],\n",
       "       [ 0.12055337,  0.16252296,  0.35323726, -0.13691394, -0.25039883,\n",
       "        -0.36591919, -0.19712896,  1.        , -0.10266676, -0.02861866],\n",
       "       [-0.02261   ,  0.10122171, -0.08714155, -0.03217804, -0.21720332,\n",
       "         0.27478035, -0.48510556, -0.10266676,  1.        ,  0.40166297],\n",
       "       [-0.42180717, -0.11894888,  0.29393853,  0.02954191,  0.08068885,\n",
       "         0.14974254, -0.11246942, -0.02861866,  0.40166297,  1.        ]])"
      ]
     },
     "execution_count": 10,
     "metadata": {},
     "output_type": "execute_result"
    }
   ],
   "source": [
    "c_df"
   ]
  },
  {
   "cell_type": "code",
   "execution_count": 11,
   "metadata": {},
   "outputs": [],
   "source": [
    "gdf = pd.DataFrame(c_df)"
   ]
  },
  {
   "cell_type": "code",
   "execution_count": 12,
   "metadata": {},
   "outputs": [
    {
     "data": {
      "text/html": [
       "<div>\n",
       "<style scoped>\n",
       "    .dataframe tbody tr th:only-of-type {\n",
       "        vertical-align: middle;\n",
       "    }\n",
       "\n",
       "    .dataframe tbody tr th {\n",
       "        vertical-align: top;\n",
       "    }\n",
       "\n",
       "    .dataframe thead th {\n",
       "        text-align: right;\n",
       "    }\n",
       "</style>\n",
       "<table border=\"1\" class=\"dataframe\">\n",
       "  <thead>\n",
       "    <tr style=\"text-align: right;\">\n",
       "      <th></th>\n",
       "      <th>0</th>\n",
       "      <th>1</th>\n",
       "      <th>2</th>\n",
       "      <th>3</th>\n",
       "      <th>4</th>\n",
       "      <th>5</th>\n",
       "      <th>6</th>\n",
       "      <th>7</th>\n",
       "      <th>8</th>\n",
       "      <th>9</th>\n",
       "    </tr>\n",
       "  </thead>\n",
       "  <tbody>\n",
       "    <tr>\n",
       "      <th>0</th>\n",
       "      <td>1.000000</td>\n",
       "      <td>0.361458</td>\n",
       "      <td>-0.290741</td>\n",
       "      <td>-0.047203</td>\n",
       "      <td>-0.042453</td>\n",
       "      <td>-0.007607</td>\n",
       "      <td>-0.037702</td>\n",
       "      <td>0.120553</td>\n",
       "      <td>-0.022610</td>\n",
       "      <td>-0.421807</td>\n",
       "    </tr>\n",
       "    <tr>\n",
       "      <th>1</th>\n",
       "      <td>0.361458</td>\n",
       "      <td>1.000000</td>\n",
       "      <td>-0.119207</td>\n",
       "      <td>-0.069542</td>\n",
       "      <td>-0.114277</td>\n",
       "      <td>0.263081</td>\n",
       "      <td>-0.058841</td>\n",
       "      <td>0.162523</td>\n",
       "      <td>0.101222</td>\n",
       "      <td>-0.118949</td>\n",
       "    </tr>\n",
       "    <tr>\n",
       "      <th>2</th>\n",
       "      <td>-0.290741</td>\n",
       "      <td>-0.119207</td>\n",
       "      <td>1.000000</td>\n",
       "      <td>0.052907</td>\n",
       "      <td>0.112348</td>\n",
       "      <td>-0.194804</td>\n",
       "      <td>0.170005</td>\n",
       "      <td>0.353237</td>\n",
       "      <td>-0.087142</td>\n",
       "      <td>0.293939</td>\n",
       "    </tr>\n",
       "    <tr>\n",
       "      <th>3</th>\n",
       "      <td>-0.047203</td>\n",
       "      <td>-0.069542</td>\n",
       "      <td>0.052907</td>\n",
       "      <td>1.000000</td>\n",
       "      <td>-0.083235</td>\n",
       "      <td>0.066754</td>\n",
       "      <td>0.203752</td>\n",
       "      <td>-0.136914</td>\n",
       "      <td>-0.032178</td>\n",
       "      <td>0.029542</td>\n",
       "    </tr>\n",
       "    <tr>\n",
       "      <th>4</th>\n",
       "      <td>-0.042453</td>\n",
       "      <td>-0.114277</td>\n",
       "      <td>0.112348</td>\n",
       "      <td>-0.083235</td>\n",
       "      <td>1.000000</td>\n",
       "      <td>0.098145</td>\n",
       "      <td>0.198541</td>\n",
       "      <td>-0.250399</td>\n",
       "      <td>-0.217203</td>\n",
       "      <td>0.080689</td>\n",
       "    </tr>\n",
       "  </tbody>\n",
       "</table>\n",
       "</div>"
      ],
      "text/plain": [
       "          0         1         2         3         4         5         6  \\\n",
       "0  1.000000  0.361458 -0.290741 -0.047203 -0.042453 -0.007607 -0.037702   \n",
       "1  0.361458  1.000000 -0.119207 -0.069542 -0.114277  0.263081 -0.058841   \n",
       "2 -0.290741 -0.119207  1.000000  0.052907  0.112348 -0.194804  0.170005   \n",
       "3 -0.047203 -0.069542  0.052907  1.000000 -0.083235  0.066754  0.203752   \n",
       "4 -0.042453 -0.114277  0.112348 -0.083235  1.000000  0.098145  0.198541   \n",
       "\n",
       "          7         8         9  \n",
       "0  0.120553 -0.022610 -0.421807  \n",
       "1  0.162523  0.101222 -0.118949  \n",
       "2  0.353237 -0.087142  0.293939  \n",
       "3 -0.136914 -0.032178  0.029542  \n",
       "4 -0.250399 -0.217203  0.080689  "
      ]
     },
     "execution_count": 12,
     "metadata": {},
     "output_type": "execute_result"
    }
   ],
   "source": [
    "gdf.head()"
   ]
  },
  {
   "cell_type": "markdown",
   "metadata": {},
   "source": []
  }
 ],
 "metadata": {
  "kernelspec": {
   "display_name": "Python 3",
   "language": "python",
   "name": "python3"
  },
  "language_info": {
   "codemirror_mode": {
    "name": "ipython",
    "version": 3
   },
   "file_extension": ".py",
   "mimetype": "text/x-python",
   "name": "python",
   "nbconvert_exporter": "python",
   "pygments_lexer": "ipython3",
   "version": "3.6.5"
  }
 },
 "nbformat": 4,
 "nbformat_minor": 2
}
