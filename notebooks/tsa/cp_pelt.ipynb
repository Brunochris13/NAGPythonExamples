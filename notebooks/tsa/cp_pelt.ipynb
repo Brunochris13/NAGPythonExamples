{
 "cells": [
  {
   "cell_type": "markdown",
   "metadata": {},
   "source": [
    "# Change Point Analysis\n",
    "\n",
    "Change points are time points at which some feature of a data set changes. For detecting change points in a univariate time series we can use [`tsa.cp_pelt`](https://www.nag.com/numeric/py/nagdoc_latest/naginterfaces.library.tsa.html#naginterfaces.library.tsa.cp_pelt).\n",
    "\n",
    "Consider the following time series, assumed to be from a Normal distribution"
   ]
  },
  {
   "cell_type": "code",
   "execution_count": 1,
   "metadata": {},
   "outputs": [],
   "source": [
    "y = [\n",
    "    0., 0.78, -0.02, 0.17, 0.04, -1.23, 0.24, 1.7, 0.77, 0.06,\n",
    "    0.67, 0.94, 1.99, 2.64, 2.26, 3.72, 3.14, 2.28, 3.78, 0.83,\n",
    "    2.8, 1.66, 1.93, 2.71, 2.97, 3.04, 2.29, 3.71, 1.69, 2.76,\n",
    "    1.96, 3.17, 1.04, 1.5, 1.12, 1.11, 1., 1.84, 1.78, 2.39,\n",
    "    1.85, 0.62, 2.16, 0.78, 1.7, 0.63, 1.79, 1.21, 2.2, -1.34,\n",
    "    0.04, -0.14, 2.78, 1.83, 0.98, 0.19, 0.57, -1.41, 2.05, 1.17,\n",
    "    0.44, 2.32, 0.67, 0.73, 1.17, -0.34, 2.95, 1.08, 2.16, 2.27,\n",
    "    -0.14, -0.24, 0.27, 1.71, -0.04, -1.03, -0.12, -0.67, 1.15,\n",
    "    -1.1, -1.37, 0.59, 0.44, 0.63, -0.06, -0.62, 0.39, -2.63, -1.63,\n",
    "    -0.42, -0.73, 0.85, 0.26, 0.48, -0.26, -1.77, -1.53, -1.39, 1.68, 0.43,\n",
    "]"
   ]
  },
  {
   "cell_type": "markdown",
   "metadata": {},
   "source": [
    "We wish to look for changes in the mean, which is selected using the following `ctype` value in the NAG routine"
   ]
  },
  {
   "cell_type": "code",
   "execution_count": 2,
   "metadata": {},
   "outputs": [],
   "source": [
    "ctype = 1"
   ]
  },
  {
   "cell_type": "markdown",
   "metadata": {},
   "source": [
    "We are also assuming unit variance for this problem, which must be communicated to the NAG function using the `param` keyword argument"
   ]
  },
  {
   "cell_type": "code",
   "execution_count": 3,
   "metadata": {},
   "outputs": [],
   "source": [
    "param = [1.]"
   ]
  },
  {
   "cell_type": "markdown",
   "metadata": {},
   "source": [
    "Find the change points"
   ]
  },
  {
   "cell_type": "code",
   "execution_count": 4,
   "metadata": {},
   "outputs": [],
   "source": [
    "from naginterfaces.library import tsa\n",
    "soln = tsa.cp_pelt(ctype, y, param=param)"
   ]
  },
  {
   "cell_type": "markdown",
   "metadata": {},
   "source": [
    "The locations of the change points are in attribute `tau` of the return tuple, while the estimated distribution parameters are in attribute `sparam`.\n",
    "\n",
    "Here is a table of the results:"
   ]
  },
  {
   "cell_type": "code",
   "execution_count": 5,
   "metadata": {},
   "outputs": [
    {
     "name": "stdout",
     "output_type": "stream",
     "text": [
      " -- Change Points --         --- Distribution ---\n",
      " Number     Position              Parameters\n",
      "==================================================\n",
      "   1           12            0.34            1.00\n",
      "   2           32            2.57            1.00\n",
      "   3           49            1.45            1.00\n",
      "   4           52           -0.48            1.00\n",
      "   5           70            1.20            1.00\n",
      "   6          100           -0.23            1.00\n"
     ]
    }
   ],
   "source": [
    "print(' -- Change Points --         --- Distribution ---')\n",
    "print(' Number     Position              Parameters')\n",
    "print('='*50)\n",
    "for tau_i, tau_val in enumerate(soln.tau):\n",
    "    print('{:4d}       {:6d}    {:12.2f}    {:12.2f}'.format(\n",
    "        tau_i+1, tau_val, soln.sparam[2*tau_i], soln.sparam[2*tau_i+1],\n",
    "    ))"
   ]
  },
  {
   "cell_type": "markdown",
   "metadata": {},
   "source": [
    "Plot the time series, and also the change points as vertical lines with the corresponding means as horizontal lines"
   ]
  },
  {
   "cell_type": "code",
   "execution_count": 6,
   "metadata": {
    "nbconvert": {
     "hide_code": true
    }
   },
   "outputs": [],
   "source": [
    "# Jupyter magic for displaying figures inline:\n",
    "%matplotlib inline"
   ]
  },
  {
   "cell_type": "code",
   "execution_count": 7,
   "metadata": {},
   "outputs": [
    {
     "data": {
      "image/png": "[encoded data removed]",
      "text/plain": [
       "<Figure size 432x288 with 1 Axes>"
      ]
     },
     "metadata": {
      "needs_background": "light"
     },
     "output_type": "display_data"
    }
   ],
   "source": [
    "import matplotlib.pyplot as plt\n",
    "plt.plot(range(1, len(y)+1), y, color='r', linewidth=0.75)\n",
    "last_cp = 1.\n",
    "for tau_i, tau_val in enumerate(soln.tau):\n",
    "    vl = plt.axvline(tau_val, label='Change pt.')\n",
    "    hl = plt.hlines(\n",
    "        soln.sparam[2*tau_i],\n",
    "        xmin=last_cp, xmax=tau_val, color='g', label='Mean',\n",
    "    )\n",
    "    last_cp = tau_val\n",
    "plt.xlim((1, len(y)))\n",
    "plt.xticks(range(10, len(y)+1, 10))\n",
    "plt.xlabel('Time')\n",
    "plt.ylabel('Value')\n",
    "plt.title(\n",
    "    'Simulated Time Series and\\n'\n",
    "    'Corresponding Changes in Mean')\n",
    "plt.legend(handles=[vl, hl], loc='upper right')\n",
    "plt.show()"
   ]
  }
 ],
 "metadata": {
  "kernelspec": {
   "display_name": "Python 3",
   "language": "python",
   "name": "python3"
  },
  "language_info": {
   "codemirror_mode": {
    "name": "ipython",
    "version": 3
   },
   "file_extension": ".py",
   "mimetype": "text/x-python",
   "name": "python",
   "nbconvert_exporter": "python",
   "pygments_lexer": "ipython3",
   "version": "3.7.1"
  }
 },
 "nbformat": 4,
 "nbformat_minor": 2
}
