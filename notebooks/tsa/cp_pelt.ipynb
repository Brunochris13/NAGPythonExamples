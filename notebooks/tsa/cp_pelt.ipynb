{
 "cells": [
  {
   "cell_type": "markdown",
   "metadata": {},
   "source": [
    "# Change Point Analysis\n",
    "\n",
    "Change points are time points at which some feature of a data set changes. For detecting change points in a univariate time series we can use [`tsa.cp_pelt`](https://www.nag.com/numeric/py/nagdoc_latest/naginterfaces.library.tsa.html#naginterfaces.library.tsa.cp_pelt).\n",
    "\n",
    "Consider the following time series, showing the EUR/GBP exchange rate between January 1999 and December 2018 (numbers indicate Euros per Pound, with FX data from www.macrotrends.net)"
   ]
  },
  {
   "cell_type": "code",
   "execution_count": null,
   "metadata": {},
   "outputs": [],
   "source": [
    "y = [\n",
    "1.41, 1.47, 1.49, 1.49, 1.54, 1.56, 1.54, 1.52, 1.54, 1.56, 1.59, 1.61,\n",
    "1.61, 1.67, 1.64, 1.69, 1.72, 1.61, 1.61, 1.64, 1.64, 1.69, 1.69, 1.67,\n",
    "1.59, 1.59, 1.59, 1.61, 1.61, 1.69, 1.69, 1.64, 1.64, 1.64, 1.64, 1.61,\n",
    "1.61, 1.67, 1.67, 1.64, 1.64, 1.56, 1.56, 1.61, 1.59, 1.61, 1.59, 1.59,\n",
    "1.56, 1.54, 1.47, 1.45, 1.45, 1.41, 1.45, 1.45, 1.47, 1.43, 1.47, 1.45,\n",
    "1.43, 1.47, 1.52, 1.52, 1.49, 1.52, 1.52, 1.54, 1.49, 1.45, 1.45, 1.47,\n",
    "1.43, 1.45, 1.47, 1.47, 1.49, 1.49, 1.49, 1.47, 1.47, 1.49, 1.47, 1.49,\n",
    "1.47, 1.49, 1.47, 1.45, 1.47, 1.47, 1.45, 1.47, 1.49, 1.49, 1.52, 1.49,\n",
    "1.49, 1.52, 1.49, 1.49, 1.47, 1.49, 1.49, 1.49, 1.49, 1.45, 1.45, 1.43,\n",
    "1.35, 1.33, 1.32, 1.27, 1.28, 1.28, 1.27, 1.28, 1.23, 1.27, 1.27, 1.19,\n",
    "1.05, 1.12, 1.12, 1.10, 1.14, 1.16, 1.18, 1.18, 1.15, 1.10, 1.11, 1.11,\n",
    "1.12, 1.15, 1.11, 1.14, 1.16, 1.20, 1.22, 1.22, 1.22, 1.15, 1.16, 1.19,\n",
    "1.16, 1.18, 1.19, 1.14, 1.12, 1.15, 1.11, 1.15, 1.14, 1.18, 1.18, 1.18,\n",
    "1.20, 1.20, 1.20, 1.20, 1.23, 1.25, 1.25, 1.28, 1.27, 1.27, 1.25, 1.23,\n",
    "1.23, 1.16, 1.16, 1.19, 1.19, 1.18, 1.18, 1.15, 1.19, 1.20, 1.19, 1.22,\n",
    "1.20, 1.22, 1.22, 1.22, 1.22, 1.23, 1.27, 1.27, 1.27, 1.30, 1.28, 1.27,\n",
    "1.28, 1.33, 1.39, 1.39, 1.37, 1.41, 1.43, 1.43, 1.37, 1.37, 1.41, 1.43,\n",
    "1.37, 1.33, 1.30, 1.25, 1.28, 1.30, 1.20, 1.19, 1.19, 1.15, 1.11, 1.19,\n",
    "1.18, 1.18, 1.18, 1.18, 1.19, 1.15, 1.15, 1.12, 1.10, 1.14, 1.15, 1.14,\n",
    "1.14, 1.15, 1.12, 1.15, 1.14, 1.15, 1.14, 1.14, 1.12, 1.14, 1.15, 1.13\n",
    "]"
   ]
  },
  {
   "cell_type": "markdown",
   "metadata": {},
   "source": [
    "We wish to look for changes in the mean, which is selected using the following `ctype` value in the NAG routine"
   ]
  },
  {
   "cell_type": "code",
   "execution_count": null,
   "metadata": {},
   "outputs": [],
   "source": [
    "ctype = 1"
   ]
  },
  {
   "cell_type": "markdown",
   "metadata": {},
   "source": [
    "We need to state the assumed variance of the time series data values, communicating it to the NAG function using the `param` keyword argument. Altering this value modifies the sensitivity of the algorithm to differences in the series values, and hence the number of change points detected."
   ]
  },
  {
   "cell_type": "code",
   "execution_count": null,
   "metadata": {},
   "outputs": [],
   "source": [
    "param = [0.2]"
   ]
  },
  {
   "cell_type": "markdown",
   "metadata": {},
   "source": [
    "Find the change points"
   ]
  },
  {
   "cell_type": "code",
   "execution_count": null,
   "metadata": {},
   "outputs": [],
   "source": [
    "from naginterfaces.library import tsa\n",
    "soln = tsa.cp_pelt(ctype, y, param=param)"
   ]
  },
  {
   "cell_type": "markdown",
   "metadata": {},
   "source": [
    "The locations of the change points are in attribute `tau` of the return tuple, while the estimated distribution parameters are in attribute `sparam`.\n",
    "\n",
    "Here is a table of the results:"
   ]
  },
  {
   "cell_type": "code",
   "execution_count": null,
   "metadata": {},
   "outputs": [],
   "source": [
    "print(' -- Change Points --         --- Distribution ---')\n",
    "print(' Number     Position              Parameters')\n",
    "print('='*50)\n",
    "for tau_i, tau_val in enumerate(soln.tau):\n",
    "    print('{:4d}       {:6d}    {:12.2f}    {:12.2f}'.format(\n",
    "        tau_i+1, tau_val, soln.sparam[2*tau_i], soln.sparam[2*tau_i+1],\n",
    "    ))"
   ]
  },
  {
   "cell_type": "markdown",
   "metadata": {},
   "source": [
    "Plot the time series, and also the change points as vertical lines with the corresponding means as horizontal lines"
   ]
  },
  {
   "cell_type": "code",
   "execution_count": null,
   "metadata": {
    "nbconvert": {
     "hide_code": true
    }
   },
   "outputs": [],
   "source": [
    "# Jupyter magic for displaying figures inline:\n",
    "%matplotlib inline"
   ]
  },
  {
   "cell_type": "code",
   "execution_count": null,
   "metadata": {},
   "outputs": [],
   "source": [
    "import matplotlib.pyplot as plt\n",
    "plt.plot(range(1, len(y)+1), y, color='r', linewidth=0.75)\n",
    "last_cp = 1.\n",
    "for tau_i, tau_val in enumerate(soln.tau):\n",
    "    vl = plt.axvline(tau_val, label='Change pt.')\n",
    "    hl = plt.hlines(\n",
    "        soln.sparam[2*tau_i],\n",
    "        xmin=last_cp, xmax=tau_val, color='g', label='Mean',\n",
    "    )\n",
    "    last_cp = tau_val\n",
    "plt.xlim((1, len(y)))\n",
    "t11 = ['1999 Initiation of Euro', '2008 Financial Crisis', '2016 UK EU Referendum']\n",
    "t12 = (0, soln.tau[1]-4, soln.tau[3]-4)\n",
    "plt.xticks(t12, t11, size='small')\n",
    "plt.xlabel('Time - January 1999 to December 2018')\n",
    "plt.ylabel('Euros per Pound')\n",
    "plt.title(\n",
    "    'Monthly EUR-GBP FX rate from January 1999 to December 2018\\n'\n",
    "    '(FX data from www.macrotrends.net)\\n'\n",
    "    'Showing change points determined in the mean')\n",
    "plt.legend(handles=[vl, hl], loc='upper right')\n",
    "plt.show()"
   ]
  }
 ],
 "metadata": {
  "kernelspec": {
   "display_name": "Python 3",
   "language": "python",
   "name": "python3"
  },
  "language_info": {
   "codemirror_mode": {
    "name": "ipython",
    "version": 3
   },
   "file_extension": ".py",
   "mimetype": "text/x-python",
   "name": "python",
   "nbconvert_exporter": "python",
   "pygments_lexer": "ipython3",
   "version": "3.6.1"
  }
 },
 "nbformat": 4,
 "nbformat_minor": 2
}
