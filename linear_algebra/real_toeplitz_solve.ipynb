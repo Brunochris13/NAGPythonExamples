{
 "cells": [
  {
   "cell_type": "markdown",
   "metadata": {},
   "source": [
    "# Making use of Matrix structure"
   ]
  },
  {
   "cell_type": "markdown",
   "metadata": {},
   "source": [
    "The NAG library for Python often contains specialised varations for any given mathematical problem.  In the case of linear solvers, one set of variations caters for coefficient matrices that have a certain structure.  When your problem exhibits such structure, it often pays divideds to use the specialised solver.\n",
    "\n",
    "## Solving linear systems of Toeplitz matrices - An example of exploiting stucture\n",
    "\n",
    "Toeplitz matrices occur in various applications. A couple of examples are given at http://jack.valmadre.net/notes/2015/03/28/symmetric-positive-toeplitz/\n",
    "\n",
    "Here we solve a linear system where the coefficient matrix is a Toeplitz matrix.  First, we make no use of the underlying structure and just use NAG's **dgesv**"
   ]
  },
  {
   "cell_type": "code",
   "execution_count": 1,
   "metadata": {},
   "outputs": [
    {
     "name": "stdout",
     "output_type": "stream",
     "text": [
      "Elapsed time is 5.394560 seconds.\n"
     ]
    }
   ],
   "source": [
    "from naginterfaces.library.lapacklin import dgesv   # A general solver\n",
    "from naginterfaces.library.linsys import real_toeplitz_solve # A toeplitz solver\n",
    "from pytictoc import TicToc\n",
    "import numpy as np\n",
    "import scipy.linalg\n",
    "\n",
    "timer = TicToc()\n",
    "\n",
    "# Construct a real, symmetric, positive definite toeplitz matrix \n",
    "matrix_size = 5000\n",
    "t = np.arange(0,matrix_size);\n",
    "a = np.exp(-np.abs(t)/10);\n",
    "# The toeplitz matrix is defined by it's diagonals.  We can construct the full matrix from the diagonals using scipy\n",
    "A = scipy.linalg.toeplitz(a, a)\n",
    "# Construct and a random Righ hand side\n",
    "np.random.seed(2)\n",
    "b = np.random.rand(matrix_size,1)\n",
    "\n",
    "timer.tic()\n",
    "[asol,ipiv,x_nag_gen] = dgesv(A, b)\n",
    "timer.toc()"
   ]
  },
  {
   "cell_type": "markdown",
   "metadata": {},
   "source": [
    "We will now solve the same problem but make use of the function **real_toeplitz_solve**"
   ]
  },
  {
   "cell_type": "code",
   "execution_count": 2,
   "metadata": {},
   "outputs": [
    {
     "name": "stdout",
     "output_type": "stream",
     "text": [
      "Elapsed time is 0.035298 seconds.\n"
     ]
    }
   ],
   "source": [
    "# NAG's toeplitz solver requires that b be of dimension N instead of N,1\n",
    "# So we reconstruct it with the correct dimension\n",
    "np.random.seed(2)\n",
    "b = np.random.rand(matrix_size)\n",
    "\n",
    "timer.tic()\n",
    "[x_nag_toe,p] = real_toeplitz_solve(matrix_size,a,b,wantp=False)\n",
    "timer.toc()"
   ]
  },
  {
   "cell_type": "code",
   "execution_count": 3,
   "metadata": {},
   "outputs": [
    {
     "data": {
      "text/plain": [
       "153.99999999999997"
      ]
     },
     "execution_count": 3,
     "metadata": {},
     "output_type": "execute_result"
    }
   ],
   "source": [
    "# Let's see how many times faster it is to use the toeplitz solver\n",
    "5.39/0.035"
   ]
  },
  {
   "cell_type": "markdown",
   "metadata": {},
   "source": [
    "It is **well over 100x faster** to use the Toeplitz solver.  We should check that we get the same answers?  \n",
    "Annoyingly, the solution matrices are are different shapes!"
   ]
  },
  {
   "cell_type": "code",
   "execution_count": 5,
   "metadata": {},
   "outputs": [
    {
     "data": {
      "text/plain": [
       "(5000, 1)"
      ]
     },
     "execution_count": 5,
     "metadata": {},
     "output_type": "execute_result"
    }
   ],
   "source": [
    "#Solution from the general solver\n",
    "x_nag_gen.shape"
   ]
  },
  {
   "cell_type": "code",
   "execution_count": 6,
   "metadata": {},
   "outputs": [
    {
     "data": {
      "text/plain": [
       "(5000,)"
      ]
     },
     "execution_count": 6,
     "metadata": {},
     "output_type": "execute_result"
    }
   ],
   "source": [
    "#Solution from the toeplitz solver\n",
    "x_nag_toe.shape"
   ]
  },
  {
   "cell_type": "markdown",
   "metadata": {},
   "source": [
    "but the values agree to high accuracy"
   ]
  },
  {
   "cell_type": "code",
   "execution_count": 8,
   "metadata": {},
   "outputs": [
    {
     "data": {
      "text/plain": [
       "1.1191048088221578e-13"
      ]
     },
     "execution_count": 8,
     "metadata": {},
     "output_type": "execute_result"
    }
   ],
   "source": [
    "np.max(abs(x_nag_gen - np.reshape(x_nag_toe,(matrix_size,1))))"
   ]
  },
  {
   "cell_type": "markdown",
   "metadata": {},
   "source": [
    "## Other linear solvers in the NAG library for Python that make use of various matrix structures \n",
    "\n",
    "Your application may not be able to make use of Toeplitz solvers but it may well be able to take advantage of one of the other specialised linear solvers in the NAG library.  Here's the full list"
   ]
  },
  {
   "cell_type": "code",
   "execution_count": null,
   "metadata": {},
   "outputs": [],
   "source": []
  }
 ],
 "metadata": {
  "kernelspec": {
   "display_name": "Python 3",
   "language": "python",
   "name": "python3"
  },
  "language_info": {
   "codemirror_mode": {
    "name": "ipython",
    "version": 3
   },
   "file_extension": ".py",
   "mimetype": "text/x-python",
   "name": "python",
   "nbconvert_exporter": "python",
   "pygments_lexer": "ipython3",
   "version": "3.7.2"
  }
 },
 "nbformat": 4,
 "nbformat_minor": 2
}
