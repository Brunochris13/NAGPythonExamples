{
 "cells": [
  {
   "cell_type": "markdown",
   "metadata": {},
   "source": [
    "# Notebook to test out NAG Python Library\n",
    "## Generate a random correlation matrix (g05py)"
   ]
  },
  {
   "cell_type": "code",
   "execution_count": 1,
   "metadata": {},
   "outputs": [],
   "source": [
    "import numpy as np\n",
    "import naginterfaces.library.rand as nirand"
   ]
  },
  {
   "cell_type": "code",
   "execution_count": 2,
   "metadata": {},
   "outputs": [],
   "source": [
    "n=10\n",
    "d = np.random.rand(n)\n",
    "c = np.zeros((n,n))"
   ]
  },
  {
   "cell_type": "code",
   "execution_count": 3,
   "metadata": {},
   "outputs": [
    {
     "data": {
      "text/plain": [
       "9.999999999999998"
      ]
     },
     "execution_count": 3,
     "metadata": {},
     "output_type": "execute_result"
    }
   ],
   "source": [
    "#ensure the sum of d is the same as the number of elements\n",
    "d = d*n/d.sum()\n",
    "d.sum()"
   ]
  },
  {
   "cell_type": "code",
   "execution_count": 4,
   "metadata": {},
   "outputs": [],
   "source": [
    "seed = [1]\n",
    "statecomm = nirand.init_repeat(1,seed)"
   ]
  },
  {
   "cell_type": "code",
   "execution_count": 5,
   "metadata": {},
   "outputs": [],
   "source": [
    "c = nirand.matrix_corr(d,statecomm)"
   ]
  },
  {
   "cell_type": "code",
   "execution_count": 6,
   "metadata": {},
   "outputs": [
    {
     "name": "stdout",
     "output_type": "stream",
     "text": [
      "[[ 1.          0.207591   -0.07890218 -0.26929643  0.41202017  0.52639132\n",
      "   0.189005    0.13613265  0.3377918  -0.0816536 ]\n",
      " [ 0.207591    1.          0.39257922 -0.30363797  0.37762158  0.26250461\n",
      "  -0.56585376 -0.15415232 -0.08177215  0.40146258]\n",
      " [-0.07890218  0.39257922  1.         -0.07372218  0.51120994 -0.18682165\n",
      "   0.25801503  0.22936485 -0.04654471 -0.02281496]\n",
      " [-0.26929643 -0.30363797 -0.07372218  1.         -0.34773416 -0.1723676\n",
      "  -0.00989151 -0.02019203  0.53225462  0.38825717]\n",
      " [ 0.41202017  0.37762158  0.51120994 -0.34773416  1.         -0.28268728\n",
      "   0.22732868 -0.23281304  0.10438523  0.02130985]\n",
      " [ 0.52639132  0.26250461 -0.18682165 -0.1723676  -0.28268728  1.\n",
      "  -0.18709439  0.51095295  0.18084324  0.10282138]\n",
      " [ 0.189005   -0.56585376  0.25801503 -0.00989151  0.22732868 -0.18709439\n",
      "   1.          0.36222811  0.117268   -0.52588846]\n",
      " [ 0.13613265 -0.15415232  0.22936485 -0.02019203 -0.23281304  0.51095295\n",
      "   0.36222811  1.          0.25171035 -0.22060806]\n",
      " [ 0.3377918  -0.08177215 -0.04654471  0.53225462  0.10438523  0.18084324\n",
      "   0.117268    0.25171035  1.          0.52064391]\n",
      " [-0.0816536   0.40146258 -0.02281496  0.38825717  0.02130985  0.10282138\n",
      "  -0.52588846 -0.22060806  0.52064391  1.        ]]\n"
     ]
    }
   ],
   "source": [
    "print (np.matrix(c))"
   ]
  },
  {
   "cell_type": "markdown",
   "metadata": {},
   "source": [
    "## Try the same thing but with pandas dataframes"
   ]
  },
  {
   "cell_type": "code",
   "execution_count": 7,
   "metadata": {},
   "outputs": [],
   "source": [
    "import numpy as np\n",
    "import pandas as pd\n",
    "from naginterfaces.library import rand as nag_rand"
   ]
  },
  {
   "cell_type": "code",
   "execution_count": 8,
   "metadata": {},
   "outputs": [],
   "source": [
    "n=10\n",
    "df = pd.DataFrame(np.random.rand(n))"
   ]
  },
  {
   "cell_type": "code",
   "execution_count": 9,
   "metadata": {},
   "outputs": [
    {
     "data": {
      "text/html": [
       "<div>\n",
       "<style scoped>\n",
       "    .dataframe tbody tr th:only-of-type {\n",
       "        vertical-align: middle;\n",
       "    }\n",
       "\n",
       "    .dataframe tbody tr th {\n",
       "        vertical-align: top;\n",
       "    }\n",
       "\n",
       "    .dataframe thead th {\n",
       "        text-align: right;\n",
       "    }\n",
       "</style>\n",
       "<table border=\"1\" class=\"dataframe\">\n",
       "  <thead>\n",
       "    <tr style=\"text-align: right;\">\n",
       "      <th></th>\n",
       "      <th>0</th>\n",
       "    </tr>\n",
       "  </thead>\n",
       "  <tbody>\n",
       "    <tr>\n",
       "      <th>0</th>\n",
       "      <td>0.019411</td>\n",
       "    </tr>\n",
       "    <tr>\n",
       "      <th>1</th>\n",
       "      <td>0.989430</td>\n",
       "    </tr>\n",
       "    <tr>\n",
       "      <th>2</th>\n",
       "      <td>0.843855</td>\n",
       "    </tr>\n",
       "    <tr>\n",
       "      <th>3</th>\n",
       "      <td>0.253671</td>\n",
       "    </tr>\n",
       "    <tr>\n",
       "      <th>4</th>\n",
       "      <td>0.295692</td>\n",
       "    </tr>\n",
       "  </tbody>\n",
       "</table>\n",
       "</div>"
      ],
      "text/plain": [
       "          0\n",
       "0  0.019411\n",
       "1  0.989430\n",
       "2  0.843855\n",
       "3  0.253671\n",
       "4  0.295692"
      ]
     },
     "execution_count": 9,
     "metadata": {},
     "output_type": "execute_result"
    }
   ],
   "source": [
    "df.head()"
   ]
  },
  {
   "cell_type": "code",
   "execution_count": 10,
   "metadata": {},
   "outputs": [],
   "source": [
    "df = df*n/df.sum()"
   ]
  },
  {
   "cell_type": "code",
   "execution_count": 11,
   "metadata": {},
   "outputs": [
    {
     "data": {
      "text/plain": [
       "0    10.0\n",
       "dtype: float64"
      ]
     },
     "execution_count": 11,
     "metadata": {},
     "output_type": "execute_result"
    }
   ],
   "source": [
    "df.sum()"
   ]
  },
  {
   "cell_type": "code",
   "execution_count": 12,
   "metadata": {},
   "outputs": [
    {
     "data": {
      "text/plain": [
       "0    0.037325\n",
       "1    1.902531\n",
       "2    1.622612\n",
       "3    0.487772\n",
       "4    0.568574\n",
       "5    0.894944\n",
       "6    1.582100\n",
       "7    1.137266\n",
       "8    1.461123\n",
       "9    0.305753\n",
       "Name: 0, dtype: float64"
      ]
     },
     "execution_count": 12,
     "metadata": {},
     "output_type": "execute_result"
    }
   ],
   "source": [
    "df[0]"
   ]
  },
  {
   "cell_type": "code",
   "execution_count": 13,
   "metadata": {},
   "outputs": [],
   "source": [
    "seed_pd = [1]\n",
    "statecomm_pd = nag_rand.init_repeat(1,seed_pd)"
   ]
  },
  {
   "cell_type": "code",
   "execution_count": 14,
   "metadata": {},
   "outputs": [
    {
     "data": {
      "text/html": [
       "<div>\n",
       "<style scoped>\n",
       "    .dataframe tbody tr th:only-of-type {\n",
       "        vertical-align: middle;\n",
       "    }\n",
       "\n",
       "    .dataframe tbody tr th {\n",
       "        vertical-align: top;\n",
       "    }\n",
       "\n",
       "    .dataframe thead th {\n",
       "        text-align: right;\n",
       "    }\n",
       "</style>\n",
       "<table border=\"1\" class=\"dataframe\">\n",
       "  <thead>\n",
       "    <tr style=\"text-align: right;\">\n",
       "      <th></th>\n",
       "      <th>0</th>\n",
       "      <th>1</th>\n",
       "      <th>2</th>\n",
       "      <th>3</th>\n",
       "      <th>4</th>\n",
       "      <th>5</th>\n",
       "      <th>6</th>\n",
       "      <th>7</th>\n",
       "      <th>8</th>\n",
       "      <th>9</th>\n",
       "    </tr>\n",
       "  </thead>\n",
       "  <tbody>\n",
       "    <tr>\n",
       "      <th>0</th>\n",
       "      <td>0.719770</td>\n",
       "      <td>0.596598</td>\n",
       "      <td>0.224404</td>\n",
       "      <td>0.566252</td>\n",
       "      <td>0.354632</td>\n",
       "      <td>0.182132</td>\n",
       "      <td>0.130768</td>\n",
       "      <td>0.028532</td>\n",
       "      <td>0.770632</td>\n",
       "      <td>0.288296</td>\n",
       "    </tr>\n",
       "    <tr>\n",
       "      <th>1</th>\n",
       "      <td>0.269492</td>\n",
       "      <td>0.891444</td>\n",
       "      <td>0.266523</td>\n",
       "      <td>0.609272</td>\n",
       "      <td>0.930905</td>\n",
       "      <td>0.925597</td>\n",
       "      <td>0.362357</td>\n",
       "      <td>0.140921</td>\n",
       "      <td>0.654578</td>\n",
       "      <td>0.612432</td>\n",
       "    </tr>\n",
       "    <tr>\n",
       "      <th>2</th>\n",
       "      <td>0.654540</td>\n",
       "      <td>0.589410</td>\n",
       "      <td>0.639389</td>\n",
       "      <td>0.786181</td>\n",
       "      <td>0.815076</td>\n",
       "      <td>0.540150</td>\n",
       "      <td>0.870763</td>\n",
       "      <td>0.105665</td>\n",
       "      <td>0.601480</td>\n",
       "      <td>0.287626</td>\n",
       "    </tr>\n",
       "    <tr>\n",
       "      <th>3</th>\n",
       "      <td>0.135013</td>\n",
       "      <td>0.541416</td>\n",
       "      <td>0.832331</td>\n",
       "      <td>0.082530</td>\n",
       "      <td>0.086839</td>\n",
       "      <td>0.626443</td>\n",
       "      <td>0.013808</td>\n",
       "      <td>0.504595</td>\n",
       "      <td>0.296096</td>\n",
       "      <td>0.869288</td>\n",
       "    </tr>\n",
       "    <tr>\n",
       "      <th>4</th>\n",
       "      <td>0.714999</td>\n",
       "      <td>0.678578</td>\n",
       "      <td>0.433527</td>\n",
       "      <td>0.240467</td>\n",
       "      <td>0.112222</td>\n",
       "      <td>0.178781</td>\n",
       "      <td>0.127282</td>\n",
       "      <td>0.224747</td>\n",
       "      <td>0.891033</td>\n",
       "      <td>0.526295</td>\n",
       "    </tr>\n",
       "  </tbody>\n",
       "</table>\n",
       "</div>"
      ],
      "text/plain": [
       "          0         1         2         3         4         5         6  \\\n",
       "0  0.719770  0.596598  0.224404  0.566252  0.354632  0.182132  0.130768   \n",
       "1  0.269492  0.891444  0.266523  0.609272  0.930905  0.925597  0.362357   \n",
       "2  0.654540  0.589410  0.639389  0.786181  0.815076  0.540150  0.870763   \n",
       "3  0.135013  0.541416  0.832331  0.082530  0.086839  0.626443  0.013808   \n",
       "4  0.714999  0.678578  0.433527  0.240467  0.112222  0.178781  0.127282   \n",
       "\n",
       "          7         8         9  \n",
       "0  0.028532  0.770632  0.288296  \n",
       "1  0.140921  0.654578  0.612432  \n",
       "2  0.105665  0.601480  0.287626  \n",
       "3  0.504595  0.296096  0.869288  \n",
       "4  0.224747  0.891033  0.526295  "
      ]
     },
     "execution_count": 14,
     "metadata": {},
     "output_type": "execute_result"
    }
   ],
   "source": [
    "c_df = pd.DataFrame(np.random.rand(n,n))\n",
    "c_df.head()"
   ]
  },
  {
   "cell_type": "code",
   "execution_count": 15,
   "metadata": {},
   "outputs": [],
   "source": [
    "c_df = nag_rand.matrix_corr(df[0],statecomm_pd)"
   ]
  },
  {
   "cell_type": "code",
   "execution_count": 16,
   "metadata": {},
   "outputs": [
    {
     "data": {
      "text/plain": [
       "array([[ 1.        ,  0.18301172, -0.15317952,  0.19893324,  0.04350192,\n",
       "        -0.24596651, -0.0488623 ,  0.09299825,  0.49660632, -0.12477309],\n",
       "       [ 0.18301172,  1.        , -0.04692823,  0.05067105,  0.00715816,\n",
       "         0.02828615, -0.23755081, -0.07312535, -0.06803703, -0.3332699 ],\n",
       "       [-0.15317952, -0.04692823,  1.        , -0.35535462, -0.14142508,\n",
       "         0.22911306,  0.22909494,  0.08654129,  0.29011661, -0.21136848],\n",
       "       [ 0.19893324,  0.05067105, -0.35535462,  1.        , -0.29773502,\n",
       "        -0.12669122,  0.10381601,  0.20658451, -0.11294434, -0.09439861],\n",
       "       [ 0.04350192,  0.00715816, -0.14142508, -0.29773502,  1.        ,\n",
       "        -0.39103389, -0.12412674, -0.00611228, -0.15197795,  0.1814539 ],\n",
       "       [-0.24596651,  0.02828615,  0.22911306, -0.12669122, -0.39103389,\n",
       "         1.        , -0.22600438, -0.06341246, -0.46848439,  0.06274481],\n",
       "       [-0.0488623 , -0.23755081,  0.22909494,  0.10381601, -0.12412674,\n",
       "        -0.22600438,  1.        ,  0.11020332, -0.04031599, -0.04207796],\n",
       "       [ 0.09299825, -0.07312535,  0.08654129,  0.20658451, -0.00611228,\n",
       "        -0.06341246,  0.11020332,  1.        ,  0.09246914,  0.32751439],\n",
       "       [ 0.49660632, -0.06803703,  0.29011661, -0.11294434, -0.15197795,\n",
       "        -0.46848439, -0.04031599,  0.09246914,  1.        , -0.05914849],\n",
       "       [-0.12477309, -0.3332699 , -0.21136848, -0.09439861,  0.1814539 ,\n",
       "         0.06274481, -0.04207796,  0.32751439, -0.05914849,  1.        ]])"
      ]
     },
     "execution_count": 16,
     "metadata": {},
     "output_type": "execute_result"
    }
   ],
   "source": [
    "c_df"
   ]
  },
  {
   "cell_type": "code",
   "execution_count": 17,
   "metadata": {},
   "outputs": [],
   "source": [
    "gdf = pd.DataFrame(c_df)"
   ]
  },
  {
   "cell_type": "code",
   "execution_count": 18,
   "metadata": {},
   "outputs": [
    {
     "data": {
      "text/html": [
       "<div>\n",
       "<style scoped>\n",
       "    .dataframe tbody tr th:only-of-type {\n",
       "        vertical-align: middle;\n",
       "    }\n",
       "\n",
       "    .dataframe tbody tr th {\n",
       "        vertical-align: top;\n",
       "    }\n",
       "\n",
       "    .dataframe thead th {\n",
       "        text-align: right;\n",
       "    }\n",
       "</style>\n",
       "<table border=\"1\" class=\"dataframe\">\n",
       "  <thead>\n",
       "    <tr style=\"text-align: right;\">\n",
       "      <th></th>\n",
       "      <th>0</th>\n",
       "      <th>1</th>\n",
       "      <th>2</th>\n",
       "      <th>3</th>\n",
       "      <th>4</th>\n",
       "      <th>5</th>\n",
       "      <th>6</th>\n",
       "      <th>7</th>\n",
       "      <th>8</th>\n",
       "      <th>9</th>\n",
       "    </tr>\n",
       "  </thead>\n",
       "  <tbody>\n",
       "    <tr>\n",
       "      <th>0</th>\n",
       "      <td>1.000000</td>\n",
       "      <td>0.183012</td>\n",
       "      <td>-0.153180</td>\n",
       "      <td>0.198933</td>\n",
       "      <td>0.043502</td>\n",
       "      <td>-0.245967</td>\n",
       "      <td>-0.048862</td>\n",
       "      <td>0.092998</td>\n",
       "      <td>0.496606</td>\n",
       "      <td>-0.124773</td>\n",
       "    </tr>\n",
       "    <tr>\n",
       "      <th>1</th>\n",
       "      <td>0.183012</td>\n",
       "      <td>1.000000</td>\n",
       "      <td>-0.046928</td>\n",
       "      <td>0.050671</td>\n",
       "      <td>0.007158</td>\n",
       "      <td>0.028286</td>\n",
       "      <td>-0.237551</td>\n",
       "      <td>-0.073125</td>\n",
       "      <td>-0.068037</td>\n",
       "      <td>-0.333270</td>\n",
       "    </tr>\n",
       "    <tr>\n",
       "      <th>2</th>\n",
       "      <td>-0.153180</td>\n",
       "      <td>-0.046928</td>\n",
       "      <td>1.000000</td>\n",
       "      <td>-0.355355</td>\n",
       "      <td>-0.141425</td>\n",
       "      <td>0.229113</td>\n",
       "      <td>0.229095</td>\n",
       "      <td>0.086541</td>\n",
       "      <td>0.290117</td>\n",
       "      <td>-0.211368</td>\n",
       "    </tr>\n",
       "    <tr>\n",
       "      <th>3</th>\n",
       "      <td>0.198933</td>\n",
       "      <td>0.050671</td>\n",
       "      <td>-0.355355</td>\n",
       "      <td>1.000000</td>\n",
       "      <td>-0.297735</td>\n",
       "      <td>-0.126691</td>\n",
       "      <td>0.103816</td>\n",
       "      <td>0.206585</td>\n",
       "      <td>-0.112944</td>\n",
       "      <td>-0.094399</td>\n",
       "    </tr>\n",
       "    <tr>\n",
       "      <th>4</th>\n",
       "      <td>0.043502</td>\n",
       "      <td>0.007158</td>\n",
       "      <td>-0.141425</td>\n",
       "      <td>-0.297735</td>\n",
       "      <td>1.000000</td>\n",
       "      <td>-0.391034</td>\n",
       "      <td>-0.124127</td>\n",
       "      <td>-0.006112</td>\n",
       "      <td>-0.151978</td>\n",
       "      <td>0.181454</td>\n",
       "    </tr>\n",
       "  </tbody>\n",
       "</table>\n",
       "</div>"
      ],
      "text/plain": [
       "          0         1         2         3         4         5         6  \\\n",
       "0  1.000000  0.183012 -0.153180  0.198933  0.043502 -0.245967 -0.048862   \n",
       "1  0.183012  1.000000 -0.046928  0.050671  0.007158  0.028286 -0.237551   \n",
       "2 -0.153180 -0.046928  1.000000 -0.355355 -0.141425  0.229113  0.229095   \n",
       "3  0.198933  0.050671 -0.355355  1.000000 -0.297735 -0.126691  0.103816   \n",
       "4  0.043502  0.007158 -0.141425 -0.297735  1.000000 -0.391034 -0.124127   \n",
       "\n",
       "          7         8         9  \n",
       "0  0.092998  0.496606 -0.124773  \n",
       "1 -0.073125 -0.068037 -0.333270  \n",
       "2  0.086541  0.290117 -0.211368  \n",
       "3  0.206585 -0.112944 -0.094399  \n",
       "4 -0.006112 -0.151978  0.181454  "
      ]
     },
     "execution_count": 18,
     "metadata": {},
     "output_type": "execute_result"
    }
   ],
   "source": [
    "gdf.head()"
   ]
  },
  {
   "cell_type": "markdown",
   "metadata": {},
   "source": []
  }
 ],
 "metadata": {
  "kernelspec": {
   "display_name": "Python 3",
   "language": "python",
   "name": "python3"
  },
  "language_info": {
   "codemirror_mode": {
    "name": "ipython",
    "version": 3
   },
   "file_extension": ".py",
   "mimetype": "text/x-python",
   "name": "python",
   "nbconvert_exporter": "python",
   "pygments_lexer": "ipython3",
   "version": "3.7.0"
  }
 },
 "nbformat": 4,
 "nbformat_minor": 2
}
