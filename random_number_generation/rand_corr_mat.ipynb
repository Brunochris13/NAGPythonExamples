{
 "cells": [
  {
   "cell_type": "markdown",
   "metadata": {},
   "source": [
    "# Notebook to test out NAG Python Library\n",
    "## Generate a random correlation matrix (g05py)"
   ]
  },
  {
   "cell_type": "code",
   "execution_count": 1,
   "metadata": {},
   "outputs": [],
   "source": [
    "import numpy as np\n",
    "import naginterfaces.library.rand as nirand"
   ]
  },
  {
   "cell_type": "code",
   "execution_count": 2,
   "metadata": {},
   "outputs": [],
   "source": [
    "n=10\n",
    "np.random.seed(54321)\n",
    "d = np.random.rand(n)\n",
    "c = np.zeros((n,n))"
   ]
  },
  {
   "cell_type": "code",
   "execution_count": 3,
   "metadata": {},
   "outputs": [
    {
     "data": {
      "text/plain": [
       "10.000000000000002"
      ]
     },
     "execution_count": 3,
     "metadata": {},
     "output_type": "execute_result"
    }
   ],
   "source": [
    "#ensure the sum of d is the same as the number of elements\n",
    "d = d*n/d.sum()\n",
    "d.sum()"
   ]
  },
  {
   "cell_type": "code",
   "execution_count": 4,
   "metadata": {},
   "outputs": [],
   "source": [
    "seed = [1]\n",
    "statecomm = nirand.init_repeat(1,seed)"
   ]
  },
  {
   "cell_type": "code",
   "execution_count": 5,
   "metadata": {},
   "outputs": [],
   "source": [
    "c = nirand.matrix_corr(d,statecomm)"
   ]
  },
  {
   "cell_type": "code",
   "execution_count": 6,
   "metadata": {},
   "outputs": [
    {
     "name": "stdout",
     "output_type": "stream",
     "text": [
      "[[ 1.          0.12564145 -0.00764626 -0.16539236 -0.0057206   0.33249834\n",
      "  -0.30321203 -0.21418952  0.00680034 -0.05270024]\n",
      " [ 0.12564145  1.         -0.22944284 -0.30689584  0.01636082  0.15489516\n",
      "   0.09513636 -0.11511604  0.02053952 -0.02445098]\n",
      " [-0.00764626 -0.22944284  1.         -0.05145711 -0.0028276  -0.22348789\n",
      "   0.11902808  0.22075883 -0.07590371  0.1018837 ]\n",
      " [-0.16539236 -0.30689584 -0.05145711  1.          0.10975949  0.16784829\n",
      "   0.29459949 -0.03324149 -0.16856802  0.28284157]\n",
      " [-0.0057206   0.01636082 -0.0028276   0.10975949  1.          0.45541538\n",
      "  -0.00205822 -0.18870226  0.07874764  0.0127316 ]\n",
      " [ 0.33249834  0.15489516 -0.22348789  0.16784829  0.45541538  1.\n",
      "   0.00766639  0.20634005 -0.02867739 -0.09530013]\n",
      " [-0.30321203  0.09513636  0.11902808  0.29459949 -0.00205822  0.00766639\n",
      "   1.         -0.15300155  0.20595416 -0.32157421]\n",
      " [-0.21418952 -0.11511604  0.22075883 -0.03324149 -0.18870226  0.20634005\n",
      "  -0.15300155  1.          0.10960632  0.23585012]\n",
      " [ 0.00680034  0.02053952 -0.07590371 -0.16856802  0.07874764 -0.02867739\n",
      "   0.20595416  0.10960632  1.          0.07595573]\n",
      " [-0.05270024 -0.02445098  0.1018837   0.28284157  0.0127316  -0.09530013\n",
      "  -0.32157421  0.23585012  0.07595573  1.        ]]\n"
     ]
    }
   ],
   "source": [
    "print (np.matrix(c))"
   ]
  },
  {
   "cell_type": "markdown",
   "metadata": {},
   "source": [
    "## Try the same thing but with pandas dataframes"
   ]
  },
  {
   "cell_type": "code",
   "execution_count": 7,
   "metadata": {},
   "outputs": [],
   "source": [
    "import pandas as pd"
   ]
  },
  {
   "cell_type": "code",
   "execution_count": 8,
   "metadata": {},
   "outputs": [],
   "source": [
    "n=10\n",
    "df = pd.DataFrame(np.random.rand(n))"
   ]
  },
  {
   "cell_type": "code",
   "execution_count": 9,
   "metadata": {},
   "outputs": [
    {
     "data": {
      "text/html": [
       "<div>\n",
       "<style scoped>\n",
       "    .dataframe tbody tr th:only-of-type {\n",
       "        vertical-align: middle;\n",
       "    }\n",
       "\n",
       "    .dataframe tbody tr th {\n",
       "        vertical-align: top;\n",
       "    }\n",
       "\n",
       "    .dataframe thead th {\n",
       "        text-align: right;\n",
       "    }\n",
       "</style>\n",
       "<table border=\"1\" class=\"dataframe\">\n",
       "  <thead>\n",
       "    <tr style=\"text-align: right;\">\n",
       "      <th></th>\n",
       "      <th>0</th>\n",
       "    </tr>\n",
       "  </thead>\n",
       "  <tbody>\n",
       "    <tr>\n",
       "      <th>0</th>\n",
       "      <td>0.538427</td>\n",
       "    </tr>\n",
       "    <tr>\n",
       "      <th>1</th>\n",
       "      <td>0.041469</td>\n",
       "    </tr>\n",
       "    <tr>\n",
       "      <th>2</th>\n",
       "      <td>0.808094</td>\n",
       "    </tr>\n",
       "    <tr>\n",
       "      <th>3</th>\n",
       "      <td>0.995254</td>\n",
       "    </tr>\n",
       "    <tr>\n",
       "      <th>4</th>\n",
       "      <td>0.638710</td>\n",
       "    </tr>\n",
       "  </tbody>\n",
       "</table>\n",
       "</div>"
      ],
      "text/plain": [
       "          0\n",
       "0  0.538427\n",
       "1  0.041469\n",
       "2  0.808094\n",
       "3  0.995254\n",
       "4  0.638710"
      ]
     },
     "execution_count": 9,
     "metadata": {},
     "output_type": "execute_result"
    }
   ],
   "source": [
    "df.head()"
   ]
  },
  {
   "cell_type": "code",
   "execution_count": 10,
   "metadata": {},
   "outputs": [],
   "source": [
    "df = df*n/df.sum()"
   ]
  },
  {
   "cell_type": "code",
   "execution_count": 11,
   "metadata": {},
   "outputs": [
    {
     "data": {
      "text/plain": [
       "0    10.0\n",
       "dtype: float64"
      ]
     },
     "execution_count": 11,
     "metadata": {},
     "output_type": "execute_result"
    }
   ],
   "source": [
    "df.sum()"
   ]
  },
  {
   "cell_type": "code",
   "execution_count": 12,
   "metadata": {},
   "outputs": [
    {
     "data": {
      "text/plain": [
       "0    0.844449\n",
       "1    0.065039\n",
       "2    1.267385\n",
       "3    1.560919\n",
       "4    1.001729\n",
       "5    1.483451\n",
       "6    1.155444\n",
       "7    1.289283\n",
       "8    0.179535\n",
       "9    1.152767\n",
       "Name: 0, dtype: float64"
      ]
     },
     "execution_count": 12,
     "metadata": {},
     "output_type": "execute_result"
    }
   ],
   "source": [
    "df[0]"
   ]
  },
  {
   "cell_type": "code",
   "execution_count": 13,
   "metadata": {},
   "outputs": [],
   "source": [
    "seed_pd = [1]\n",
    "statecomm_pd = nirand.init_repeat(1,seed_pd)"
   ]
  },
  {
   "cell_type": "code",
   "execution_count": 14,
   "metadata": {},
   "outputs": [
    {
     "data": {
      "text/html": [
       "<div>\n",
       "<style scoped>\n",
       "    .dataframe tbody tr th:only-of-type {\n",
       "        vertical-align: middle;\n",
       "    }\n",
       "\n",
       "    .dataframe tbody tr th {\n",
       "        vertical-align: top;\n",
       "    }\n",
       "\n",
       "    .dataframe thead th {\n",
       "        text-align: right;\n",
       "    }\n",
       "</style>\n",
       "<table border=\"1\" class=\"dataframe\">\n",
       "  <thead>\n",
       "    <tr style=\"text-align: right;\">\n",
       "      <th></th>\n",
       "      <th>0</th>\n",
       "      <th>1</th>\n",
       "      <th>2</th>\n",
       "      <th>3</th>\n",
       "      <th>4</th>\n",
       "      <th>5</th>\n",
       "      <th>6</th>\n",
       "      <th>7</th>\n",
       "      <th>8</th>\n",
       "      <th>9</th>\n",
       "    </tr>\n",
       "  </thead>\n",
       "  <tbody>\n",
       "    <tr>\n",
       "      <th>0</th>\n",
       "      <td>0.821482</td>\n",
       "      <td>0.073884</td>\n",
       "      <td>0.207861</td>\n",
       "      <td>0.805677</td>\n",
       "      <td>0.914479</td>\n",
       "      <td>0.148888</td>\n",
       "      <td>0.958101</td>\n",
       "      <td>0.371736</td>\n",
       "      <td>0.718589</td>\n",
       "      <td>0.103931</td>\n",
       "    </tr>\n",
       "    <tr>\n",
       "      <th>1</th>\n",
       "      <td>0.876924</td>\n",
       "      <td>0.583506</td>\n",
       "      <td>0.681451</td>\n",
       "      <td>0.886152</td>\n",
       "      <td>0.178985</td>\n",
       "      <td>0.196202</td>\n",
       "      <td>0.460703</td>\n",
       "      <td>0.816532</td>\n",
       "      <td>0.632180</td>\n",
       "      <td>0.645103</td>\n",
       "    </tr>\n",
       "    <tr>\n",
       "      <th>2</th>\n",
       "      <td>0.455040</td>\n",
       "      <td>0.562814</td>\n",
       "      <td>0.670125</td>\n",
       "      <td>0.645266</td>\n",
       "      <td>0.046710</td>\n",
       "      <td>0.261600</td>\n",
       "      <td>0.008384</td>\n",
       "      <td>0.857218</td>\n",
       "      <td>0.030585</td>\n",
       "      <td>0.843959</td>\n",
       "    </tr>\n",
       "    <tr>\n",
       "      <th>3</th>\n",
       "      <td>0.491000</td>\n",
       "      <td>0.808222</td>\n",
       "      <td>0.102852</td>\n",
       "      <td>0.874662</td>\n",
       "      <td>0.424479</td>\n",
       "      <td>0.800346</td>\n",
       "      <td>0.233507</td>\n",
       "      <td>0.413949</td>\n",
       "      <td>0.062330</td>\n",
       "      <td>0.927309</td>\n",
       "    </tr>\n",
       "    <tr>\n",
       "      <th>4</th>\n",
       "      <td>0.693016</td>\n",
       "      <td>0.810947</td>\n",
       "      <td>0.485409</td>\n",
       "      <td>0.034001</td>\n",
       "      <td>0.104252</td>\n",
       "      <td>0.130955</td>\n",
       "      <td>0.872597</td>\n",
       "      <td>0.593396</td>\n",
       "      <td>0.978339</td>\n",
       "      <td>0.372679</td>\n",
       "    </tr>\n",
       "  </tbody>\n",
       "</table>\n",
       "</div>"
      ],
      "text/plain": [
       "          0         1         2         3         4         5         6  \\\n",
       "0  0.821482  0.073884  0.207861  0.805677  0.914479  0.148888  0.958101   \n",
       "1  0.876924  0.583506  0.681451  0.886152  0.178985  0.196202  0.460703   \n",
       "2  0.455040  0.562814  0.670125  0.645266  0.046710  0.261600  0.008384   \n",
       "3  0.491000  0.808222  0.102852  0.874662  0.424479  0.800346  0.233507   \n",
       "4  0.693016  0.810947  0.485409  0.034001  0.104252  0.130955  0.872597   \n",
       "\n",
       "          7         8         9  \n",
       "0  0.371736  0.718589  0.103931  \n",
       "1  0.816532  0.632180  0.645103  \n",
       "2  0.857218  0.030585  0.843959  \n",
       "3  0.413949  0.062330  0.927309  \n",
       "4  0.593396  0.978339  0.372679  "
      ]
     },
     "execution_count": 14,
     "metadata": {},
     "output_type": "execute_result"
    }
   ],
   "source": [
    "c_df = pd.DataFrame(np.random.rand(n,n))\n",
    "c_df.head()"
   ]
  },
  {
   "cell_type": "code",
   "execution_count": 15,
   "metadata": {},
   "outputs": [],
   "source": [
    "c_df = nirand.matrix_corr(df[0],statecomm_pd)"
   ]
  },
  {
   "cell_type": "code",
   "execution_count": 16,
   "metadata": {},
   "outputs": [
    {
     "data": {
      "text/plain": [
       "array([[ 1.        , -0.29729941, -0.21300892,  0.03478882, -0.09595445,\n",
       "        -0.1224626 , -0.1393347 ,  0.1912117 , -0.10030998,  0.15494009],\n",
       "       [-0.29729941,  1.        , -0.08760441,  0.00529587, -0.10077574,\n",
       "        -0.31210086, -0.26633473,  0.13655237,  0.07305169, -0.17211715],\n",
       "       [-0.21300892, -0.08760441,  1.        ,  0.10080064,  0.19363926,\n",
       "        -0.12299742,  0.03189871,  0.38336042, -0.07689659,  0.19927168],\n",
       "       [ 0.03478882,  0.00529587,  0.10080064,  1.        , -0.04295422,\n",
       "        -0.03200566,  0.00818092, -0.1439598 , -0.02215293, -0.09256416],\n",
       "       [-0.09595445, -0.10077574,  0.19363926, -0.04295422,  1.        ,\n",
       "        -0.08986962, -0.26003982, -0.0011058 ,  0.07202205, -0.31143519],\n",
       "       [-0.1224626 , -0.31210086, -0.12299742, -0.03200566, -0.08986962,\n",
       "         1.        , -0.15524479,  0.21512623,  0.05717375, -0.0764278 ],\n",
       "       [-0.1393347 , -0.26633473,  0.03189871,  0.00818092, -0.26003982,\n",
       "        -0.15524479,  1.        , -0.05409596,  0.15665846, -0.14315115],\n",
       "       [ 0.1912117 ,  0.13655237,  0.38336042, -0.1439598 , -0.0011058 ,\n",
       "         0.21512623, -0.05409596,  1.        , -0.17834947, -0.14585691],\n",
       "       [-0.10030998,  0.07305169, -0.07689659, -0.02215293,  0.07202205,\n",
       "         0.05717375,  0.15665846, -0.17834947,  1.        ,  0.15725037],\n",
       "       [ 0.15494009, -0.17211715,  0.19927168, -0.09256416, -0.31143519,\n",
       "        -0.0764278 , -0.14315115, -0.14585691,  0.15725037,  1.        ]])"
      ]
     },
     "execution_count": 16,
     "metadata": {},
     "output_type": "execute_result"
    }
   ],
   "source": [
    "c_df"
   ]
  },
  {
   "cell_type": "code",
   "execution_count": 17,
   "metadata": {},
   "outputs": [],
   "source": [
    "gdf = pd.DataFrame(c_df)"
   ]
  },
  {
   "cell_type": "code",
   "execution_count": 18,
   "metadata": {},
   "outputs": [
    {
     "data": {
      "text/html": [
       "<div>\n",
       "<style scoped>\n",
       "    .dataframe tbody tr th:only-of-type {\n",
       "        vertical-align: middle;\n",
       "    }\n",
       "\n",
       "    .dataframe tbody tr th {\n",
       "        vertical-align: top;\n",
       "    }\n",
       "\n",
       "    .dataframe thead th {\n",
       "        text-align: right;\n",
       "    }\n",
       "</style>\n",
       "<table border=\"1\" class=\"dataframe\">\n",
       "  <thead>\n",
       "    <tr style=\"text-align: right;\">\n",
       "      <th></th>\n",
       "      <th>0</th>\n",
       "      <th>1</th>\n",
       "      <th>2</th>\n",
       "      <th>3</th>\n",
       "      <th>4</th>\n",
       "      <th>5</th>\n",
       "      <th>6</th>\n",
       "      <th>7</th>\n",
       "      <th>8</th>\n",
       "      <th>9</th>\n",
       "    </tr>\n",
       "  </thead>\n",
       "  <tbody>\n",
       "    <tr>\n",
       "      <th>0</th>\n",
       "      <td>1.000000</td>\n",
       "      <td>-0.297299</td>\n",
       "      <td>-0.213009</td>\n",
       "      <td>0.034789</td>\n",
       "      <td>-0.095954</td>\n",
       "      <td>-0.122463</td>\n",
       "      <td>-0.139335</td>\n",
       "      <td>0.191212</td>\n",
       "      <td>-0.100310</td>\n",
       "      <td>0.154940</td>\n",
       "    </tr>\n",
       "    <tr>\n",
       "      <th>1</th>\n",
       "      <td>-0.297299</td>\n",
       "      <td>1.000000</td>\n",
       "      <td>-0.087604</td>\n",
       "      <td>0.005296</td>\n",
       "      <td>-0.100776</td>\n",
       "      <td>-0.312101</td>\n",
       "      <td>-0.266335</td>\n",
       "      <td>0.136552</td>\n",
       "      <td>0.073052</td>\n",
       "      <td>-0.172117</td>\n",
       "    </tr>\n",
       "    <tr>\n",
       "      <th>2</th>\n",
       "      <td>-0.213009</td>\n",
       "      <td>-0.087604</td>\n",
       "      <td>1.000000</td>\n",
       "      <td>0.100801</td>\n",
       "      <td>0.193639</td>\n",
       "      <td>-0.122997</td>\n",
       "      <td>0.031899</td>\n",
       "      <td>0.383360</td>\n",
       "      <td>-0.076897</td>\n",
       "      <td>0.199272</td>\n",
       "    </tr>\n",
       "    <tr>\n",
       "      <th>3</th>\n",
       "      <td>0.034789</td>\n",
       "      <td>0.005296</td>\n",
       "      <td>0.100801</td>\n",
       "      <td>1.000000</td>\n",
       "      <td>-0.042954</td>\n",
       "      <td>-0.032006</td>\n",
       "      <td>0.008181</td>\n",
       "      <td>-0.143960</td>\n",
       "      <td>-0.022153</td>\n",
       "      <td>-0.092564</td>\n",
       "    </tr>\n",
       "    <tr>\n",
       "      <th>4</th>\n",
       "      <td>-0.095954</td>\n",
       "      <td>-0.100776</td>\n",
       "      <td>0.193639</td>\n",
       "      <td>-0.042954</td>\n",
       "      <td>1.000000</td>\n",
       "      <td>-0.089870</td>\n",
       "      <td>-0.260040</td>\n",
       "      <td>-0.001106</td>\n",
       "      <td>0.072022</td>\n",
       "      <td>-0.311435</td>\n",
       "    </tr>\n",
       "  </tbody>\n",
       "</table>\n",
       "</div>"
      ],
      "text/plain": [
       "          0         1         2         3         4         5         6  \\\n",
       "0  1.000000 -0.297299 -0.213009  0.034789 -0.095954 -0.122463 -0.139335   \n",
       "1 -0.297299  1.000000 -0.087604  0.005296 -0.100776 -0.312101 -0.266335   \n",
       "2 -0.213009 -0.087604  1.000000  0.100801  0.193639 -0.122997  0.031899   \n",
       "3  0.034789  0.005296  0.100801  1.000000 -0.042954 -0.032006  0.008181   \n",
       "4 -0.095954 -0.100776  0.193639 -0.042954  1.000000 -0.089870 -0.260040   \n",
       "\n",
       "          7         8         9  \n",
       "0  0.191212 -0.100310  0.154940  \n",
       "1  0.136552  0.073052 -0.172117  \n",
       "2  0.383360 -0.076897  0.199272  \n",
       "3 -0.143960 -0.022153 -0.092564  \n",
       "4 -0.001106  0.072022 -0.311435  "
      ]
     },
     "execution_count": 18,
     "metadata": {},
     "output_type": "execute_result"
    }
   ],
   "source": [
    "gdf.head()"
   ]
  },
  {
   "cell_type": "markdown",
   "metadata": {},
   "source": []
  }
 ],
 "metadata": {
  "kernelspec": {
   "display_name": "Python 3",
   "language": "python",
   "name": "python3"
  },
  "language_info": {
   "codemirror_mode": {
    "name": "ipython",
    "version": 3
   },
   "file_extension": ".py",
   "mimetype": "text/x-python",
   "name": "python",
   "nbconvert_exporter": "python",
   "pygments_lexer": "ipython3",
   "version": "3.8.5"
  }
 },
 "nbformat": 4,
 "nbformat_minor": 2
}
