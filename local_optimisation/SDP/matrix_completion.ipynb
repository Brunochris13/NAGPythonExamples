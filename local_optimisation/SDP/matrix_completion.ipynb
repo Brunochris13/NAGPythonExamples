{
 "cells": [
  {
   "cell_type": "code",
   "execution_count": 1,
   "metadata": {},
   "outputs": [],
   "source": [
    "from naginterfaces.library import opt\n",
    "import numpy as np\n",
    "from naginterfaces.base import utils"
   ]
  },
  {
   "cell_type": "markdown",
   "metadata": {},
   "source": [
    "# Matrix completion using Semi-Definite Programming (SDP)\n",
    "\n",
    "## Correct Rendering of this notebook\n",
    "\n",
    "This notebook makes use of the `latex_envs` Jupyter extension for equations and references.  If the LaTeX is not rendering properly in your local installation of Jupyter , it may be because you have not installed this extension.  Details at https://jupyter-contrib-nbextensions.readthedocs.io/en/latest/nbextensions/latex_envs/README.html\n",
    "\n",
    "## Introduction"
   ]
  },
  {
   "cell_type": "markdown",
   "metadata": {},
   "source": [
    "We start with a survey of $n_r$ respondent with $n_q$ questions. Unfortunately, some of the entries are missing...\n",
    "\n",
    "Here is an example with $n_r = 15$ and $n_q = 6$\n",
    "\\begin{equation*}\n",
    "\\hat{Y} = \n",
    "\\begin{bmatrix}\n",
    "* & * & * & * & * &  0.4\\\\\n",
    "0.6 &  0.4 &  0.8 & * & * & *\\\\\n",
    "1.0 & * &  0.8 & * &  0.2 & *\\\\\n",
    "0.8 &  0.2 & * & * & * & *\\\\\n",
    "1.0 &  0.4 & * &  0.0 & * &  0.2\\\\\n",
    "0.4 & * & * &  0.2 & * &  0.2\\\\\n",
    "1.0 &  0.8 &  0.2 &  0.6 & * & *\\\\\n",
    "1.0 & * &  0.2 & * & * & *\\\\\n",
    "1.0 &  0.4 & * &  0.6 &  0.0 & *\\\\\n",
    "1.0 & * &  0.4 & * & * & *\\\\\n",
    "1.0 & * &  0.2 &  0.2 &  0.4 &  0.4\\\\\n",
    "1.0 & * & * & * &  1.0 &  0.8\\\\\n",
    "1.0 & * &  0.2 & * & * &  0.6\\\\\n",
    "1.0 & * & * & * & * &  0.2\\\\\n",
    "0.6 & * &  0.2 &  0.4 & * & *\\\\\n",
    "\\end{bmatrix}\n",
    "\\end{equation*}\n",
    "What is the best way to fill the missing values? One way to look at it would be to say that respondents with similar answers should stay similar. In practice, this can be modelled as minimizing the rank of $Y$.\n",
    "\\begin{equation*}\n",
    "\\min_Y rank(Y)\\\\\n",
    "Y_{ij} = \\hat{Y}_{ij}\n",
    "\\end{equation*}\n",
    "Rank minimization is in general NP-hard but it can be approximated by a heuristic, minimizing the nuclear norm of the matrix. The nuclear norm of a matrix is the sum of its singular values. A rank deficient matrix must have (several) zero singular values. Given the fact that the singular values are always non-negative, a minimization of the nuclear norm has the same effect as $l_1$ norm in compress sensing, i.e., it encourages many singular values to be zero and thus it can be considered as a heuristic for the original rank minimization problem.\n",
    "\\begin{equation*}\n",
    "\\min_Y ||Y||_*\\\\\n",
    "Y_{ij} = \\hat{Y}_{ij}\n",
    "\\end{equation*}\n",
    "This can be achieved by solving the following SDP problem:\n",
    "\\begin{equation*}\n",
    "\\min_{Y, W_1, W_2} trace(W_1) + trace(W_2)\\\\\n",
    "Y_{ij} = \\hat{Y}_{ij}\\\\\n",
    "\\begin{bmatrix}\n",
    "W_1 & Y\\\\\n",
    "Y^T & W_2\n",
    "\\end{bmatrix} \\succeq 0\n",
    "\\end{equation*}"
   ]
  },
  {
   "cell_type": "code",
   "execution_count": 2,
   "metadata": {},
   "outputs": [],
   "source": [
    "# Start by defining the data\n",
    "nr = 15\n",
    "nq = 6\n",
    "# Matrix, missing values set to-1\n",
    "Y = np.array([[-1.0,-1.0,-1.0,-1.0,-1.0, 0.4],\n",
    "                [ 0.6, 0.4, 0.8,-1.0,-1.0,-1.0],\n",
    "                [-1.0,-1.0, 0.8,-1.0, 0.2,-1.0],\n",
    "                [ 0.8, 0.2,-1.0,-1.0,-1.0,-1.0],\n",
    "                [-1.0, 0.4,-1.0, 0.0,-1.0, 0.2],\n",
    "                [ 0.4,-1.0,-1.0, 0.2,-1.0, 0.2],\n",
    "                [-1.0, 0.8, 0.2, 0.6,-1.0,-1.0],\n",
    "                [-1.0,-1.0, 0.2,-1.0,-1.0,-1.0],\n",
    "                [-1.0, 0.4,-1.0, 0.6, 0.0,-1.0],\n",
    "                [-1.0,-1.0, 0.4,-1.0,-1.0,-1.0],\n",
    "                [-1.0,-1.0, 0.2, 0.2, 0.4, 0.4],\n",
    "                [-1.0,-1.0,-1.0,-1.0, 1.0, 0.8],\n",
    "                [ 1.0,-1.0, 0.2,-1.0,-1.0, 0.6],\n",
    "                [-1.0,-1.0,-1.0,-1.0,-1.0, 0.2],\n",
    "                [ 0.6,-1.0, 0.2, 0.4,-1.0,-1.0]])\n",
    "\n",
    "# Count the number of missing element\n",
    "n_miss = 0\n",
    "for i in range(nr):\n",
    "    for j in range(nq):\n",
    "        if Y[i][j] <= -1.0:\n",
    "            n_miss += 1"
   ]
  },
  {
   "cell_type": "markdown",
   "metadata": {},
   "source": [
    "We can now start defining the SDP problem. $W_1$ and $W_2$ are full matrices of variables, respectively $n_r \\times n_r$ and $n_q \\times n_q$. Additionally, the missing values are also be variables of the optimization problem. "
   ]
  },
  {
   "cell_type": "code",
   "execution_count": 3,
   "metadata": {},
   "outputs": [],
   "source": [
    "# Number of variables: missing values + 2 full matrix nrxnr and nqxnq \n",
    "# (only the upper triangular part is needed)\n",
    "nvar = int(n_miss + nr*(nr+1)/2 + nq*(nq+1)/2)\n",
    "\n",
    "# Initialize the problem handle\n",
    "handle = opt.handle_init(nvar)\n",
    "\n",
    "# Initialize the linear objective to 0.0\n",
    "cvec = np.zeros(nvar)"
   ]
  },
  {
   "cell_type": "markdown",
   "metadata": {},
   "source": [
    "Start defining the linear matrix inequality. First the known values of $\\hat{Y}$, stored in the constant part of the matrix inequality."
   ]
  },
  {
   "cell_type": "code",
   "execution_count": 4,
   "metadata": {},
   "outputs": [],
   "source": [
    "# Initialize the sparse matrix inequality matrices \n",
    "nnzasum = nvar + nr*nq - n_miss\n",
    "nnza = np.empty(nvar+1, dtype=int)\n",
    "irowa = np.empty(nnzasum, dtype=int)\n",
    "icola = np.empty(nnzasum, dtype=int)\n",
    "a = np.empty(nnzasum, dtype=float)\n",
    "\n",
    "# number of nonzeros in the constant block\n",
    "nnza[0] = nr*nq - n_miss\n",
    "\n",
    "# All the other matrices in the combination only have one element\n",
    "nnza[1:] = 1\n",
    "\n",
    "# Fill A_0 with the known values of Y\n",
    "idx = 0\n",
    "for i in range(nr):\n",
    "    for j in range(nq):\n",
    "        if Y[i][j] >= 0.0:\n",
    "            irowa[idx] = i + 1\n",
    "            icola[idx] = nr + j + 1\n",
    "            a[idx] = -Y[i][j]\n",
    "            idx += 1"
   ]
  },
  {
   "cell_type": "markdown",
   "metadata": {},
   "source": [
    "Now fill the upper left block\n",
    "\\begin{bmatrix}\n",
    "W_1 & * \\\\\n",
    "* & *\n",
    "\\end{bmatrix}\n",
    "consisting of the upper triangular part of $W_1$."
   ]
  },
  {
   "cell_type": "code",
   "execution_count": 5,
   "metadata": {},
   "outputs": [],
   "source": [
    "# 1x1 block of the matrix\n",
    "# Fill the objective vector at the same time\n",
    "idxobj = 0\n",
    "for i in range(nr):\n",
    "    # this is a diagonal element of W1, it belongs to the trace (set objective)\n",
    "    cvec[idxobj] = 1.0\n",
    "    for j in range(i, nr):\n",
    "        irowa[idx] = i + 1\n",
    "        icola[idx] = j + 1\n",
    "        a[idx] = 1.0\n",
    "        idx += 1\n",
    "        idxobj += 1"
   ]
  },
  {
   "cell_type": "markdown",
   "metadata": {},
   "source": [
    "Time for the lower right block\n",
    "\\begin{bmatrix}\n",
    "* & * \\\\\n",
    "* & W_2\n",
    "\\end{bmatrix}\n",
    "consisting of the upper triangular part of $W_2$."
   ]
  },
  {
   "cell_type": "code",
   "execution_count": 6,
   "metadata": {},
   "outputs": [],
   "source": [
    "for i in range(nq):\n",
    "    # this is a diagonal element of W2, it belongs to the trace (set objective)\n",
    "    cvec[idxobj] = 1.0\n",
    "    for j in range(i, nq):\n",
    "        irowa[idx] = nr + i + 1\n",
    "        icola[idx] = nr + j + 1\n",
    "        a[idx] = 1.0\n",
    "        idx += 1\n",
    "        idxobj += 1"
   ]
  },
  {
   "cell_type": "markdown",
   "metadata": {},
   "source": [
    "Lastly, the missing elements of $Y$"
   ]
  },
  {
   "cell_type": "code",
   "execution_count": 7,
   "metadata": {},
   "outputs": [],
   "source": [
    "for i in range(nr):\n",
    "    for j in range(nq):\n",
    "        if Y[i][j] < 0.0:\n",
    "            irowa[idx] = i + 1 \n",
    "            icola[idx] = nr + j + 1\n",
    "            a[idx] = 1.0\n",
    "            idx +=1"
   ]
  },
  {
   "cell_type": "markdown",
   "metadata": {},
   "source": [
    "Update the problem handle"
   ]
  },
  {
   "cell_type": "code",
   "execution_count": 8,
   "metadata": {},
   "outputs": [],
   "source": [
    "# add the linear objective to the handle\n",
    "opt.handle_set_linobj(handle, cvec)\n",
    "\n",
    "# Add the linear matrix inequalities\n",
    "dima = nr + nq\n",
    "idblk = opt.handle_set_linmatineq(handle, dima, nnza, irowa, icola, a, blksizea=None, idblk=0)\n",
    "\n",
    "# Set optional argument\n",
    "for option in ['Print Options = No',\n",
    "               'Initial X = Automatic',\n",
    "               'Dimacs = Check']:\n",
    "    opt.handle_opt_set(handle, option)"
   ]
  },
  {
   "cell_type": "markdown",
   "metadata": {},
   "source": [
    "The problem is ready to be solved"
   ]
  },
  {
   "cell_type": "code",
   "execution_count": 9,
   "metadata": {},
   "outputs": [
    {
     "name": "stdout",
     "output_type": "stream",
     "text": [
      " E04SV, NLP-SDP Solver (Pennon)\n",
      " ------------------------------\n",
      " Number of variables           196                 [eliminated            0]\n",
      "                            simple  linear  nonlin\n",
      " (Standard) inequalities         0       0       0\n",
      " (Standard) equalities                   0       0\n",
      " Matrix inequalities                     1       0 [dense    1, sparse    0]\n",
      "                                                   [max dimension        21]\n",
      "\n",
      " --------------------------------------------------------------\n",
      "  it|  objective |  optim  |   feas  |  compl  | pen min |inner\n",
      " --------------------------------------------------------------\n",
      "   0  0.00000E+00  9.17E+01  1.91E+00  0.00E+00  2.00E+00   0\n",
      "   1  1.53207E+02  6.26E-03  0.00E+00  1.50E+02  2.00E+00  13\n",
      "   2  7.10956E+01  1.75E-02  0.00E+00  6.45E+01  9.04E-01   4\n",
      "   3  3.68500E+01  1.36E-02  0.00E+00  2.73E+01  4.08E-01   5\n",
      "   4  2.25150E+01  1.07E-02  0.00E+00  1.15E+01  1.85E-01   4\n",
      "   5  1.64698E+01  1.10E-02  0.00E+00  4.84E+00  8.34E-02   5\n",
      "   6  1.38820E+01  4.07E-03  0.00E+00  2.06E+00  3.77E-02   5\n",
      "   7  1.27611E+01  7.27E-03  0.00E+00  8.83E-01  1.70E-02   5\n",
      "   8  1.22745E+01  4.16E-03  0.00E+00  3.82E-01  7.70E-03   4\n",
      "   9  1.20628E+01  3.53E-03  0.00E+00  1.65E-01  3.48E-03   4\n",
      "  10  1.19705E+01  3.14E-03  0.00E+00  7.20E-02  1.57E-03   4\n",
      "  11  1.19303E+01  3.67E-03  0.00E+00  3.13E-02  7.11E-04   4\n",
      "  12  1.19127E+01  3.65E-03  0.00E+00  1.37E-02  3.21E-04   4\n",
      "  13  1.19050E+01  4.02E-03  0.00E+00  5.96E-03  1.45E-04   4\n",
      "  14  1.19017E+01  1.35E-04  0.00E+00  2.60E-03  6.56E-05   5\n",
      " --------------------------------------------------------------\n",
      "  it|  objective |  optim  |   feas  |  compl  | pen min |inner\n",
      " --------------------------------------------------------------\n",
      "  15  1.19002E+01  9.38E-07  0.00E+00  1.13E-03  2.96E-05   5\n",
      "  16  1.18996E+01  1.51E-06  0.00E+00  4.90E-04  1.34E-05   5\n",
      "  17  1.18993E+01  1.69E-10  0.00E+00  2.12E-04  6.06E-06   6\n",
      "  18  1.18992E+01  4.29E-10  0.00E+00  9.14E-05  2.74E-06   6\n",
      "  19  1.18991E+01  9.67E-10  0.00E+00  3.93E-05  1.24E-06   6\n",
      "  20  1.18991E+01  2.17E-09  0.00E+00  1.68E-05  5.59E-07   6\n",
      "  21  1.18991E+01  5.13E-09  0.00E+00  7.15E-06  2.53E-07   6\n",
      "  22  1.18991E+01  1.08E-08  0.00E+00  3.02E-06  1.14E-07   6\n",
      "  23  1.18991E+01  2.45E-08  0.00E+00  1.27E-06  5.16E-08   6\n",
      " --------------------------------------------------------------\n",
      " Status: converged, an optimal solution found\n",
      " --------------------------------------------------------------\n",
      " Final objective value                1.189910E+01\n",
      " Relative precision                   1.359557E-07\n",
      " Optimality                           2.450103E-08\n",
      " Feasibility                          0.000000E+00\n",
      " Complementarity                      1.267053E-06\n",
      " DIMACS error 1                       1.225051E-08\n",
      " DIMACS error 2                       0.000000E+00\n",
      " DIMACS error 3                       0.000000E+00\n",
      " DIMACS error 4                       0.000000E+00\n",
      " DIMACS error 5                       5.046746E-08\n",
      " DIMACS error 6                       5.109456E-08\n",
      " Iteration counts\n",
      "   Outer iterations                             23\n",
      "   Inner iterations                            122\n",
      "   Linesearch steps                            332\n",
      " Evaluation counts\n",
      "   Augm. Lagr. values                          146\n",
      "   Augm. Lagr. gradient                        146\n",
      "   Augm. Lagr. hessian                         122\n",
      " --------------------------------------------------------------\n"
     ]
    }
   ],
   "source": [
    "# I/O\n",
    "iom = utils.FileObjManager(locus_in_output=False)\n",
    "\n",
    "# Call the solver\n",
    "x = np.empty(nvar)\n",
    "inform = 0\n",
    "x, _, _, _, rinfo, stats, _ = opt.handle_solve_pennon(handle, x, inform, u=None, \n",
    "                                                      uc=None, ua=None, io_manager=iom)"
   ]
  },
  {
   "cell_type": "markdown",
   "metadata": {},
   "source": [
    "We can now retrieve the completed matrix!"
   ]
  },
  {
   "cell_type": "code",
   "execution_count": 18,
   "metadata": {},
   "outputs": [
    {
     "name": "stdout",
     "output_type": "stream",
     "text": [
      "[[0.5 0.3 0.2 0.2 0.4 0.4]\n",
      " [0.6 0.4 0.8 0.2 0.3 0.4]\n",
      " [0.4 0.3 0.8 0.  0.2 0.2]\n",
      " [0.8 0.2 0.3 0.4 0.3 0.4]\n",
      " [0.  0.4 0.2 0.  0.2 0.2]\n",
      " [0.4 0.1 0.2 0.2 0.1 0.2]\n",
      " [0.6 0.8 0.2 0.6 0.2 0.4]\n",
      " [0.1 0.1 0.2 0.  0.  0.1]\n",
      " [0.6 0.4 0.1 0.6 0.  0.3]\n",
      " [0.2 0.1 0.4 0.  0.1 0.1]\n",
      " [0.5 0.3 0.2 0.2 0.4 0.4]\n",
      " [0.7 0.4 0.3 0.  1.  0.8]\n",
      " [1.  0.3 0.2 0.5 0.5 0.6]\n",
      " [0.2 0.1 0.1 0.1 0.2 0.2]\n",
      " [0.6 0.3 0.2 0.4 0.2 0.3]]\n",
      "The rank of the filled matrix is: 4\n"
     ]
    }
   ],
   "source": [
    "# Fill the missing elements of the matrix\n",
    "idx = int(nr*(nr+1)/2 + nq*(nq+1)/2)\n",
    "for i in range(nr):\n",
    "    for j in range(nq):\n",
    "        if Y[i][j] < 0.0:\n",
    "            Y[i][j] = x[idx]\n",
    "            idx += 1\n",
    "            \n",
    "np.set_printoptions(precision=1)\n",
    "print(Y)\n",
    "\n",
    "rk = np.linalg.matrix_rank(Y, tol=1.0e-05)\n",
    "print('The rank of the filled matrix is:', rk)"
   ]
  },
  {
   "cell_type": "code",
   "execution_count": null,
   "metadata": {},
   "outputs": [],
   "source": [
    "help(opt.handle_solve_pennon)"
   ]
  }
 ],
 "metadata": {
  "kernelspec": {
   "display_name": "Python 3",
   "language": "python",
   "name": "python3"
  },
  "language_info": {
   "codemirror_mode": {
    "name": "ipython",
    "version": 3
   },
   "file_extension": ".py",
   "mimetype": "text/x-python",
   "name": "python",
   "nbconvert_exporter": "python",
   "pygments_lexer": "ipython3",
   "version": "3.7.0"
  },
  "latex_envs": {
   "LaTeX_envs_menu_present": true,
   "autoclose": false,
   "autocomplete": true,
   "bibliofile": "biblio.bib",
   "cite_by": "apalike",
   "current_citInitial": 1,
   "eqLabelWithNumbers": true,
   "eqNumInitial": 1,
   "hotkeys": {
    "equation": "Ctrl-E",
    "itemize": "Ctrl-I"
   },
   "labels_anchors": false,
   "latex_user_defs": false,
   "report_style_numbering": false,
   "user_envs_cfg": false
  }
 },
 "nbformat": 4,
 "nbformat_minor": 2
}
