{
 "cells": [
  {
   "cell_type": "markdown",
   "metadata": {},
   "source": [
    "# Christmas demo: how to decorate your Christmas tree\n",
    "\n",
    "Decorating a Christmas tree can be a challenge! Let's see how optmization can help for this problem."
   ]
  },
  {
   "cell_type": "code",
   "execution_count": 1,
   "metadata": {},
   "outputs": [],
   "source": [
    "# Import the relevant library\n",
    "import numpy as np\n",
    "import matplotlib.pyplot as plt \n",
    "from matplotlib.colors import LinearSegmentedColormap\n",
    "from naginterfaces.base import utils\n",
    "from naginterfaces.library import opt\n",
    "from naginterfaces.library import mip"
   ]
  },
  {
   "cell_type": "markdown",
   "metadata": {},
   "source": [
    "## 1. Defining the tree \n",
    "We have to start by defining the tree as the domain on which we want to optimize the function.\n",
    "\n",
    "Let's start by defining some christmasy colour scheme: "
   ]
  },
  {
   "cell_type": "code",
   "execution_count": 2,
   "metadata": {},
   "outputs": [],
   "source": [
    "cdict_green = {'red': ((0, 0, 0),\n",
    "                 (1, 0, 0)),\n",
    "         'green': ((0, 0, 0),\n",
    "                   (1, 1, 1)),\n",
    "         'blue': ((0, 0, 0),\n",
    "                  (1, 0, 0))}\n",
    "cdict_red = {'red': ((0, 0.5, 0.5),\n",
    "                 (1, 1, 1)),\n",
    "         'green': ((0, 0, 0),\n",
    "                   (1, 0, 0)),\n",
    "         'blue': ((0, 0, 0),\n",
    "                  (1, 0, 0))}\n",
    "green_cm = LinearSegmentedColormap('green_cm', cdict_green)\n",
    "red_cm = LinearSegmentedColormap('red_cm', cdict_red)"
   ]
  },
  {
   "cell_type": "markdown",
   "metadata": {},
   "source": [
    "Then define some functions to help draw a 2-dimensions tree"
   ]
  },
  {
   "cell_type": "code",
   "execution_count": 3,
   "metadata": {},
   "outputs": [],
   "source": [
    "def objf_plot(X,Y):\n",
    "    return X**2 + X + np.cos(2*np.pi*Y)**2 + 0.5*Y"
   ]
  },
  {
   "cell_type": "code",
   "execution_count": 4,
   "metadata": {},
   "outputs": [],
   "source": [
    "def plot_domain(orig,lb,ub,cm, axis, ax):\n",
    "    xmax = orig - lb\n",
    "    X, Y = np.meshgrid(np.arange(-xmax,xmax,0.01), np.arange(lb,orig,0.01))\n",
    "    Z = objf_plot(X,Y)\n",
    "    mask = np.zeros_like(Z, dtype=bool)\n",
    "    row, col = X.shape\n",
    "    for i in range(row):\n",
    "        for j in range(col):\n",
    "            if X[i,j]>=0 and X[i,j]+Y[i,j]>orig:\n",
    "                mask[i,j] = 1\n",
    "            elif X[i,j]<=0 and Y[i,j]-X[i,j]>orig:\n",
    "                mask[i,j] = 1\n",
    "            elif Y[i,j] > ub:\n",
    "                mask[i,j] = 1\n",
    "            else:\n",
    "                mask[i,j] = 0\n",
    "    Z = np.ma.array(Z, mask=mask)\n",
    "    ax.axis(axis)\n",
    "    ax.contourf(X, Y, Z, cmap=green_cm, corner_mask=True)"
   ]
  },
  {
   "cell_type": "markdown",
   "metadata": {},
   "source": [
    "Let's see the result:"
   ]
  },
  {
   "cell_type": "code",
   "execution_count": 5,
   "metadata": {},
   "outputs": [
    {
     "data": {
      "image/png": "[encoded data removed]",
      "text/plain": [
       "<Figure size 432x288 with 1 Axes>"
      ]
     },
     "metadata": {
      "needs_background": "light"
     },
     "output_type": "display_data"
    }
   ],
   "source": [
    "%matplotlib inline\n",
    "fig = plt.figure()\n",
    "ax = fig.add_subplot(111)\n",
    "axis = [-3.5, 3.5, 1, 6.5]\n",
    "# main tree\n",
    "plot_domain(5.5, 4, 5, green_cm, axis, ax)\n",
    "plot_domain(6, 5, 999, green_cm, axis, ax)\n",
    "plot_domain(5, 2.5, 4, green_cm, axis, ax)\n",
    "# trunk\n",
    "X, Y = np.meshgrid(np.arange(-0.75,0.75,0.01), np.arange(2,2.5,0.01))\n",
    "Z = objf_plot(X,Y)\n",
    "ax.contourf(X, Y, Z, cmap=green_cm)\n",
    "# present\n",
    "X, Y = np.meshgrid(np.arange(-1.,0.25,0.01), np.arange(1.3,1.8,0.01))\n",
    "Z = objf_plot(X,Y)\n",
    "ax.contourf(X, Y, Z, cmap=red_cm)\n",
    "plt.show()"
   ]
  },
  {
   "cell_type": "markdown",
   "metadata": {},
   "source": [
    "Finding the minimum value on the tree is not trivial at first sight:\n",
    "1. the domain is disjointed\n",
    "2. each sub-part of the tree follows linear constraints, but there is no straightforward way to merge the different parts in a single set of constraints.\n",
    "\n",
    "## 2. Splitting the domain\n",
    "\n",
    "### A simple division first\n",
    "A solution would be to look at the different parts of the tree separately. For example, if we want the minimum on the top of the tree we have a domain that is defined by three linear constraints:"
   ]
  },
  {
   "cell_type": "code",
   "execution_count": 6,
   "metadata": {},
   "outputs": [
    {
     "data": {
      "image/png": "[encoded data removed]",
      "text/plain": [
       "<Figure size 432x288 with 1 Axes>"
      ]
     },
     "metadata": {
      "needs_background": "light"
     },
     "output_type": "display_data"
    }
   ],
   "source": [
    "orig = 6\n",
    "lb = 5\n",
    "ub = 999\n",
    "axis = [-1.5, 1.5, 4.5, 6.5]\n",
    "fig = plt.figure()\n",
    "ax = fig.add_subplot(111)\n",
    "plot_domain(orig, lb, ub, green_cm, axis, ax)\n",
    "plt.show()"
   ]
  },
  {
   "cell_type": "markdown",
   "metadata": {},
   "source": [
    "Optimizing on this part should be easy: let's use one of NAG's nonlinear programming solver."
   ]
  },
  {
   "cell_type": "code",
   "execution_count": 7,
   "metadata": {},
   "outputs": [],
   "source": [
    "# define the user structure that will be passed by the solver to the different callbacks functions\n",
    "# we use it here to record the points evaluated by the solver \n",
    "class usr_data:\n",
    "    def __init__(self):\n",
    "        self.npts = 0\n",
    "        self.pts = []\n",
    "        self.present = False"
   ]
  },
  {
   "cell_type": "code",
   "execution_count": 8,
   "metadata": {},
   "outputs": [],
   "source": [
    "# main callback function for the SQP solver\n",
    "def objfun_e04wd(mode, x, grad, ntsate, data):\n",
    "    if mode == 0 or mode == 2:\n",
    "        objf = x[0]**2 + x[0] + np.cos(2*np.pi*x[1])**2 + 0.5*x[1]\n",
    "        data.npts += 1\n",
    "        data.pts.append((x[0], x[1]))\n",
    "    if mode == 1 or mode == 2:\n",
    "        grad[0] = 2*x[0] + 1\n",
    "        grad[1] = -4*np.pi*np.sin(2*np.pi*x[1])*np.cos(2*np.pi*x[1]) + 0.5\n",
    "    return mode, objf, grad"
   ]
  },
  {
   "cell_type": "code",
   "execution_count": 9,
   "metadata": {},
   "outputs": [],
   "source": [
    "# Define the model: The domain is limited by 2 linear constraints and one bound constraint\n",
    "bigbnd = 1.0e20\n",
    "n = 2\n",
    "nclin = 2\n",
    "ncnln = 0\n",
    "a = [[1.,1.],[-1.,1.]]\n",
    "bl = [-bigbnd,5,-bigbnd,-bigbnd]\n",
    "bu = [bigbnd,bigbnd,6,6];\n",
    "\n",
    "# Initialize the rest of the solver variables: we don't need warm starting information or 2nd derivative information\n",
    "istate = [0,0,0,0]\n",
    "ccon = np.zeros(1)\n",
    "cjac = np.zeros((0,1))\n",
    "clamda = np.zeros(n+nclin+ncnln)\n",
    "h = np.zeros((2,2))\n",
    "iom = utils.FileObjManager(locus_in_output=False)\n",
    "\n",
    "# Define a starting point and initialize the user data\n",
    "xstart1 = [0.,6.]\n",
    "x = xstart1\n",
    "comm = opt.nlp2_init(io_manager=iom)\n",
    "data = usr_data()\n",
    "\n",
    "# Solve the model, the solution and convergence measures will be stored in sln\n",
    "sln = opt.nlp2_solve(a, bl, bu, objfun_e04wd, istate, ccon, cjac, clamda, h, x, comm, data=data, io_manager=iom)"
   ]
  },
  {
   "cell_type": "markdown",
   "metadata": {},
   "source": [
    "We can now discover where the optimum is and start to decorate the top of the tree with the points the solver evaluated."
   ]
  },
  {
   "cell_type": "code",
   "execution_count": 10,
   "metadata": {},
   "outputs": [
    {
     "data": {
      "image/png": "[encoded data removed]",
      "text/plain": [
       "<Figure size 432x288 with 1 Axes>"
      ]
     },
     "metadata": {
      "needs_background": "light"
     },
     "output_type": "display_data"
    }
   ],
   "source": [
    "# plot the top of the trees as well as the histoy of the points evaluated\n",
    "fig = plt.figure()\n",
    "ax = fig.add_subplot(111)\n",
    "plot_domain(orig, lb, ub, green_cm, axis, ax)\n",
    "ax.plot(sln.x[0], sln.x[1], marker='*', markersize=12)\n",
    "ax.scatter(*zip(*data.pts), s=25, marker='x', c='red')\n",
    "plt.show()"
   ]
  },
  {
   "cell_type": "markdown",
   "metadata": {},
   "source": [
    "### Joining two domains\n",
    "If we now want to add the middle part of the tree, the domain definition becomes more complicated:"
   ]
  },
  {
   "cell_type": "code",
   "execution_count": 11,
   "metadata": {
    "scrolled": true
   },
   "outputs": [
    {
     "data": {
      "image/png": "[encoded data removed]",
      "text/plain": [
       "<Figure size 432x288 with 1 Axes>"
      ]
     },
     "metadata": {
      "needs_background": "light"
     },
     "output_type": "display_data"
    }
   ],
   "source": [
    "fig = plt.figure()\n",
    "ax = fig.add_subplot(111)\n",
    "axis = [-2., 2., 3.5, 6.5]\n",
    "plot_domain(5.5, 4, 5, green_cm, axis, ax)\n",
    "plot_domain(6, 5, 999, green_cm, axis, ax)\n",
    "plt.show()"
   ]
  },
  {
   "cell_type": "markdown",
   "metadata": {},
   "source": [
    "It is possible to join both the middle and the top of the tree to the same model by introducing additional decision variables to the problem. The goal is to introduce a binary variable $\\delta_K$ for each subdomain $K$ such that $\\delta_K=1 \\Rightarrow (x,y) \\in K$. In general, for a constraint of the form $ax+by \\leq c$, it is possible to create such a decision variable $\\delta$ by replacing the original inequality by: $$ax+by+M\\delta \\leq M + c$$ where $M$ is an upper bound on the quantity $ax+by-c$. You then have a constraint where if $\\delta=1$, the original inequality applies, and if $\\delta=0$, the inequality becomes $ax+by-c \\leq M$ which is always satisfied so has no influence.\n",
    "\n",
    "As each of the subdomain is defined by three linear inequalities, we can apply this technique to all of our constraints and introduce two binary variables $\\delta_{top}$ and $\\delta_{mid} \\in \\{0,1\\}$. The model can then be written as:\n",
    "$$\n",
    "\\begin{equation*}\n",
    "\\min_{(x,y)\\in \\mathbb{R}^n} F(x,y)\\\\\n",
    "\\text{s.t. } \\left\\{ \\begin{aligned} x + y + \\delta_{top}M &\\leq M + 6\\\\\n",
    "-x + y + \\delta_{top}M &\\leq M + 6\\\\ y - \\delta_{top}M &\\geq -M + 5\\\\\n",
    "x + y + \\delta_{mid}M &\\leq M + 5.5\\\\ -x + y + \\delta_{mid}M &\\leq M + 5.5\\\\\n",
    "y - \\delta_{mid}M &\\geq -M + 4\\\\ \n",
    "\\end{aligned}\\right. \n",
    "\\end{equation*}\n",
    "$$\n",
    "For simplicity we chose a unique $M=9$ which works as a bound for all of these inequalities.\n",
    "\n",
    "As it stands, the model is still incomplete. The solver could indeed choose $\\delta_{mid}=\\delta_{top}=0$ and ignore all constraints. To force the model to choose a point that is in at least one of the domains, we need to add a binding constraint: \n",
    "$$ \\delta_{mid}+\\delta_{top} \\geq 1 $$\n",
    "specifying that at least one of the sets of constraints has to be satisfied.\n",
    "\n",
    "As the model now involves binary variables, a classical NLP solver is no longer suitable. We solved this model with NAG's MINLP solver mip.sqp (h02da)."
   ]
  },
  {
   "cell_type": "code",
   "execution_count": 12,
   "metadata": {},
   "outputs": [],
   "source": [
    "# Main callback function for the MINLP solver\n",
    "def objfun_h02da(mode, varcon, x, objgrd, nstate, data):\n",
    "    objmip = x[0]**2 + x[0] + np.cos(2*np.pi*x[1])**2 + 0.5*x[1];\n",
    "    data.npts = data.npts + 1;\n",
    "    data.pts.append((x[0], x[1]))\n",
    "    if x[1] <= 1.8 and data.present:\n",
    "        objmip = (x[0]+0.625)**2 + (x[1]-1.55)**2\n",
    "\n",
    "    if mode == 1:\n",
    "        objgrd[0] = 2*x[0] + 1\n",
    "        objgrd[1] = -4*np.pi*np.sin(2*np.pi*x[1])*np.cos(2*np.pi*x[1]) + 0.5\n",
    "        if x[1] <= 1.8 and data.present:\n",
    "            objgrd[0] = 2*(x[0]+0.625)\n",
    "            objgrd[1] = 2*(x[1]-1.55)\n",
    "    return objmip, objgrd"
   ]
  },
  {
   "cell_type": "code",
   "execution_count": 13,
   "metadata": {},
   "outputs": [],
   "source": [
    "# Define the model\n",
    "ncnln = 0\n",
    "M = 9.\n",
    "a =  np.array([[0.,0.,1.,1.],\n",
    "      [1.,-1.,-M,0.],\n",
    "      [-1.,-1.,-M,0.],\n",
    "      [0.,1.,-M,0.],\n",
    "      [1.,-1.,0.,-M],\n",
    "      [-1.,-1.,0.,-M],\n",
    "      [0.,1.,0.,-M]])\n",
    "d = [1.,-6.-M,-6.-M,-M+5.,-M-5.5,-M-5.5,-M+4.]\n",
    "bl = [-5.,-2.,0.,0.]\n",
    "bu = [5.,10.,1.,1.]\n",
    "varcon = [0,0,1,1,4,4,4,4,4,4,4]\n",
    "\n",
    "# Choose a starting point and initialize the solver and user data\n",
    "xstart = [0.5,4.5,0.,0.];\n",
    "x = xstart\n",
    "comm = {}\n",
    "data = usr_data()\n",
    "mip.optset('Initialize = sqp', comm)\n",
    "\n",
    "# Solve the model\n",
    "\n",
    "sln = mip.sqp(ncnln, bl, bu, varcon, x, objfun_h02da, comm, a = a,d=d, maxit=500, acc=0.0001, data=data, io_manager=iom)"
   ]
  },
  {
   "cell_type": "code",
   "execution_count": 14,
   "metadata": {},
   "outputs": [
    {
     "data": {
      "image/png": "[encoded data removed]",
      "text/plain": [
       "<Figure size 432x288 with 1 Axes>"
      ]
     },
     "metadata": {
      "needs_background": "light"
     },
     "output_type": "display_data"
    }
   ],
   "source": [
    "# Plot the domain and add the evealuated points \n",
    "fig = plt.figure()\n",
    "ax = fig.add_subplot(111)\n",
    "plot_domain(5.5, 4, 5, green_cm, axis, ax)\n",
    "plot_domain(6, 5, 999, green_cm, axis, ax)\n",
    "ax.plot(sln.x[0], sln.x[1], marker='*', markersize=12)\n",
    "ax.scatter(*zip(*data.pts), s=25, marker='x', c='red')\n",
    "plt.show()"
   ]
  },
  {
   "cell_type": "markdown",
   "metadata": {},
   "source": [
    "### Full model\n",
    "We can now consider the full model by using the same tricks with more disjointed sub-domains:\n",
    "$$\n",
    "\\begin{equation*}\n",
    "\\min_{(x,y)\\in \\mathbb{R}^n} F(x,y)\\\\\n",
    "\\text{s.t. } \\left\\{ \\begin{aligned} \\left.\n",
    "\\delta_{top} + \\delta_{mid} + \\delta_{bot} + \\delta_{tr} + \\delta_{pr} \\geq 1 \\right\\}\\text{binding constraint}\\\\\n",
    "\\left.\\begin{aligned} x + y + \\delta_{top}M &\\leq M + 6\\\\\n",
    "-x + y + \\delta_{top}M &\\leq M + 6\\\\\n",
    "y - \\delta_{top}M &\\geq -M + 5\\\\\n",
    "\\end{aligned}\\right\\}\\text{top of the tree}\\\\\n",
    "\\left.\\begin{aligned} x + y + \\delta_{mid}M &\\leq M + 5.5\\\\\n",
    "-x + y + \\delta_{mid}M &\\leq M + 5.5\\\\\n",
    "y - \\delta_{mid}M &\\geq -M + 4\\\\\n",
    "\\end{aligned}\\right\\}\\text{middle of the tree}\\\\\n",
    "\\left.\\begin{aligned} x + y + \\delta_{bot}M &\\leq M + 5\\\\ \n",
    "-x + y + \\delta_{bot}M &\\leq M + 5\\\\ y - \\delta_{bot}M &\\geq -M + 2.5\\\\\n",
    "\\end{aligned}\\right\\}\\text{bottom of the tree}\\\\\n",
    "\\left.\\begin{aligned} x - \\delta_{tr}M &\\geq -M - 0.75\\\\ \n",
    "x + \\delta_{tr}M &\\leq M + 0.75\\\\\n",
    "y - \\delta_{tr}M &\\geq -M + 2\\\\\n",
    "y + \\delta_{tr}M &\\leq M + 2.5\\\\ \n",
    "\\end{aligned}\\right\\}\\text{trunk}\\\\ \n",
    "\\left.\\begin{aligned} x - \\delta_{pr}M &\\geq -M - 1\\\\\n",
    "x + \\delta_{pr}M &\\leq M - 0.25\\\\ \n",
    "y - \\delta_{pr}M &\\geq -M + 1.8\\\\ \n",
    "y + \\delta_{pr}M &\\leq M + 1.3\\\\\n",
    "\\end{aligned}\\right\\}\\text{present}\\\\\n",
    "\\end{aligned}\\right. \n",
    "\\end{equation*}\n",
    "$$\n",
    "\n",
    "It is still important to note that this is a local solver and that it could declare convergence at any of the local minima in the domain depending on the starting point."
   ]
  },
  {
   "cell_type": "code",
   "execution_count": 15,
   "metadata": {},
   "outputs": [],
   "source": [
    "# Extend the model \n",
    "row, col = a.shape\n",
    "a2 = np.zeros((row, col+3))\n",
    "a2[:,:-3] = a\n",
    "a2[0,4:6] = 1.\n",
    "add_rows = [[1.,-1.,0.,0.,-M,0.,0.],\n",
    "            [-1.,-1.,0.,0.,-M,0.,0.],\n",
    "            [0.,1.,0.,0.,-M,0.,0.],\n",
    "            [0.,1.,0.,0.,0.,-M,0.],\n",
    "            [0.,-1.,0.,0.,0.,-M,0.],\n",
    "            [1.,0.,0.,0.,0.,-M,0.],\n",
    "            [-1.,0.,0.,0.,0.,-M,0.],\n",
    "            [0.,1.,0.,0.,0.,0.,-M],\n",
    "            [0.,-1.,0.,0.,0.,0.,-M],\n",
    "            [1.,0.,0.,0.,0.,0.,-M],\n",
    "            [-1.,0.,0.,0.,0.,0.,-M]]\n",
    "a2 = np.vstack((a2, add_rows))\n",
    "d.extend([-M-5,-M-5,-M+2.5])\n",
    "d.extend([-M+2,-M-2.5,-M-0.75,-M-0.75])\n",
    "d.extend([-M+1.3,-M-1.8,-M-1,-M+0.25])\n",
    "bl.extend([0.,0.,0.])\n",
    "bu.extend([0.,0.,0.])"
   ]
  },
  {
   "cell_type": "code",
   "execution_count": 16,
   "metadata": {},
   "outputs": [],
   "source": [
    "# Optimize the model\n",
    "xstart = [1.,2.5,0.,0.,1.,0.,0.]\n",
    "x = xstart\n",
    "varcon = [0,0,1,1,1,1,1,4,4,4,4,4,4,4,4,4,4,4,4,4,4,4,4,4,4]\n",
    "comm = {}\n",
    "data = usr_data()\n",
    "mip.optset('Initialize = sqp', comm)\n",
    "sln = mip.sqp(ncnln, bl, bu, varcon, x, objfun_h02da, comm, a=a2,d=d,maxit=500, acc=0.0001, data=data,\n",
    "              io_manager=iom)"
   ]
  },
  {
   "cell_type": "code",
   "execution_count": 17,
   "metadata": {},
   "outputs": [
    {
     "data": {
      "image/png": "[encoded data removed]",
      "text/plain": [
       "<Figure size 432x288 with 1 Axes>"
      ]
     },
     "metadata": {
      "needs_background": "light"
     },
     "output_type": "display_data"
    }
   ],
   "source": [
    "# Plot the tree and the points evaluated\n",
    "fig = plt.figure()\n",
    "ax = fig.add_subplot(111)\n",
    "axis = [-3.5, 3.5, 0.5, 6.5]\n",
    "# main tree\n",
    "plot_domain(5.5, 4, 5, green_cm, axis, ax)\n",
    "plot_domain(6, 5, 999, green_cm, axis, ax)\n",
    "plot_domain(5, 2.5, 4, green_cm, axis, ax)\n",
    "# trunk\n",
    "X, Y = np.meshgrid(np.arange(-0.75,0.75,0.01), np.arange(2,2.5,0.01))\n",
    "Z = objf_plot(X,Y)\n",
    "ax.contourf(X, Y, Z, cmap=green_cm)\n",
    "# present\n",
    "X, Y = np.meshgrid(np.arange(-1.,0.25,0.01), np.arange(1.3,1.8,0.01))\n",
    "Z = objf_plot(X,Y)\n",
    "ax.contourf(X, Y, Z, cmap=red_cm)\n",
    "ax.plot(sln.x[0], sln.x[1], marker='*', markersize=12)\n",
    "ax.scatter(*zip(*data.pts), s=25, marker='x', c='red')\n",
    "plt.show()"
   ]
  }
 ],
 "metadata": {
  "kernelspec": {
   "display_name": "Python 3",
   "language": "python",
   "name": "python3"
  },
  "language_info": {
   "codemirror_mode": {
    "name": "ipython",
    "version": 3
   },
   "file_extension": ".py",
   "mimetype": "text/x-python",
   "name": "python",
   "nbconvert_exporter": "python",
   "pygments_lexer": "ipython3",
   "version": "3.7.3"
  },
  "latex_envs": {
   "LaTeX_envs_menu_present": true,
   "autoclose": false,
   "autocomplete": true,
   "bibliofile": "biblio.bib",
   "cite_by": "apalike",
   "current_citInitial": 1,
   "eqLabelWithNumbers": true,
   "eqNumInitial": 1,
   "hotkeys": {
    "equation": "Ctrl-E",
    "itemize": "Ctrl-I"
   },
   "labels_anchors": false,
   "latex_user_defs": false,
   "report_style_numbering": false,
   "user_envs_cfg": false
  }
 },
 "nbformat": 4,
 "nbformat_minor": 2
}
