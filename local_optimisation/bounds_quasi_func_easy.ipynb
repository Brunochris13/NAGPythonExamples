{
 "cells": [
  {
   "cell_type": "markdown",
   "metadata": {},
   "source": [
    "# Minimizing the generalized Rosenbrock function\n",
    "\n",
    "Suppose that we wish to minimize the ‘generalized Rosenbrock’ function using\n",
    "bound constrained optimization.\n",
    "\n",
    "Interfaces to the NAG Library are provided in the ``naginterfaces.library``\n",
    "subpackage\n",
    "\n",
    "One can see from the HTML documentation at https://www.nag.com/numeric/py/nagdoc_latest/naginterfaces.library.html that the relevant algorithmic submodule for (local) optimization is ``opt``.\n",
    "\n",
    "Studying the `opt` Functionality Index confirms that the relevant optimization solver to call is\n",
    "``bounds_quasi_func_easy``. The HTML documentation for this solver is at https://www.nag.com/numeric/py/nagdoc_latest/naginterfaces.library.opt.html#naginterfaces.library.opt.bounds_quasi_func_easy.\n",
    "\n",
    "The optimization solver may be imported directly if desired"
   ]
  },
  {
   "cell_type": "code",
   "execution_count": null,
   "metadata": {},
   "outputs": [],
   "source": [
    "from naginterfaces.library.opt import bounds_quasi_func_easy"
   ]
  },
  {
   "cell_type": "markdown",
   "metadata": {},
   "source": [
    "Now define the optimization problem: first, the objective function for the\n",
    "generalized Rosenbrock problem. From the documented signature of the NAG routine"
   ]
  },
  {
   "cell_type": "code",
   "execution_count": null,
   "metadata": {},
   "outputs": [],
   "source": [
    "help(bounds_quasi_func_easy)"
   ]
  },
  {
   "cell_type": "markdown",
   "metadata": {},
   "source": [
    "we can infer that parameter ``funct1`` may be specified as a\n",
    "lambda expression in our case, where we do not have any communication data\n",
    "(``data``) to pass to the function"
   ]
  },
  {
   "cell_type": "code",
   "execution_count": null,
   "metadata": {},
   "outputs": [],
   "source": [
    "rosen = lambda x: (sum(100.0*(x[1:]-x[:-1]**2.0)**2.0 + (1.0-x[:-1])**2.0))"
   ]
  },
  {
   "cell_type": "markdown",
   "metadata": {},
   "source": [
    "Here is a contour plot of the function in 2D (there's no need to pay attention to the details of how we do this using matplotlib):"
   ]
  },
  {
   "cell_type": "code",
   "execution_count": null,
   "metadata": {},
   "outputs": [],
   "source": [
    "%matplotlib notebook\n",
    "import matplotlib\n",
    "import matplotlib.pyplot as plt\n",
    "matplotlib.use('nbagg')\n",
    "from mpl_toolkits.mplot3d import Axes3D\n",
    "from matplotlib import cm\n",
    "import numpy as np\n",
    "\n",
    "delta = 0.05\n",
    "x = np.arange(-3., 3., delta)\n",
    "y = np.arange(-3., 3, delta)\n",
    "X, Y = np.meshgrid(x, y)\n",
    "Z = np.empty((len(X), len(Y)))\n",
    "for i, x_i in enumerate(x):\n",
    "    for j, y_j in enumerate(y):\n",
    "        Z[j, i] = rosen(np.array([x_i, y_j]))\n",
    "\n",
    "fig = plt.figure()\n",
    "ax = Axes3D(fig)\n",
    "ax.grid(False)\n",
    "ax.plot_wireframe(X, Y, Z, color='red', linewidths=0.4)\n",
    "ax.contour(X, Y, Z, levels=[5, 25, 50, 100, 250, 500, 1000, 1500, 2000, 2500], offset=-3000.0, cmap=cm.jet)\n",
    "ax.set_title('The 2D Rosenbrock Function')\n",
    "ax.set_xlabel(r'$\\mathit{x}$')\n",
    "ax.set_ylabel(r'$\\mathit{y}$')\n",
    "ax.set_zlim3d(-1.0, 10000.0)\n",
    "ax.azim = -20\n",
    "ax.elev = 20\n",
    "plt.show()\n"
   ]
  },
  {
   "cell_type": "markdown",
   "metadata": {},
   "source": [
    "But we're going to find a minimum of the 10D Rosenbrock function (we can't plot that!).\n",
    "\n",
    "First we define an initial guess for the optimization. In the\n",
    "``naginterfaces.library`` subpackage input array data may be supplied in any\n",
    "‘array-like’ container, as noted above in the ``float, array-like, shape (n)``\n",
    "specification for argument ``x``. For our one-dimensional ``x``, this means\n",
    "that any sequence of data will be a suitable container, as will a\n",
    "``numpy.ndarray``.\n",
    "(In functions taking multi-dimensional data, nested sequences and again\n",
    "instances of ``numpy.ndarray`` are valid.) Furthermore, the shape (length) of\n",
    "the ``x`` we supply determines the (inferred) value of ``n`` for the problem.\n",
    "\n",
    "Our chosen start point is $(0., 0., ..., 0., 0.)$ and thus any of the\n",
    "following may be used to supply the ‘array-like’ vector ``x``:\n",
    "\n",
    "- as a ``list``\n"
   ]
  },
  {
   "cell_type": "code",
   "execution_count": null,
   "metadata": {},
   "outputs": [],
   "source": [
    "x = [0.]*10"
   ]
  },
  {
   "cell_type": "markdown",
   "metadata": {},
   "source": [
    "- as a ``tuple``"
   ]
  },
  {
   "cell_type": "code",
   "execution_count": null,
   "metadata": {},
   "outputs": [],
   "source": [
    "x = (0., 0., 0., 0., 0., 0., 0., 0., 0., 0.)"
   ]
  },
  {
   "cell_type": "markdown",
   "metadata": {},
   "source": [
    "- as an ``ndarray``\n"
   ]
  },
  {
   "cell_type": "code",
   "execution_count": null,
   "metadata": {},
   "outputs": [],
   "source": [
    "x = np.array([0.]*10)"
   ]
  },
  {
   "cell_type": "markdown",
   "metadata": {},
   "source": [
    "Now define box bounds for the problem"
   ]
  },
  {
   "cell_type": "code",
   "execution_count": null,
   "metadata": {},
   "outputs": [],
   "source": [
    "n = len(x)\n",
    "bl, bu = [0.0]*n, [2.0]*n\n",
    "ibound = 0"
   ]
  },
  {
   "cell_type": "markdown",
   "metadata": {},
   "source": [
    "Minimize the problem"
   ]
  },
  {
   "cell_type": "code",
   "execution_count": null,
   "metadata": {},
   "outputs": [],
   "source": [
    "opt_soln = bounds_quasi_func_easy(ibound, rosen, bl, bu, x)"
   ]
  },
  {
   "cell_type": "markdown",
   "metadata": {},
   "source": [
    "Arguments returned by the NAG routine can be accessed as named fields of the return tuple.\n",
    "\n",
    "Display the results"
   ]
  },
  {
   "cell_type": "code",
   "execution_count": null,
   "metadata": {},
   "outputs": [],
   "source": [
    "print('Function value at lowest point found is {:.5f}.'.format(opt_soln.f))\n",
    "print('The corresponding x is (' + ', '.join(['{:.4f}'] * n).format(*opt_soln.x) + ').')"
   ]
  }
 ],
 "metadata": {
  "kernelspec": {
   "display_name": "Python 3",
   "language": "python",
   "name": "python3"
  },
  "language_info": {
   "codemirror_mode": {
    "name": "ipython",
    "version": 3
   },
   "file_extension": ".py",
   "mimetype": "text/x-python",
   "name": "python",
   "nbconvert_exporter": "python",
   "pygments_lexer": "ipython3",
   "version": "3.6.1"
  }
 },
 "nbformat": 4,
 "nbformat_minor": 1
}
