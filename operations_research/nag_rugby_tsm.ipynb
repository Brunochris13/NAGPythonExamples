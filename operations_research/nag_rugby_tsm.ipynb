{
 "cells": [
  {
   "cell_type": "markdown",
   "metadata": {},
   "source": [
    "## Rugby World Cup Venues - Travelling Salesman Problem\n",
    "\n",
    "We have a file containing distances (in metres) and times (in seconds) to cycle between various stadiums in the UK, all of which have been used to host matches in the Rugby World Cup. The file is stored in \"tab separated value\" (tsv) format. We want to find the best way to travel between all the stadiums in the list. By \"best\", we mean either shortest distance, or shortest time."
   ]
  },
  {
   "cell_type": "markdown",
   "metadata": {},
   "source": [
    "<em>Acknowledgements: this notebook was inspired by work of Randy Olson; his code to find the shortest path for a road trip across the USA can be found at his Github page [here](http://nbviewer.ipython.org/github/rhiever/Data-Analysis-and-Machine-Learning-Projects/blob/master/optimal-road-trip/Computing%20the%20optimal%20road%20trip%20across%20the%20U.S..ipynb). The first version of this NAG notebook was created by John Muddle.</em>"
   ]
  },
  {
   "cell_type": "markdown",
   "metadata": {},
   "source": [
    "First of all we define the various stadiums:"
   ]
  },
  {
   "cell_type": "code",
   "execution_count": null,
   "metadata": {},
   "outputs": [],
   "source": [
    "all_stadiums = [\"Brighton community stadium, UK\", \n",
    "                \"City of Manchester Stadium, Ashton New Road, Manchester\",\n",
    "                \"Elland Road, UK\",\n",
    "                \"King Power Stadium, Filbert Way, Leicester\",\n",
    "                \"Kingsholm Stadium, Kingsholm Road, Gloucester\",\n",
    "                \"Millennium Stadium, Westgate Street, Cardiff\",\n",
    "                \"Sandy Park Stadium, Exeter\",\n",
    "                \"St. James' Park, Barrack Road, Newcastle upon Tyne\",\n",
    "                \"Stadium MK, Grafton Street, Bletchley\",\n",
    "                \"The Stadium, Queen Elizabeth Olympic Park\",\n",
    "                \"Twickenham Stadium, Whitton Road, Twickenham\",\n",
    "                \"Villa Park, Trinity Road, Birmingham\",\n",
    "                \"Wembley Stadium, Wembley\"]"
   ]
  },
  {
   "cell_type": "markdown",
   "metadata": {},
   "source": [
    "Then we load distance and time data from a file, using a routine from pandas, a Python data analysis library. The file is stored in \"tab separated value\" (tsv) format. The distances and times in the file were calculated using Google maps."
   ]
  },
  {
   "cell_type": "code",
   "execution_count": null,
   "metadata": {},
   "outputs": [],
   "source": [
    "import pandas as pn\n",
    "stadium_data = pn.read_csv(\"my-rugby-bike-stadiums-dist-dur.tsv\", sep=\"\\t\")"
   ]
  },
  {
   "cell_type": "markdown",
   "metadata": {},
   "source": [
    "Let's take a look at the contents of the file. Since we have n=13 stadiums, and the file needs to contain distances between every pair of stadiums, the file contains 12+11+10+...+1 = n*(n-1)/2 = 78 lines."
   ]
  },
  {
   "cell_type": "code",
   "execution_count": null,
   "metadata": {},
   "outputs": [],
   "source": [
    "stadium_data"
   ]
  },
  {
   "cell_type": "markdown",
   "metadata": {},
   "source": [
    "Create matrices containing distances and times, for input to the NAG function"
   ]
  },
  {
   "cell_type": "code",
   "execution_count": null,
   "metadata": {},
   "outputs": [],
   "source": [
    "import numpy as np\n",
    "distance_matrix = np.zeros((len(all_stadiums),len(all_stadiums)))\n",
    "duration_matrix = np.zeros((len(all_stadiums),len(all_stadiums)))\n",
    "for index, row in stadium_data.iterrows():\n",
    "    distance_matrix[all_stadiums.index(row['stadium1'])][all_stadiums.index(row['stadium2'])] = row['distance_m']\n",
    "    distance_matrix[all_stadiums.index(row['stadium2'])][all_stadiums.index(row['stadium1'])] = row['distance_m']\n",
    "    duration_matrix[all_stadiums.index(row['stadium1'])][all_stadiums.index(row['stadium2'])] = row['duration_s']\n",
    "    duration_matrix[all_stadiums.index(row['stadium2'])][all_stadiums.index(row['stadium1'])] = row['duration_s']"
   ]
  },
  {
   "cell_type": "markdown",
   "metadata": {},
   "source": [
    "Setup the NAG solver mip.tsp_simann\n",
    "\n",
    "Function tsp_simann requires a randomly generated state to initalise; we use rand.init_repeat to define this state."
   ]
  },
  {
   "cell_type": "code",
   "execution_count": null,
   "metadata": {},
   "outputs": [],
   "source": [
    "from naginterfaces.library import rand\n",
    "statecomm = rand.init_repeat(genid=2,seed=[304950, 889934, 209094, 23423990],subid=53)"
   ]
  },
  {
   "cell_type": "markdown",
   "metadata": {},
   "source": [
    "Find the optimal path using mip.tsp_simann. We call the function twice, once to find optimal distance, and once to find optimal time."
   ]
  },
  {
   "cell_type": "code",
   "execution_count": null,
   "metadata": {},
   "outputs": [],
   "source": [
    "from naginterfaces.library import mip\n",
    "soln_distance=mip.tsp_simann(dm=distance_matrix, bound=-1.0, targc=-1.0, statecomm=statecomm)\n",
    "soln_duration=mip.tsp_simann(dm=duration_matrix, bound=-1.0, targc=-1.0, statecomm=statecomm)\n",
    "print(soln_distance.path)\n",
    "print(soln_duration.path)"
   ]
  },
  {
   "cell_type": "markdown",
   "metadata": {},
   "source": [
    "The desired paths are stored in the integer list \"path\" of the tuple returned by mip.tsp_simann. We convert from the returned paths to the corresponding stadiums"
   ]
  },
  {
   "cell_type": "code",
   "execution_count": null,
   "metadata": {},
   "outputs": [],
   "source": [
    "optimal_path_distance = []\n",
    "optimal_path_duration = []\n",
    "for i in soln_distance.path:\n",
    "    optimal_path_distance.append(all_stadiums[i-1])\n",
    "for i in soln_duration.path:\n",
    "    optimal_path_duration.append(all_stadiums[i-1])"
   ]
  },
  {
   "cell_type": "markdown",
   "metadata": {},
   "source": [
    "And print the results"
   ]
  },
  {
   "cell_type": "code",
   "execution_count": null,
   "metadata": {},
   "outputs": [],
   "source": [
    "print('This is the shortest path by distance, of {:4.2f} kilometres:'.format(soln_distance.cost/1000))\n",
    "print(optimal_path_distance)"
   ]
  },
  {
   "cell_type": "code",
   "execution_count": null,
   "metadata": {},
   "outputs": [],
   "source": [
    "print('This is the shortest path by time, of {:4.2f} hours:'.format(soln_duration.cost/3600))\n",
    "print(optimal_path_duration)"
   ]
  }
 ],
 "metadata": {
  "kernelspec": {
   "display_name": "Python 3",
   "language": "python",
   "name": "python3"
  },
  "language_info": {
   "codemirror_mode": {
    "name": "ipython",
    "version": 3
   },
   "file_extension": ".py",
   "mimetype": "text/x-python",
   "name": "python",
   "nbconvert_exporter": "python",
   "pygments_lexer": "ipython3",
   "version": "3.6.1"
  }
 },
 "nbformat": 4,
 "nbformat_minor": 1
}
