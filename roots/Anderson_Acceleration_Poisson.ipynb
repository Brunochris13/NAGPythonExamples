{
 "cells": [
  {
   "cell_type": "code",
   "execution_count": 1,
   "metadata": {},
   "outputs": [],
   "source": [
    "import numpy as np\n",
    "from numba import jit,jitclass,float64,int64\n",
    "import matplotlib.pyplot as plt\n",
    "%matplotlib inline\n",
    "np.set_printoptions(precision=16,suppress=True)\n",
    "\n",
    "from naginterfaces.library import machine, roots\n",
    "eps  = machine.precision()"
   ]
  },
  {
   "cell_type": "markdown",
   "metadata": {},
   "source": [
    "# Using Anderson Acceleration to speed up fixed-point iterations\n",
    "\n"
   ]
  },
  {
   "cell_type": "markdown",
   "metadata": {},
   "source": [
    "##  Accelerating the fixed point solution of sin(x) = x\n",
    "\n",
    "Type any real number into a calculator and repeatedly press the cosine button. The result eventually converges to about 0.739095 which is the solution of the equation $x = cos(x)$.  This is an example of a fixed-point iteration.  The general case is any computation that looks like this\n",
    "\n",
    "\\begin{align}\n",
    "x_n{+1} = f(x_n)\n",
    "\\end{align}\n",
    "\n",
    "which is repeated until a convergence criterion is reached. Such computations arise naturally in many areas of finance, physics and engineering.\n",
    "\n",
    "We could code the cosine fixed-point computation in Python as follows"
   ]
  },
  {
   "cell_type": "code",
   "execution_count": 2,
   "metadata": {},
   "outputs": [
    {
     "data": {
      "text/plain": [
       "(88, 0.73908513321516034)"
      ]
     },
     "execution_count": 2,
     "metadata": {},
     "output_type": "execute_result"
    }
   ],
   "source": [
    "def fcos(x):\n",
    "    \"\"\"Performs one iteration of the cosine fixed point iteration\n",
    "    \"\"\"\n",
    "    return (np.cos(x))\n",
    "\n",
    "def fp_driver(x0,func,tol):\n",
    "    x  = x0 # starting guess\n",
    "    err = 1000000 # Huge error to start things off\n",
    "    iterations = 0\n",
    "    while err > tol: \n",
    "        nextx = func(x)\n",
    "        err = np.sqrt((x - nextx)**2)\n",
    "        x = nextx\n",
    "        iterations = iterations +1\n",
    "    return(iterations,x)\n",
    "\n",
    "fp_driver(3,fcos,1e-15)"
   ]
  },
  {
   "cell_type": "markdown",
   "metadata": {},
   "source": [
    "Demonstrating that we get convergence to a tolerance of 1e-15 in 88 iterations.  A natural question to ask is 'Can we accelerate the convergence somehow? and the answer is 'Yes, using a technique called Anderson Acceleration'. \n",
    "\n",
    "NAG recently introduced two Anderson Acceleration routines into the NAG Library following the success of the technique in the evaluation of nearest correlation matrices (The accelerated nearest correlation matrix routine is implemented in `naginterfaces.library.correg.corrmat_fixed`). Here, we will demonstrate the use of NAG's standard Anderson Acceleration routine `roots.sys_func_aa`\n",
    "\n",
    "`roots.sys_func_aa` takes the role of `fp_driver` in the code above.  Here's how to use it for the cosine example"
   ]
  },
  {
   "cell_type": "code",
   "execution_count": 3,
   "metadata": {},
   "outputs": [
    {
     "data": {
      "text/plain": [
       "array([ 0.7390851331723561])"
      ]
     },
     "execution_count": 3,
     "metadata": {},
     "output_type": "execute_result"
    }
   ],
   "source": [
    "def nag_fcos(x):\n",
    "    \"\"\"Performs one iteration of the cosine fixed point iteration\n",
    "    \"\"\"\n",
    "    # Note that NAG requires f(x) - x to be returned instead of just f(x)\n",
    "    return (np.cos(x)-x)\n",
    "\n",
    "m = 0 # When m=0, Acceleration is turned off so this is identical to running a basic fixed-point calculation\n",
    "tol = 1e-10\n",
    "(nag_cos,_) = roots.sys_func_aa(nag_fcos,3.0, tol, eps, m)\n",
    "(nag_cos)"
   ]
  },
  {
   "cell_type": "markdown",
   "metadata": {},
   "source": [
    "We turn on acceleration by setting `m` to something more than 0. "
   ]
  },
  {
   "cell_type": "code",
   "execution_count": 4,
   "metadata": {},
   "outputs": [
    {
     "data": {
      "text/plain": [
       "array([ 0.7390851331642223])"
      ]
     },
     "execution_count": 4,
     "metadata": {},
     "output_type": "execute_result"
    }
   ],
   "source": [
    "(nag_cos,_) = roots.sys_func_aa(nag_fcos,3.0, tol, eps, m=1)\n",
    "nag_cos"
   ]
  },
  {
   "cell_type": "markdown",
   "metadata": {},
   "source": [
    "Unfortunately, the NAG routine does not return the number of iterations required for convergence so we have no idea what the benefit of acceleration is unless we count them ourselves.  We do this with a helper class which we pass to the nag_fcos function"
   ]
  },
  {
   "cell_type": "code",
   "execution_count": 5,
   "metadata": {},
   "outputs": [
    {
     "name": "stdout",
     "output_type": "stream",
     "text": [
      "Solution found was 0.7390851332151611 in 88 iterations with acceleration switched off\n",
      "Solution found was 0.7390851332151607 in 10 iterations with acceleration switched on\n"
     ]
    }
   ],
   "source": [
    "class fpinfo:\n",
    "    \"\"\"A class used to get information to/from the NAG routine\n",
    "    \"\"\"\n",
    "    def __init__(self):\n",
    "        self.iterations = 0\n",
    "        \n",
    "def nag_fcos_withdata(x,data):\n",
    "    \"\"\"Performs one iteration of the cosine fixed point iteration\n",
    "    \"\"\"\n",
    "    # Note that NAG requires f(x) - x to be returned instead of just f(x)\n",
    "    data.iterations = data.iterations +1\n",
    "    return (np.cos(x)-x)\n",
    "\n",
    "tol = 1e-15\n",
    "data = fpinfo()\n",
    "(nag_cos,_) = roots.sys_func_aa(nag_fcos_withdata,3.0, tol, eps, m=0,data=data)\n",
    "print(f\"Solution found was {nag_cos[0]} in {data.iterations} iterations with acceleration switched off\")\n",
    "data = fpinfo()\n",
    "(nag_cos,_) = roots.sys_func_aa(nag_fcos_withdata,3.0, tol, eps, m=1,data=data)\n",
    "print(f\"Solution found was {nag_cos[0]} in {data.iterations} iterations with acceleration switched on\")"
   ]
  },
  {
   "cell_type": "markdown",
   "metadata": {},
   "source": [
    "An almost 9-fold improvement in iteration count simply by switching on acceleration is extremely useful.  We move on to consider a more challenging example of fixed-point iteration."
   ]
  },
  {
   "cell_type": "code",
   "execution_count": 9,
   "metadata": {},
   "outputs": [],
   "source": [
    "## Solving the Poisson equation"
   ]
  },
  {
   "cell_type": "code",
   "execution_count": null,
   "metadata": {},
   "outputs": [],
   "source": [
    "def source(N):\n",
    "    #  Produces a matrix corresponding to a source term\n",
    "    #  Want two line sources with total charge of +/- 1 on each line\n",
    "    # This is our function f(x,y) in the poisson equation\n",
    "    x0 = np.zeros((N,N))\n",
    "    h = 1/(N-1)\n",
    "    source_rows = range((N//4),(3*N//4))\n",
    "    source_col1 = N//4\n",
    "    source_col2 = 3*N//4\n",
    "    \n",
    "    x0[source_rows,source_col1] = x0[source_rows,source_col1] + 1/(N*0.5*h**2)\n",
    "    x0[source_rows,source_col2] = x0[source_rows,source_col2] - 1/(N*0.5*h**2)\n",
    "    return(x0)\n",
    "\n",
    "def init_problem(N=50):\n",
    "    # Initialises an N x N problem domain with an initialised source\n",
    "    x0 = np.zeros((N,N))\n",
    "    x0 = x0 + source(N)\n",
    "    return(x0)\n",
    "\n",
    "x0 = init_problem(50)\n",
    "plt.imshow(x0);\n",
    "plt.title('Initial conditions of our example problem on a 50 x 50 grid');"
   ]
  },
  {
   "cell_type": "markdown",
   "metadata": {},
   "source": [
    "We now look at the three solution methods in turn\n",
    "\n",
    "### The Jacobi Method\n",
    "\n",
    "Starting from the nth configuration of the discretized grid $u^{n}$, we get the next configuration by applying the following formula to every $(i,j)$th grid point other than the very edges where we apply the boundary conditions.\n",
    "\n",
    "\\begin{align}\n",
    "u^{n+1}_{j,i} = \\frac{1}{4} \\left(u^{n}_{j+1,i} +u^{n}_{j-1,i} +u^{n}_{j,i+1} +u^{n}_{j,i-1}  \\right)+\\frac{h^2}{4}f_{j,i}\n",
    "\\end{align}\n",
    "\n",
    "An implementation of this iteration in Python is "
   ]
  },
  {
   "cell_type": "code",
   "execution_count": 6,
   "metadata": {},
   "outputs": [],
   "source": [
    "@jit\n",
    "def jacobi(x,source,solverinfo):\n",
    "    \"\"\"Performs one iteration of the jacobi method\n",
    "    \n",
    "    Arguments:\n",
    "    x - N x N Matrix containing the previous iteration of the solution\n",
    "    source - N x N Matrix containing our source function evaluated on the grid\n",
    "    solverinfo - Takes a solverinfo object to get info in/out of the solver\n",
    "    \"\"\"\n",
    "    N = x.shape[0]\n",
    "    nextx = np.zeros((N,N))\n",
    "    h = 1/(N-1)\n",
    "    # loop over the grid\n",
    "    # Only iterate over interior points thus keeping the edges untouched and hence enforcing \n",
    "    # the boundary condition that x = 0 at the edges.\n",
    "    for i in range(1,N - 1):\n",
    "        for j in range(1,N - 1):\n",
    "            nextx[j,i] = 0.25 * (x[j+1,i] + x[j,i+1] + x[j-1,i] + x[j,i-1]) + 0.25*h**2*source[j,i]\n",
    "    solverinfo.iterations += 1\n",
    "    return nextx"
   ]
  },
  {
   "cell_type": "markdown",
   "metadata": {},
   "source": [
    "Next we need a driver for the jacobi iteration function.  Something that is general enough to drive subsequent methods of solving our problem."
   ]
  },
  {
   "cell_type": "code",
   "execution_count": 7,
   "metadata": {},
   "outputs": [],
   "source": [
    "# This spec is required for Numba jit compilation\n",
    "spec = [\n",
    "    ('iterations',int64),\n",
    "    ('w',float64)\n",
    "]\n",
    "\n",
    "@jitclass(spec)\n",
    "class solverinfo:\n",
    "    \"\"\"A class used to get information to/from a solver\n",
    "    \"\"\"\n",
    "    def __init__(self,w = 1):\n",
    "        self.iterations = 0\n",
    "        self.w = 1 #Used for SOR and ignored for everything else\n",
    "\n",
    "def solve_poisson(x,tol,data,method):\n",
    "    \"\"\"Solves poisson's equation\n",
    "    \n",
    "    x - N x N Matrix containing the initial configuration of the problem space\n",
    "    tol - Convergence tolerance\n",
    "    data - A solverinfo object to get arbitrary info in/out of the solver\n",
    "    method - A function that performs one solution iteration\n",
    "    \"\"\"\n",
    "    N = int(np.sqrt(x.size))\n",
    "    err = 1 # Big error to start things off with\n",
    "    while err > tol:    \n",
    "        nextx = method(x,source(N),data)\n",
    "        err = np.sqrt(np.sum((x - nextx)**2))\n",
    "        x = np.copy(nextx)\n",
    "    return(x)"
   ]
  },
  {
   "cell_type": "markdown",
   "metadata": {},
   "source": [
    "Finally, we can set up and solve an instance of our problem using the Jacobi method."
   ]
  },
  {
   "cell_type": "code",
   "execution_count": 8,
   "metadata": {},
   "outputs": [
    {
     "ename": "NameError",
     "evalue": "name 'init_problem' is not defined",
     "output_type": "error",
     "traceback": [
      "\u001b[1;31m---------------------------------------------------------------------------\u001b[0m",
      "\u001b[1;31mNameError\u001b[0m                                 Traceback (most recent call last)",
      "\u001b[1;32m<ipython-input-8-117be77860b7>\u001b[0m in \u001b[0;36m<module>\u001b[1;34m()\u001b[0m\n\u001b[0;32m      1\u001b[0m \u001b[0mN\u001b[0m \u001b[1;33m=\u001b[0m \u001b[1;36m100\u001b[0m\u001b[1;33m\u001b[0m\u001b[1;33m\u001b[0m\u001b[0m\n\u001b[1;32m----> 2\u001b[1;33m \u001b[0mu\u001b[0m \u001b[1;33m=\u001b[0m \u001b[0minit_problem\u001b[0m\u001b[1;33m(\u001b[0m\u001b[0mN\u001b[0m\u001b[1;33m)\u001b[0m\u001b[1;33m\u001b[0m\u001b[1;33m\u001b[0m\u001b[0m\n\u001b[0m\u001b[0;32m      3\u001b[0m \u001b[0mjacobi_info\u001b[0m \u001b[1;33m=\u001b[0m \u001b[0msolverinfo\u001b[0m\u001b[1;33m(\u001b[0m\u001b[1;33m)\u001b[0m\u001b[1;33m\u001b[0m\u001b[1;33m\u001b[0m\u001b[0m\n\u001b[0;32m      4\u001b[0m \u001b[0mtol\u001b[0m \u001b[1;33m=\u001b[0m \u001b[1;36m1e-9\u001b[0m\u001b[1;33m\u001b[0m\u001b[1;33m\u001b[0m\u001b[0m\n\u001b[0;32m      5\u001b[0m \u001b[0mjacobi_sol\u001b[0m \u001b[1;33m=\u001b[0m \u001b[0msolve_poisson\u001b[0m\u001b[1;33m(\u001b[0m\u001b[0mu\u001b[0m\u001b[1;33m,\u001b[0m\u001b[0mtol\u001b[0m\u001b[1;33m,\u001b[0m\u001b[0mjacobi_info\u001b[0m\u001b[1;33m,\u001b[0m\u001b[0mjacobi\u001b[0m\u001b[1;33m)\u001b[0m\u001b[1;33m\u001b[0m\u001b[1;33m\u001b[0m\u001b[0m\n",
      "\u001b[1;31mNameError\u001b[0m: name 'init_problem' is not defined"
     ]
    }
   ],
   "source": [
    "N = 100\n",
    "u = init_problem(N)\n",
    "jacobi_info = solverinfo()\n",
    "tol = 1e-9\n",
    "jacobi_sol = solve_poisson(u,tol,jacobi_info,jacobi)\n",
    "print(f\"Jacobi-Seidel on a {N} by {N} grid\")\n",
    "print(f\"Solution found in {jacobi_info.iterations} iterations\")\n",
    "plt.imshow(jacobi_sol);"
   ]
  },
  {
   "cell_type": "markdown",
   "metadata": {},
   "source": [
    "Poisson's equation gives us the potential.  For completeness, let's find the electric field by taking the gradient "
   ]
  },
  {
   "cell_type": "code",
   "execution_count": 32,
   "metadata": {},
   "outputs": [
    {
     "data": {
      "image/png": "[encoded data removed]",
      "text/plain": [
       "<Figure size 432x288 with 1 Axes>"
      ]
     },
     "metadata": {
      "needs_background": "light"
     },
     "output_type": "display_data"
    }
   ],
   "source": [
    "(Ex,Ey) = np.gradient(jacobi_sol)\n",
    "E = np.sqrt(Ex**2+Ey**2); # Magnitude of Electric field\n",
    "plt.imshow(E)\n",
    "plt.title('Electric Field');"
   ]
  },
  {
   "cell_type": "markdown",
   "metadata": {},
   "source": [
    "28,734 iterations is a lot and one hopes that we can do better with more sophisticated techniques. Fortunately, we can do better and 'more sophisticated' isn't quite as sophisticated as you might fear.\n",
    "\n",
    "### Gauss-Seidel method\n",
    "\n",
    "In the Jacobi method, we kept two, independent copies of the solution space.  Each element of the **new** solution is computed from the surrounding elements of the **old** solution.  In Gauss-Seidel we make use of new grid elements as soon as they become available.  That is, when we reach position $(j,i)$ in the grid we have already updated $u_{j-1,i}$ and $u_{j,i-1}$ so we can use those instead of the old values.\n",
    "\n",
    "\\begin{align}\n",
    "u^{n+1}_{j,i} = \\frac{1}{4} \\left(u^{n}_{j+1,i} +u^{n+1}_{j-1,i} +u^{n}_{j,i+1} +u^{n+1}_{j,i-1}  \\right)+\\frac{h^2}{4}f_{j,i}\n",
    "\\end{align}\n",
    "\n",
    "The Gauss-Seidel iteration, therefore, looks like this"
   ]
  },
  {
   "cell_type": "code",
   "execution_count": 12,
   "metadata": {},
   "outputs": [],
   "source": [
    "@jit\n",
    "def gauss_seidel(x,source,solverinfo):\n",
    "    N = x.shape[0]\n",
    "    nextx = np.copy(x)\n",
    "    h = 1/(N-1)\n",
    "    for i in range(1, N - 1):\n",
    "        for j in range(1, N - 1):\n",
    "            nextx[j,i] = 0.25 * (nextx[j+1,i] + nextx[j,i+1] + nextx[j-1,i] + nextx[j,i-1]) + 0.25*h**2*source[j,i]\n",
    "    solverinfo.iterations += 1\n",
    "    return nextx"
   ]
  },
  {
   "cell_type": "code",
   "execution_count": 33,
   "metadata": {},
   "outputs": [
    {
     "name": "stdout",
     "output_type": "stream",
     "text": [
      "Gauss-Seidel on a 100 by 100 grid\n",
      "Solution found in 14877 iterations\n"
     ]
    },
    {
     "data": {
      "image/png": "[encoded data removed]",
      "text/plain": [
       "<Figure size 720x432 with 2 Axes>"
      ]
     },
     "metadata": {
      "needs_background": "light"
     },
     "output_type": "display_data"
    }
   ],
   "source": [
    "N = 100\n",
    "u = init_problem(N)\n",
    "gs_info = solverinfo()\n",
    "tol = 1e-9\n",
    "gs_sol = solve_poisson(u,tol,gs_info,gauss_seidel)\n",
    "\n",
    "print(f\"Gauss-Seidel on a {N} by {N} grid\")\n",
    "print(f\"Solution found in {gs_info.iterations} iterations\")\n",
    "fig, axes = plt.subplots(nrows=1, ncols=2, figsize=(10, 6))\n",
    "axes[0].imshow(gs_sol);\n",
    "axes[0].set_title('Potential')\n",
    "(Ex,Ey) = np.gradient(jacobi_sol)\n",
    "E = np.sqrt(Ex**2+Ey**2); # Magnitude of Electric field\n",
    "axes[1].imshow(E)\n",
    "axes[1].set_title('Electric Field');"
   ]
  },
  {
   "cell_type": "markdown",
   "metadata": {},
   "source": [
    "The number of iterations has almost halved which is a fantastic return on such a small investment.  The standard treatment of this problem has yet another trick up its sleeve with the Successive Over Relaxation Method (SOR) which is an extension of the Gauss-Seidel Method.\n",
    "\n",
    "### Successive Over Relaxation Method (SOR)\n",
    "\n",
    "Take the Gauss-Seidel update formula (2) and add and subtract $u_{i,j}^n$ to the right hand side\n",
    "\n",
    "\\begin{align}\n",
    "u^{n+1}_{j,i} & =  \\frac{1}{4} \\left(u^{n}_{j+1,i} +u^{n+1}_{j-1,i} +u^{n}_{j,i+1} +u^{n+1}_{j,i-1}  +h^2 f_{j,i} \\right) \\nonumber \\\\\n",
    "& = u_{i,j}^n + \\frac{1}{4} \\left(u^{n}_{j+1,i} +u^{n+1}_{j-1,i} +u^{n}_{j,i+1} +u^{n+1}_{j,i-1} + h^2 f_{j,i} - 4 u_{i,j}^n \\right) \\nonumber \\\\\n",
    "& = u_{i,j}^n + r_{i,j}\n",
    "\\end{align}\n",
    "\n",
    "So $r_{i,j}$ is the amount of change of $u_{i,j}$ for one iteration of Gauss_Seidel.  If this amount of change is good, maybe more of the same is better and it turns out that the convergence of Gauss-Seidel can be accelerated by making a larger change as follows \n",
    "\n",
    "\\begin{align}\n",
    "u^{n+1}_{j,i} & = u_{i,j}^n + \\omega r_{i,j}\n",
    "\\end{align}\n",
    "\n",
    "where $\\omega$ is positive constant called the acceleration factor that in practice lies between 1 and 2.  Note that when $\\omega = 1$ the SOR reduces to standard Gauss-Seidel.  \n",
    "\n",
    "There's no obvious way to choose the value of $\\omega$ although\n",
    "\n",
    "The Python looks like this"
   ]
  },
  {
   "cell_type": "code",
   "execution_count": 43,
   "metadata": {},
   "outputs": [],
   "source": [
    "@jit\n",
    "def SOR(x,source,solverinfo):\n",
    "    N = x.shape[0]\n",
    "    nextx = np.copy(x)\n",
    "    h = 1/(N-1)\n",
    "    w = solverinfo.w\n",
    "    for i in range(1, N - 1):\n",
    "        for j in range(1, N - 1):\n",
    "            new = 0.25 * (nextx[j-1,i] + nextx[j+1,i] + nextx[j,i-1]+ nextx[j,i+1]) + 0.25*h**2*source[j,i]\n",
    "            nextx[j,i] = nextx[j,i] + w * (new - nextx[j,i])\n",
    "    solverinfo.iterations += 1\n",
    "    return nextx"
   ]
  },
  {
   "cell_type": "markdown",
   "metadata": {},
   "source": [
    "Using this to solve our problem with $\\omega=1.94$  we have"
   ]
  },
  {
   "cell_type": "code",
   "execution_count": 55,
   "metadata": {},
   "outputs": [
    {
     "name": "stdout",
     "output_type": "stream",
     "text": [
      "SOR on a 100 by 100 grid\n",
      "Solution found in 486 iterations\n"
     ]
    },
    {
     "data": {
      "image/png": "[encoded data removed]",
      "text/plain": [
       "<Figure size 720x432 with 2 Axes>"
      ]
     },
     "metadata": {
      "needs_background": "light"
     },
     "output_type": "display_data"
    }
   ],
   "source": [
    "N = 100\n",
    "u = init_problem(N)\n",
    "SOR_info = solverinfo()\n",
    "SOR_info.w = 1.94\n",
    "tol = 1e-9\n",
    "SOR_sol = solve_poisson(u,tol,SOR_info,SOR)\n",
    "\n",
    "print(f\"SOR on a {N} by {N} grid\")\n",
    "print(f\"Solution found in {SOR_info.iterations} iterations\")\n",
    "fig, axes = plt.subplots(nrows=1, ncols=2, figsize=(10, 6))\n",
    "axes[0].imshow(gs_sol);\n",
    "axes[0].set_title('Potential')\n",
    "(Ex,Ey) = np.gradient(jacobi_sol)\n",
    "E = np.sqrt(Ex**2+Ey**2); # Magnitude of Electric field\n",
    "axes[1].imshow(E)\n",
    "axes[1].set_title('Electric Field');"
   ]
  },
  {
   "cell_type": "markdown",
   "metadata": {},
   "source": [
    "486 iterations is over 59x faster than our first attempt using the Jacobi method which needed 28,734 iterations to converge.\n",
    "\n",
    "Choose the SOR $\\omega$ parameter badly, however, and you can get performance that's more than 10x slower than when we chose well!  It's still several times faster than Jacobi or Gauss-Seidel however "
   ]
  },
  {
   "cell_type": "code",
   "execution_count": 184,
   "metadata": {},
   "outputs": [
    {
     "ename": "TypingError",
     "evalue": "Failed in nopython mode pipeline (step: nopython frontend)\nInternal error at <numba.typeinfer.CallConstraint object at 0x0000026306166A20>.\n\u001b[1m\u001b[1mFailed in nopython mode pipeline (step: nopython mode backend)\n\u001b[1m\u001b[1mexpecting {i8*, i8*, i64, i64, double*, [1 x i64], [1 x i64]} but got {i8*, i8*, i64, i64, double*, [2 x i64], [2 x i64]}\n\u001b[1m\nFile \"<ipython-input-74-9049d06d5999>\", line 15:\u001b[0m\n\u001b[1m    def __init__(self,N = 50,w = 1):\n        <source elided>\n        self.w = 1 #Used for SOR and ignored for everything else\n\u001b[1m        self.source = np.zeros((N,N))\n\u001b[0m        \u001b[1m^\u001b[0m\u001b[0m\n\u001b[0m\n\u001b[0m\u001b[1m[1] During: lowering \"(self).source = $0.10\" at <ipython-input-74-9049d06d5999> (15)\u001b[0m\n\u001b[0m\u001b[1m[2] During: resolving callee type: jitclass.solverinfo#26302db4f98<iterations:int64,w:float64,source:array(float64, 1d, A)>\u001b[0m\n\u001b[0m\u001b[1m[3] During: typing of call at <string> (3)\n\u001b[0m\nEnable logging at debug level for details.\n\u001b[1m\nFile \"<string>\", line 3:\u001b[0m\n\u001b[1m<source missing, REPL/exec in use?>\u001b[0m\n\nThis is not usually a problem with Numba itself but instead often caused by\nthe use of unsupported features or an issue in resolving types.\n\nTo see Python/NumPy features supported by the latest release of Numba visit:\nhttp://numba.pydata.org/numba-doc/latest/reference/pysupported.html\nand\nhttp://numba.pydata.org/numba-doc/latest/reference/numpysupported.html\n\nFor more information about typing errors and how to debug them visit:\nhttp://numba.pydata.org/numba-doc/latest/user/troubleshoot.html#my-code-doesn-t-compile\n\nIf you think your code should work with Numba, please report the error message\nand traceback, along with a minimal reproducer at:\nhttps://github.com/numba/numba/issues/new\n",
     "output_type": "error",
     "traceback": [
      "\u001b[1;31m---------------------------------------------------------------------------\u001b[0m",
      "\u001b[1;31mTypingError\u001b[0m                               Traceback (most recent call last)",
      "\u001b[1;32m<ipython-input-184-d13ad12562c5>\u001b[0m in \u001b[0;36m<module>\u001b[1;34m()\u001b[0m\n\u001b[0;32m      1\u001b[0m \u001b[0mN\u001b[0m \u001b[1;33m=\u001b[0m \u001b[1;36m100\u001b[0m\u001b[1;33m\u001b[0m\u001b[1;33m\u001b[0m\u001b[0m\n\u001b[0;32m      2\u001b[0m \u001b[0mu\u001b[0m \u001b[1;33m=\u001b[0m \u001b[0minit_problem\u001b[0m\u001b[1;33m(\u001b[0m\u001b[0mN\u001b[0m\u001b[1;33m)\u001b[0m\u001b[1;33m\u001b[0m\u001b[1;33m\u001b[0m\u001b[0m\n\u001b[1;32m----> 3\u001b[1;33m \u001b[0mSOR_info\u001b[0m \u001b[1;33m=\u001b[0m \u001b[0msolverinfo\u001b[0m\u001b[1;33m(\u001b[0m\u001b[1;33m)\u001b[0m\u001b[1;33m\u001b[0m\u001b[1;33m\u001b[0m\u001b[0m\n\u001b[0m\u001b[0;32m      4\u001b[0m \u001b[0mSOR_info\u001b[0m\u001b[1;33m.\u001b[0m\u001b[0mw\u001b[0m \u001b[1;33m=\u001b[0m \u001b[1;36m1.9\u001b[0m\u001b[1;33m\u001b[0m\u001b[1;33m\u001b[0m\u001b[0m\n\u001b[0;32m      5\u001b[0m \u001b[0mtol\u001b[0m \u001b[1;33m=\u001b[0m \u001b[1;36m1e-9\u001b[0m\u001b[1;33m\u001b[0m\u001b[1;33m\u001b[0m\u001b[0m\n",
      "\u001b[1;32mC:\\Users\\michael.croucher\\AppData\\Local\\Continuum\\anaconda3\\envs\\NAGPythonRelease\\lib\\site-packages\\numba\\jitclass\\base.py\u001b[0m in \u001b[0;36m__call__\u001b[1;34m(cls, *args, **kwargs)\u001b[0m\n\u001b[0;32m    124\u001b[0m         \u001b[0mbind\u001b[0m \u001b[1;33m=\u001b[0m \u001b[0mcls\u001b[0m\u001b[1;33m.\u001b[0m\u001b[0m_ctor_sig\u001b[0m\u001b[1;33m.\u001b[0m\u001b[0mbind\u001b[0m\u001b[1;33m(\u001b[0m\u001b[1;32mNone\u001b[0m\u001b[1;33m,\u001b[0m \u001b[1;33m*\u001b[0m\u001b[0margs\u001b[0m\u001b[1;33m,\u001b[0m \u001b[1;33m**\u001b[0m\u001b[0mkwargs\u001b[0m\u001b[1;33m)\u001b[0m\u001b[1;33m\u001b[0m\u001b[1;33m\u001b[0m\u001b[0m\n\u001b[0;32m    125\u001b[0m         \u001b[0mbind\u001b[0m\u001b[1;33m.\u001b[0m\u001b[0mapply_defaults\u001b[0m\u001b[1;33m(\u001b[0m\u001b[1;33m)\u001b[0m\u001b[1;33m\u001b[0m\u001b[1;33m\u001b[0m\u001b[0m\n\u001b[1;32m--> 126\u001b[1;33m         \u001b[1;32mreturn\u001b[0m \u001b[0mcls\u001b[0m\u001b[1;33m.\u001b[0m\u001b[0m_ctor\u001b[0m\u001b[1;33m(\u001b[0m\u001b[1;33m*\u001b[0m\u001b[0mbind\u001b[0m\u001b[1;33m.\u001b[0m\u001b[0margs\u001b[0m\u001b[1;33m[\u001b[0m\u001b[1;36m1\u001b[0m\u001b[1;33m:\u001b[0m\u001b[1;33m]\u001b[0m\u001b[1;33m,\u001b[0m \u001b[1;33m**\u001b[0m\u001b[0mbind\u001b[0m\u001b[1;33m.\u001b[0m\u001b[0mkwargs\u001b[0m\u001b[1;33m)\u001b[0m\u001b[1;33m\u001b[0m\u001b[1;33m\u001b[0m\u001b[0m\n\u001b[0m\u001b[0;32m    127\u001b[0m \u001b[1;33m\u001b[0m\u001b[0m\n\u001b[0;32m    128\u001b[0m \u001b[1;33m\u001b[0m\u001b[0m\n",
      "\u001b[1;32mC:\\Users\\michael.croucher\\AppData\\Local\\Continuum\\anaconda3\\envs\\NAGPythonRelease\\lib\\site-packages\\numba\\dispatcher.py\u001b[0m in \u001b[0;36m_compile_for_args\u001b[1;34m(self, *args, **kws)\u001b[0m\n\u001b[0;32m    374\u001b[0m                 \u001b[0me\u001b[0m\u001b[1;33m.\u001b[0m\u001b[0mpatch_message\u001b[0m\u001b[1;33m(\u001b[0m\u001b[0mmsg\u001b[0m\u001b[1;33m)\u001b[0m\u001b[1;33m\u001b[0m\u001b[1;33m\u001b[0m\u001b[0m\n\u001b[0;32m    375\u001b[0m \u001b[1;33m\u001b[0m\u001b[0m\n\u001b[1;32m--> 376\u001b[1;33m             \u001b[0merror_rewrite\u001b[0m\u001b[1;33m(\u001b[0m\u001b[0me\u001b[0m\u001b[1;33m,\u001b[0m \u001b[1;34m'typing'\u001b[0m\u001b[1;33m)\u001b[0m\u001b[1;33m\u001b[0m\u001b[1;33m\u001b[0m\u001b[0m\n\u001b[0m\u001b[0;32m    377\u001b[0m         \u001b[1;32mexcept\u001b[0m \u001b[0merrors\u001b[0m\u001b[1;33m.\u001b[0m\u001b[0mUnsupportedError\u001b[0m \u001b[1;32mas\u001b[0m \u001b[0me\u001b[0m\u001b[1;33m:\u001b[0m\u001b[1;33m\u001b[0m\u001b[1;33m\u001b[0m\u001b[0m\n\u001b[0;32m    378\u001b[0m             \u001b[1;31m# Something unsupported is present in the user code, add help info\u001b[0m\u001b[1;33m\u001b[0m\u001b[1;33m\u001b[0m\u001b[1;33m\u001b[0m\u001b[0m\n",
      "\u001b[1;32mC:\\Users\\michael.croucher\\AppData\\Local\\Continuum\\anaconda3\\envs\\NAGPythonRelease\\lib\\site-packages\\numba\\dispatcher.py\u001b[0m in \u001b[0;36merror_rewrite\u001b[1;34m(e, issue_type)\u001b[0m\n\u001b[0;32m    341\u001b[0m                 \u001b[1;32mraise\u001b[0m \u001b[0me\u001b[0m\u001b[1;33m\u001b[0m\u001b[1;33m\u001b[0m\u001b[0m\n\u001b[0;32m    342\u001b[0m             \u001b[1;32melse\u001b[0m\u001b[1;33m:\u001b[0m\u001b[1;33m\u001b[0m\u001b[1;33m\u001b[0m\u001b[0m\n\u001b[1;32m--> 343\u001b[1;33m                 \u001b[0mreraise\u001b[0m\u001b[1;33m(\u001b[0m\u001b[0mtype\u001b[0m\u001b[1;33m(\u001b[0m\u001b[0me\u001b[0m\u001b[1;33m)\u001b[0m\u001b[1;33m,\u001b[0m \u001b[0me\u001b[0m\u001b[1;33m,\u001b[0m \u001b[1;32mNone\u001b[0m\u001b[1;33m)\u001b[0m\u001b[1;33m\u001b[0m\u001b[1;33m\u001b[0m\u001b[0m\n\u001b[0m\u001b[0;32m    344\u001b[0m \u001b[1;33m\u001b[0m\u001b[0m\n\u001b[0;32m    345\u001b[0m         \u001b[0margtypes\u001b[0m \u001b[1;33m=\u001b[0m \u001b[1;33m[\u001b[0m\u001b[1;33m]\u001b[0m\u001b[1;33m\u001b[0m\u001b[1;33m\u001b[0m\u001b[0m\n",
      "\u001b[1;32mC:\\Users\\michael.croucher\\AppData\\Local\\Continuum\\anaconda3\\envs\\NAGPythonRelease\\lib\\site-packages\\numba\\six.py\u001b[0m in \u001b[0;36mreraise\u001b[1;34m(tp, value, tb)\u001b[0m\n\u001b[0;32m    656\u001b[0m             \u001b[0mvalue\u001b[0m \u001b[1;33m=\u001b[0m \u001b[0mtp\u001b[0m\u001b[1;33m(\u001b[0m\u001b[1;33m)\u001b[0m\u001b[1;33m\u001b[0m\u001b[1;33m\u001b[0m\u001b[0m\n\u001b[0;32m    657\u001b[0m         \u001b[1;32mif\u001b[0m \u001b[0mvalue\u001b[0m\u001b[1;33m.\u001b[0m\u001b[0m__traceback__\u001b[0m \u001b[1;32mis\u001b[0m \u001b[1;32mnot\u001b[0m \u001b[0mtb\u001b[0m\u001b[1;33m:\u001b[0m\u001b[1;33m\u001b[0m\u001b[1;33m\u001b[0m\u001b[0m\n\u001b[1;32m--> 658\u001b[1;33m             \u001b[1;32mraise\u001b[0m \u001b[0mvalue\u001b[0m\u001b[1;33m.\u001b[0m\u001b[0mwith_traceback\u001b[0m\u001b[1;33m(\u001b[0m\u001b[0mtb\u001b[0m\u001b[1;33m)\u001b[0m\u001b[1;33m\u001b[0m\u001b[1;33m\u001b[0m\u001b[0m\n\u001b[0m\u001b[0;32m    659\u001b[0m         \u001b[1;32mraise\u001b[0m \u001b[0mvalue\u001b[0m\u001b[1;33m\u001b[0m\u001b[1;33m\u001b[0m\u001b[0m\n\u001b[0;32m    660\u001b[0m \u001b[1;33m\u001b[0m\u001b[0m\n",
      "\u001b[1;31mTypingError\u001b[0m: Failed in nopython mode pipeline (step: nopython frontend)\nInternal error at <numba.typeinfer.CallConstraint object at 0x0000026306166A20>.\n\u001b[1m\u001b[1mFailed in nopython mode pipeline (step: nopython mode backend)\n\u001b[1m\u001b[1mexpecting {i8*, i8*, i64, i64, double*, [1 x i64], [1 x i64]} but got {i8*, i8*, i64, i64, double*, [2 x i64], [2 x i64]}\n\u001b[1m\nFile \"<ipython-input-74-9049d06d5999>\", line 15:\u001b[0m\n\u001b[1m    def __init__(self,N = 50,w = 1):\n        <source elided>\n        self.w = 1 #Used for SOR and ignored for everything else\n\u001b[1m        self.source = np.zeros((N,N))\n\u001b[0m        \u001b[1m^\u001b[0m\u001b[0m\n\u001b[0m\n\u001b[0m\u001b[1m[1] During: lowering \"(self).source = $0.10\" at <ipython-input-74-9049d06d5999> (15)\u001b[0m\n\u001b[0m\u001b[1m[2] During: resolving callee type: jitclass.solverinfo#26302db4f98<iterations:int64,w:float64,source:array(float64, 1d, A)>\u001b[0m\n\u001b[0m\u001b[1m[3] During: typing of call at <string> (3)\n\u001b[0m\nEnable logging at debug level for details.\n\u001b[1m\nFile \"<string>\", line 3:\u001b[0m\n\u001b[1m<source missing, REPL/exec in use?>\u001b[0m\n\nThis is not usually a problem with Numba itself but instead often caused by\nthe use of unsupported features or an issue in resolving types.\n\nTo see Python/NumPy features supported by the latest release of Numba visit:\nhttp://numba.pydata.org/numba-doc/latest/reference/pysupported.html\nand\nhttp://numba.pydata.org/numba-doc/latest/reference/numpysupported.html\n\nFor more information about typing errors and how to debug them visit:\nhttp://numba.pydata.org/numba-doc/latest/user/troubleshoot.html#my-code-doesn-t-compile\n\nIf you think your code should work with Numba, please report the error message\nand traceback, along with a minimal reproducer at:\nhttps://github.com/numba/numba/issues/new\n"
     ]
    }
   ],
   "source": [
    "N = 100\n",
    "u = init_problem(N)\n",
    "SOR_info = solverinfo()\n",
    "SOR_info.w = 1.5\n",
    "tol = 1e-9\n",
    "SOR_sol = solve_poisson(u,tol,SOR_info,SOR)\n",
    "\n",
    "print(f\"SOR on a {N} by {N} grid\")\n",
    "print(f\"Solution found in {SOR_info.iterations} iterations\")\n",
    "fig, axes = plt.subplots(nrows=1, ncols=2, figsize=(10, 6))\n",
    "axes[0].imshow(gs_sol);\n",
    "axes[0].set_title('Potential')\n",
    "(Ex,Ey) = np.gradient(jacobi_sol)\n",
    "E = np.sqrt(Ex**2+Ey**2); # Magnitude of Electric field\n",
    "axes[1].imshow(E)\n",
    "axes[1].set_title('Electric Field');"
   ]
  },
  {
   "cell_type": "markdown",
   "metadata": {},
   "source": [
    "There are analytic methods available to estimate the optimum $\\omega$ but it's often necessary to find it empirically.  The optimum value of $\\omega$ depends on both the PDE being solved and on the grid resolution.  More advanced extensions of SOR exist that have even better convergence properties (Chebyshev acceleration for example).  I could also consider parallelisation schemes for these methods such as Red-Black ordering but I need to stop somewhere if I am going to get onto Anderson Acceleration before the deadline of this article!\n",
    "\n",
    "Before moving, let's look at the number of iterations taken by SOR for this problem as a function of $\\omega$"
   ]
  },
  {
   "cell_type": "code",
   "execution_count": 62,
   "metadata": {},
   "outputs": [],
   "source": [
    "def SOR_iterations(w):\n",
    "    N = 100\n",
    "    u = init_problem(N)\n",
    "    SOR_info = solverinfo()\n",
    "    SOR_info.w = w\n",
    "    tol = 1e-9\n",
    "    SOR_sol = solve_poisson(u,tol,SOR_info,SOR)\n",
    "    return(SOR_info.iterations)\n",
    "\n",
    "w = np.arange(1.0,1.99,0.01)\n",
    "iterations = [SOR_iterations(omega) for omega in w]\n",
    "plt.plot(w,iterations);\n",
    "plt.title('Number of iterations vs SOR parameter')\n",
    "plt.xlabel('w')\n",
    "plt.ylabel('Iterations');"
   ]
  },
  {
   "cell_type": "markdown",
   "metadata": {},
   "source": [
    "## Applying NAG's Anderson Acceleration to these methods\n",
    "\n",
    "### Code adaptations needed to call Jacobi iterations from NAG \n",
    "\n",
    "I started on this journey because I noted that all of these methods are fixed-point and wondered if NAG's Anderson acceleration would be useful.  Let's go back to Jacobi and recall the definition of each iteration"
   ]
  },
  {
   "cell_type": "code",
   "execution_count": null,
   "metadata": {},
   "outputs": [],
   "source": [
    "@jit\n",
    "def jacobi(x,source,solverinfo):\n",
    "    \"\"\"Performs one iteration of the jacobi method\n",
    "    \n",
    "    Arguments:\n",
    "    x - N x N Matrix containing the previous iteration of the solution\n",
    "    source - N x N Matrix containing our source function evaluated on the grid\n",
    "    solverinfo - Takes a solverinfo object to get info in/out of the solver\n",
    "    \"\"\"\n",
    "    N = x.shape[0]\n",
    "    nextx = np.zeros((N,N))\n",
    "    h = 1/(N-1)\n",
    "    # loop over the grid\n",
    "    # Only iterate over interior points thus keeping the edges untouched and hence enforcing \n",
    "    # the boundary condition that x = 0 at the edges.\n",
    "    for i in range(1,N - 1):\n",
    "        for j in range(1,N - 1):\n",
    "            nextx[j,i] = 0.25 * (x[j+1,i] + x[j,i+1] + x[j-1,i] + x[j,i-1]) + 0.25*h**2*source[j,i]\n",
    "    solverinfo.iterations += 1\n",
    "    return nextx"
   ]
  },
  {
   "cell_type": "markdown",
   "metadata": {},
   "source": [
    "The NAG routine that performs Anderson acceleration is `roots.sys_func_aa` and the [documentation for it](https://www.nag.co.uk/numeric/py/nagdoc_latest/naginterfaces.library.roots.html) tells us that the function to be solved must have form `fcn(x,data)` where `data` is any arbitrary Python object that can be used to get information in and out of `fcn`.  As such, we are going to need to change the `solverinfo` object so that it also holds the `source` term. \n",
    "\n",
    "Two other constraints are going to change the way this function looks:\n",
    "\n",
    "* The vector $x$ needs to be one-dimensional. As such, we'll need to change the shape to and from the 2D representation we've been using until now.\n",
    "* We need to return `jacobi(x) - x` instead of `jacobi(x)`\n",
    "\n",
    "With all of this taken into account, the NAG-ified version of `jacobi` and the supporting `solverinfo` class is "
   ]
  },
  {
   "cell_type": "code",
   "execution_count": 80,
   "metadata": {},
   "outputs": [],
   "source": [
    "# This spec is required for Numba jit compilation\n",
    "spec = [\n",
    "    ('iterations',int64),\n",
    "    ('w',float64),\n",
    "    ('source',float64[:,:])\n",
    "]\n",
    "\n",
    "@jitclass(spec)\n",
    "class NAG_solverinfo:\n",
    "    \"\"\"A class used to get information to/from a solver\n",
    "    \"\"\"\n",
    "    def __init__(self,N = 50,w = 1):\n",
    "        self.iterations = 0\n",
    "        self.w = 1 #Used for SOR and ignored for everything else\n",
    "        self.source = np.zeros((N,N))"
   ]
  },
  {
   "cell_type": "code",
   "execution_count": 87,
   "metadata": {},
   "outputs": [],
   "source": [
    "@jit\n",
    "def NAG_jacobi(x,solverinfo):\n",
    "    \"\"\"Performs one iteration of the jacobi method in the format required by NAG\n",
    "    \n",
    "    Arguments:\n",
    "    x - N x N Matrix containing the previous iteration of the solution\n",
    "    source - N x N Matrix containing our source function evaluated on the grid\n",
    "    solverinfo - Takes a solverinfo object to get info in/out of the solver\n",
    "    \"\"\"\n",
    "    N = int(np.sqrt(x.size))\n",
    "    x.shape = (N,N) # Make x 2D because that's how I think\n",
    "    nextx = np.zeros((N,N))\n",
    "    h = 1/(N-1)\n",
    "    # loop over the grid\n",
    "    # Only iterate over interior points thus keeping the edges untouched and hence enforcing \n",
    "    # the boundary condition that x = 0 at the edges.\n",
    "    for i in range(1,N - 1):\n",
    "        for j in range(1,N - 1):\n",
    "            nextx[j,i] = 0.25 * (x[j+1,i] + x[j,i+1] + x[j-1,i] + x[j,i-1]) + 0.25*h**2*solverinfo.source[j,i]\n",
    "    solverinfo.iterations += 1\n",
    "    nextx = nextx - x  # NAG requires this rather than nextx itself\n",
    "    nextx.shape = N*N  # Make nextx 1D since that's what NAG needs\n",
    "    return nextx"
   ]
  },
  {
   "cell_type": "markdown",
   "metadata": {},
   "source": [
    "We can now call the NAG Anderson Acceleration routine.  If we set `m=0`, no acceleration is applied and the routine simply acts as a driver for our fixed point iterations.  We should get exactly the same behavior as our original code.  We can see that this is the case, right down to the 28,734 iterations required for the Jacobi method to solve.\n",
    "\n",
    "This gives us confidence that our code changes haven't broken anything with the simulation."
   ]
  },
  {
   "cell_type": "code",
   "execution_count": 106,
   "metadata": {},
   "outputs": [],
   "source": [
    "N = 100\n",
    "x0 = init_problem(N)\n",
    "x0.shape = N*N\n",
    "NAG_jacobi_info = NAG_solverinfo()\n",
    "NAG_jacobi_info.source = source(N)\n",
    "tol = 1e-9\n",
    "m=0\n",
    "(NAG_jacobi_sol,fvec) = roots.sys_func_aa(NAG_jacobi, x0, tol, eps, m,data=NAG_jacobi_info)"
   ]
  },
  {
   "cell_type": "code",
   "execution_count": 107,
   "metadata": {},
   "outputs": [
    {
     "name": "stdout",
     "output_type": "stream",
     "text": [
      "NAG driven Jacobi on a 100 by 100 grid with no acceleration\n",
      "Solution found in 28734 iterations\n"
     ]
    }
   ],
   "source": [
    "print(f\"NAG driven Jacobi on a {N} by {N} grid with no acceleration\")\n",
    "print(f\"Solution found in {NAG_jacobi_info.iterations} iterations\")"
   ]
  },
  {
   "cell_type": "markdown",
   "metadata": {},
   "source": [
    "Set `m=4` as suggested in the NAG documentation and convergence is much faster.  In fact, it's almost 3x faster than Gauss Seidel but we didn't need to change the mathematics in the Jacobi iteration at all.  As such, we can think of Anderson Acceleration as a black-box accelerator for at least some types of fixed point iteration. "
   ]
  },
  {
   "cell_type": "code",
   "execution_count": 124,
   "metadata": {},
   "outputs": [
    {
     "name": "stdout",
     "output_type": "stream",
     "text": [
      "Anderson Accelerated Jacobi on a 100 by 100 grid\n",
      "Solution found in 5437 iterations\n"
     ]
    }
   ],
   "source": [
    "N = 100\n",
    "x0 = init_problem(N)\n",
    "x0.shape = N*N\n",
    "NAG_jacobi_info = NAG_solverinfo()\n",
    "NAG_jacobi_info.source = source(N)\n",
    "tol = 1e-9\n",
    "m=4\n",
    "(NAG_jacobi_sol,fvec) = roots.sys_func_aa(NAG_jacobi, x0, tol, eps, m,data=NAG_jacobi_info)\n",
    "print(f\"Anderson Accelerated Jacobi with m={m} on a {N} by {N} grid\")\n",
    "print(f\"Solution found in {NAG_jacobi_info.iterations} iterations\")"
   ]
  },
  {
   "cell_type": "markdown",
   "metadata": {},
   "source": [
    "### Anderson Acceleration and Gauss-Seidel\n",
    "\n",
    "Next we combine Anderson Acceleration with the Gauss-Seidel method "
   ]
  },
  {
   "cell_type": "code",
   "execution_count": 125,
   "metadata": {},
   "outputs": [],
   "source": [
    "@jit\n",
    "def NAG_gauss_seidel(x,solverinfo):\n",
    "    N = int(np.sqrt(x.size))\n",
    "    x.shape = (N,N) # Make x 2D because that's how I think\n",
    "    nextx = np.copy(x)\n",
    "    h = 1/(N-1)\n",
    "    for i in range(1, N - 1):\n",
    "        for j in range(1, N - 1):\n",
    "            nextx[j,i] = 0.25 * (nextx[j+1,i] + nextx[j,i+1] + nextx[j-1,i] + nextx[j,i-1]) + 0.25*h**2*solverinfo.source[j,i]\n",
    "    solverinfo.iterations += 1\n",
    "    nextx = nextx - x  # NAG requires this rather than nextx itself\n",
    "    nextx.shape = N*N  # Make nextx 1D since that's what NAG needs\n",
    "    return nextx"
   ]
  },
  {
   "cell_type": "code",
   "execution_count": 155,
   "metadata": {},
   "outputs": [
    {
     "name": "stdout",
     "output_type": "stream",
     "text": [
      "Anderson Accelerated Gauss-Seidel with m=4 on a 100 by 100 grid\n",
      "Solution found in 624 iterations\n"
     ]
    }
   ],
   "source": [
    "# Define and run the simulation using Gauss-Seidel and NAG Anderson Acceleration\n",
    "\n",
    "N = 100\n",
    "x0 = init_problem(N)\n",
    "x0.shape = N*N\n",
    "NAG_gs_info = NAG_solverinfo()\n",
    "NAG_gs_info.source = source(N)\n",
    "tol = 1e-9\n",
    "m = 4\n",
    "(NAG_jacobi_sol,fvec) = roots.sys_func_aa(NAG_gauss_seidel, x0, tol, eps, m,data=NAG_gs_info)\n",
    "print(f\"Anderson Accelerated Gauss-Seidel with m={m} on a {N} by {N} grid\")\n",
    "print(f\"Solution found in {NAG_gs_info.iterations} iterations\")"
   ]
  },
  {
   "cell_type": "markdown",
   "metadata": {},
   "source": [
    "With the standard choice of `m=4` we are doing almost as well as the best value of $\\omega$ we could find for SOR.  Switching to `m=5` and we do even better than SOR."
   ]
  },
  {
   "cell_type": "code",
   "execution_count": 160,
   "metadata": {},
   "outputs": [
    {
     "name": "stdout",
     "output_type": "stream",
     "text": [
      "Anderson Accelerated Gauss-Seidel with m=5 on a 100 by 100 grid\n",
      "Solution found in 472 iterations\n"
     ]
    }
   ],
   "source": [
    "# Define and run the simulation using Gauss-Seidel and NAG Anderson Acceleration\n",
    "\n",
    "N = 100\n",
    "x0 = init_problem(N)\n",
    "x0.shape = N*N\n",
    "NAG_gs_info = NAG_solverinfo()\n",
    "NAG_gs_info.source = source(N)\n",
    "tol = 1e-9\n",
    "m = 5\n",
    "(NAG_jacobi_sol,fvec) = roots.sys_func_aa(NAG_gauss_seidel, x0, tol, eps, m,data=NAG_gs_info)\n",
    "print(f\"Anderson Accelerated Gauss-Seidel with m={m} on a {N} by {N} grid\")\n",
    "print(f\"Solution found in {NAG_gs_info.iterations} iterations\")"
   ]
  },
  {
   "cell_type": "markdown",
   "metadata": {},
   "source": [
    "Once again, we find ourselves needing to find the perfect aceleration parameter.  Let's see how the number of iterations varies with m."
   ]
  },
  {
   "cell_type": "code",
   "execution_count": 158,
   "metadata": {},
   "outputs": [],
   "source": [
    "def find_best_m(m):\n",
    "    N = 100\n",
    "    x0 = init_problem(N)\n",
    "    x0.shape = N*N\n",
    "    NAG_gs_info = NAG_solverinfo()\n",
    "    NAG_gs_info.source = source(N)\n",
    "    tol = 1e-9\n",
    "    (NAG_jacobi_sol,fvec) = roots.sys_func_aa(NAG_gauss_seidel, x0, tol, eps, m,data=NAG_gs_info)\n",
    "    return(NAG_gs_info.iterations)"
   ]
  },
  {
   "cell_type": "code",
   "execution_count": 175,
   "metadata": {},
   "outputs": [
    {
     "data": {
      "image/png": "[encoded data removed]",
      "text/plain": [
       "<Figure size 432x288 with 1 Axes>"
      ]
     },
     "metadata": {
      "needs_background": "light"
     },
     "output_type": "display_data"
    }
   ],
   "source": [
    "mlist = np.arange(1,50,1)\n",
    "iterations = [find_best_m(m) for m in mlist]\n",
    "plt.plot(mlist,iterations);\n",
    "plt.hlines(486,-1,50,'r')\n",
    "plt.title('Anderson Accelerated Gauss-Seidel\\nNumber of iterations vs m')\n",
    "plt.xlabel('m')\n",
    "plt.ylabel('Iterations');\n",
    "\n",
    "label_x = 30\n",
    "label_y = 1500\n",
    "arrow_x = 20\n",
    "arrow_y = 500\n",
    "\n",
    "arrow_properties = dict(\n",
    "    facecolor=\"black\", width=0.5,\n",
    "    headwidth=4, shrink=0.1)\n",
    "\n",
    "plt.annotate(\n",
    "    \"Best SOR result\", xy=(arrow_x, arrow_y),\n",
    "    xytext=(label_x, label_y),\n",
    "    arrowprops=arrow_properties);"
   ]
  },
  {
   "cell_type": "markdown",
   "metadata": {},
   "source": [
    "The situation with the Anderson Acceleration parameter is rather better than SOR parameter in that, for this simulation at least, we **always** do better than the best SOR result (486 iterations) for all `m>4` with the very best result being 334 iterations at `m=28`.  Furthermore, once you get past `m=10` for this simulation, the curve is pretty flat meaning that we are not being excessively punished for a bad choice of `m."
   ]
  },
  {
   "cell_type": "markdown",
   "metadata": {},
   "source": [
    "## Combined SOR and Anderson Acceleration\n",
    "\n",
    "The next natural question to ask is 'could we combine both acceleration methods?' and do even better than anything seen so far?"
   ]
  },
  {
   "cell_type": "code",
   "execution_count": 186,
   "metadata": {},
   "outputs": [],
   "source": [
    "@jit\n",
    "def NAG_SOR(x,solverinfo):\n",
    "    N = int(np.sqrt(x.size))\n",
    "    x.shape = (N,N) # Make x 2D because that's how I think\n",
    "    nextx = np.copy(x)\n",
    "    h = 1/(N-1)\n",
    "    w = solverinfo.w\n",
    "    for i in range(1, N - 1):\n",
    "        for j in range(1, N - 1):\n",
    "            new = 0.25 * (nextx[j-1,i] + nextx[j+1,i] + nextx[j,i-1]+ nextx[j,i+1]) + 0.25*h**2*solverinfo.source[j,i]\n",
    "            nextx[j,i] = nextx[j,i] + w * (new - nextx[j,i])\n",
    "    solverinfo.iterations += 1\n",
    "    nextx = nextx - x  # NAG requires this rather than nextx itself\n",
    "    nextx.shape = N*N  # Make nextx 1D since that's what NAG needs\n",
    "    return nextx"
   ]
  },
  {
   "cell_type": "code",
   "execution_count": 211,
   "metadata": {},
   "outputs": [
    {
     "name": "stdout",
     "output_type": "stream",
     "text": [
      "Anderson Accelerated SOR with m=28 and w=1.94 on a 100 by 100 grid\n",
      "Solution found in 442 iterations\n"
     ]
    }
   ],
   "source": [
    "# Define and run the simulation using SOR and NAG Anderson Acceleration\n",
    "\n",
    "N = 100\n",
    "x0 = init_problem(N)\n",
    "x0.shape = N*N\n",
    "NAG_SOR_info = NAG_solverinfo()\n",
    "NAG_SOR_info.w = 1.94\n",
    "NAG_SOR_info.source = source(N)\n",
    "tol = 1e-9\n",
    "m = 28\n",
    "(NAG_SOR_sol,fvec) = roots.sys_func_aa(NAG_SOR, x0, tol, eps, m,data=NAG_SOR_info)\n",
    "print(f\"Anderson Accelerated SOR with m={m} and w={NAG_SOR_info.w} on a {N} by {N} grid\")\n",
    "print(f\"Solution found in {NAG_SOR_info.iterations} iterations\")"
   ]
  },
  {
   "cell_type": "markdown",
   "metadata": {},
   "source": [
    "We see that using the best values of m and $\\omega$  found so far gave us a result worse than using either of them independently.  Does there exist any combination that does better than either SOR or GS+Anderson independently?"
   ]
  },
  {
   "cell_type": "markdown",
   "metadata": {},
   "source": [
    "Scanning over the range of m and w, we have the following results"
   ]
  },
  {
   "cell_type": "markdown",
   "metadata": {},
   "source": [
    "def find_best_mw(m,w):\n",
    "    N = 100\n",
    "    x0 = init_problem(N)\n",
    "    x0.shape = N*N\n",
    "    NAG_SOR_info = NAG_solverinfo()\n",
    "    NAG_SOR_info.source = source(N)\n",
    "    NAG_SOR_info.w = w\n",
    "    tol = 1e-9\n",
    "    (NAG_SOR_sol,fvec) = roots.sys_func_aa(NAG_SOR, x0, tol, eps, m,data=NAG_SOR_info)\n",
    "    return(NAG_SOR_info.iterations)"
   ]
  },
  {
   "cell_type": "code",
   "execution_count": 226,
   "metadata": {},
   "outputs": [
    {
     "name": "stderr",
     "output_type": "stream",
     "text": [
      "C:\\Users\\michael.croucher\\AppData\\Local\\Continuum\\anaconda3\\envs\\NAGPythonRelease\\lib\\site-packages\\ipykernel_launcher.py:9: NagAlgorithmicWarning: (NAG Python function naginterfaces.base.roots.sys_func_aa, code 8:8,99992)\n",
      "** The iteration is not making good progress.\n",
      "** This failure exit may indicate that the system does not have a zero, or\n",
      "** that the solution is very close to the origin.\n",
      "** Rerunning sys_func_aa from a different starting point may avoid\n",
      "** the region of difficulty.\n",
      "  if __name__ == '__main__':\n"
     ]
    }
   ],
   "source": [
    "#This will take a long time!\n",
    "wlist = np.arange(1.01,1.99,0.01)\n",
    "mlist = np.arange(5,60,1)\n",
    "mw_list = [(m,w,find_best_mw(m,w)) for m in mlist for w in wlist ]"
   ]
  },
  {
   "cell_type": "code",
   "execution_count": 232,
   "metadata": {},
   "outputs": [
    {
     "data": {
      "text/plain": [
       "[(26, 1.9800000000000009, 292),\n",
       " (36, 1.6000000000000005, 294),\n",
       " (21, 1.6100000000000005, 298),\n",
       " (20, 1.6200000000000006, 300),\n",
       " (22, 1.5900000000000005, 300)]"
      ]
     },
     "execution_count": 232,
     "metadata": {},
     "output_type": "execute_result"
    }
   ],
   "source": [
    "#Best 5\n",
    "mw_list.sort(key=lambda x:x[2])\n",
    "mw_list[0:5]"
   ]
  },
  {
   "cell_type": "code",
   "execution_count": 233,
   "metadata": {},
   "outputs": [
    {
     "data": {
      "text/plain": [
       "[(8, 1.9800000000000009, 1584),\n",
       " (6, 1.9800000000000009, 1469),\n",
       " (5, 1.9800000000000009, 1456),\n",
       " (9, 1.9800000000000009, 1301),\n",
       " (12, 1.9800000000000009, 1274)]"
      ]
     },
     "execution_count": 233,
     "metadata": {},
     "output_type": "execute_result"
    }
   ],
   "source": [
    "#Worst 10\n",
    "mw_list.sort(key=lambda x:x[2],reverse=True)\n",
    "mw_list[0:5]"
   ]
  },
  {
   "cell_type": "markdown",
   "metadata": {},
   "source": [
    "By using SOR and Anderson Acceleration we **can** so better than pure SOR or Anderson Accelerated Gauss-Seidel but it seems to be difficult to choose the best combination of combined $\\omega$ and $m$.  An SOR $\\omega$ of 1.98 features in the best and the worst results found.\n",
    "\n",
    "Combining these acceleration methods can be unpredictable."
   ]
  },
  {
   "cell_type": "markdown",
   "metadata": {},
   "source": [
    "# Conclusions\n",
    "\n",
    "Anderson Acceleration is a general method for accelerating many fixed point iteration methods. We have shown that it can be used to reduce the number of iterations required in the traditional Jacobi and Gauss-Seidel methods for solving Laplace's and Poisson's equations in 2 dimensions. Accelerated Gauss-Seidel beats Successive Over Relaxation (SOR) in many cases.\n",
    "\n",
    "Anderson Acceleration can be combined with SOR to produce even further levels of acceleration but two different acceleration parameters are then required and it is not clear how to choose the best combination in all cases."
   ]
  }
 ],
 "metadata": {
  "kernelspec": {
   "display_name": "Python 3",
   "language": "python",
   "name": "python3"
  },
  "language_info": {
   "codemirror_mode": {
    "name": "ipython",
    "version": 3
   },
   "file_extension": ".py",
   "mimetype": "text/x-python",
   "name": "python",
   "nbconvert_exporter": "python",
   "pygments_lexer": "ipython3",
   "version": "3.7.3"
  },
  "latex_envs": {
   "LaTeX_envs_menu_present": true,
   "autoclose": false,
   "autocomplete": true,
   "bibliofile": "biblio.bib",
   "cite_by": "apalike",
   "current_citInitial": 1,
   "eqLabelWithNumbers": true,
   "eqNumInitial": 1,
   "hotkeys": {
    "equation": "Ctrl-E",
    "itemize": "Ctrl-I"
   },
   "labels_anchors": false,
   "latex_user_defs": false,
   "report_style_numbering": false,
   "user_envs_cfg": false
  }
 },
 "nbformat": 4,
 "nbformat_minor": 2
}
