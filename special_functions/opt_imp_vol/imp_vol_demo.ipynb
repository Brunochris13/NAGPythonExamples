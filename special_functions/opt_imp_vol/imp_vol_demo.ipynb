{
 "cells": [
  {
   "cell_type": "markdown",
   "metadata": {},
   "source": [
    "# Fast Implied Volatilities using the NAG Library"
   ]
  },
  {
   "cell_type": "markdown",
   "metadata": {},
   "source": [
    "The Black-Scholes formula for the price of a European call option is\n",
    "\n",
    "$$P = S_0\\Phi\\left(\\frac{\\ln\\left(\\frac{S_0}{K}\\right)+\\left[r+\\frac{\\sigma^2}{2}\\right]T}{\\sigma\\sqrt{T}}\\right) - Ke^{-rT}\\Phi\\left(\\frac{\\ln\\left(\\frac{S_0}{K}\\right)+\\left[r-\\frac{\\sigma^2}{2}\\right]T}{\\sigma\\sqrt{T}}\\right),$$\n",
    "\n",
    "where $T$ is the time to maturity, $S_0$ is the spot price of the underlying asset, $K$ is the strike price, $r$ is\n",
    "the interest rate and $\\sigma$ is the volatility. A similar formula applies for European put options.\n",
    "\n",
    "An important problem in finance is to compute the implied volatility, $σ$, given values for $T$, $K$, $S_0$,\n",
    "$r$ and $P$. An explicit formula for $\\sigma$ is not available. Furthermore, $\\sigma$ cannot be directly measured from\n",
    "financial data. Instead, it must be computed using a numerical approximation. Typically, multiple values\n",
    "of the input data are provided, so the Black-Scholes formula must be solved many times.\n",
    "\n",
    "As shown in the figure below, the volatility surface (a three-dimensional plot of how the volatility varies\n",
    "according to the price and time to maturity) can be highly curved. This makes accurately computing\n",
    "the implied volatility a difficult problem.\n",
    "\n",
    "<img src=\"impvolsurf.png\" width=500 />\n",
    "\n",
    "Before introducing our new NAG Library routine, let’s demonstrate how one might naively\n",
    "compute implied volatilities using a general purpose root finder. First we need to import a few things:"
   ]
  },
  {
   "cell_type": "code",
   "execution_count": 1,
   "metadata": {},
   "outputs": [],
   "source": [
    "import numpy as np\n",
    "import time\n",
    "from naginterfaces.library import rand, roots, specfun"
   ]
  },
  {
   "cell_type": "markdown",
   "metadata": {},
   "source": [
    "Let's generate some input data using a random number generator from the NAG Library:"
   ]
  },
  {
   "cell_type": "code",
   "execution_count": 2,
   "metadata": {},
   "outputs": [],
   "source": [
    "n = 10000 # This is the number of volatilities we will be computing\n",
    "statecomm = rand.init_nonrepeat(1)\n",
    "p = rand.dist_uniform(n, 3.9, 5.8, statecomm)\n",
    "k = rand.dist_uniform(n, 271.5, 272.0, statecomm)\n",
    "s0 = rand.dist_uniform(n, 259.0, 271.0, statecomm)\n",
    "t = rand.dist_uniform(n, 0.016, 0.017, statecomm)\n",
    "r = rand.dist_uniform(n, 0.017, 0.018, statecomm)"
   ]
  },
  {
   "cell_type": "markdown",
   "metadata": {},
   "source": [
    "We have chosen the limits of the various uniform distributions above to ensure the input data takes\n",
    "sensible values.\n",
    "\n",
    "There are various standard root finding techniques that we could use to compute implied volatilities,\n",
    "a common example being bisection. The NAG Library routine ```contfn_cntin```, is a general\n",
    "purpose root finder based on the secant method. It uses a *callback*, with data passed in via a communication object:"
   ]
  },
  {
   "cell_type": "code",
   "execution_count": 3,
   "metadata": {},
   "outputs": [],
   "source": [
    "def black_scholes(sigma, data):\n",
    "    try:\n",
    "        price = specfun.opt_bsm_price('C', [data['k']], data['s0'], [data['t']], sigma, data['r'], 0.0)\n",
    "    except:\n",
    "        price = np.zeros((1,1))\n",
    "    return price[0, 0] - data['p']"
   ]
  },
  {
   "cell_type": "markdown",
   "metadata": {},
   "source": [
    " ```contfn_cntin``` operates on scalars, so we need to call the routine\n",
    "once for every volatility we want to compute. We will time the computation and count how many errors are caught:"
   ]
  },
  {
   "cell_type": "code",
   "execution_count": 4,
   "metadata": {},
   "outputs": [
    {
     "name": "stdout",
     "output_type": "stream",
     "text": [
      "Using a general purpose root finder:\n",
      "    Time taken: 51.561 seconds\n",
      "    There were 4 failures\n"
     ]
    }
   ],
   "source": [
    "data = {}\n",
    "errorcount = 0\n",
    "tic = time.perf_counter()\n",
    "for i in range(n):\n",
    "    data['p'] = p[i]\n",
    "    data['k'] = k[i]\n",
    "    data['s0'] = s0[i]\n",
    "    data['t'] = t[i]\n",
    "    data['r'] = r[i]\n",
    "    try:\n",
    "        sigma = roots.contfn_cntin(0.15, black_scholes, 1.0e-14, 0.0, 500, data)\n",
    "        if sigma < 0.0:\n",
    "            errorcount += 1\n",
    "    except:\n",
    "        errorcount += 1\n",
    "toc = time.perf_counter()      \n",
    "print('Using a general purpose root finder:')\n",
    "print('    Time taken: {0:.3f} seconds'.format(toc-tic))\n",
    "print('    There were {} failures'.format(errorcount))"
   ]
  },
  {
   "cell_type": "markdown",
   "metadata": {},
   "source": [
    "Can a bespoke implied volatility routine do better? Our new routine at Mark 27.1 is called ```opt_imp_vol```. We call it as follows:\n",
    "\n",
    "```sigma, ivalid = specfun.opt_imp_vol('C', p, k, s0, t, r, mode=2)```\n",
    "\n",
    "The return argument ```ivalid``` is an array recording any data points for which the volatility could not be computed. The argument ```mode``` allows us to select which algorithm to use – more on that in a moment, but\n",
    "for now we choose ```mode=2```. This selects the algorithm of Jäckel (2015), a very accurate method based\n",
    "on third order Householder iterations.\n",
    "\n",
    "Here is the call surrounded by some timing code:"
   ]
  },
  {
   "cell_type": "code",
   "execution_count": 5,
   "metadata": {},
   "outputs": [
    {
     "name": "stdout",
     "output_type": "stream",
     "text": [
      "omp_imp_vol with mode = 2 (Jäckel algorithm):\n",
      "    Time taken: 0.01415 seconds\n",
      "    There were 0 failures\n"
     ]
    }
   ],
   "source": [
    "tic = time.perf_counter()\n",
    "sigma, ivalid = specfun.opt_imp_vol('C', p, k, s0, t, r, mode=2)\n",
    "toc = time.perf_counter()\n",
    "print('omp_imp_vol with mode = 2 (Jäckel algorithm):')\n",
    "print('    Time taken: {0:.5f} seconds'.format(toc-tic))\n",
    "print('    There were {} failures'.format(np.count_nonzero(ivalid)))"
   ]
  },
  {
   "cell_type": "markdown",
   "metadata": {},
   "source": [
    "The new routine is several orders of magnitude faster than the root finder, with no failures reported. We could try\n",
    "tweaking the convergence parameters and iteration limits in ```nag_roots_contfn_cntin```, and we could certainly\n",
    "improve the way data is passed through the callback, but we are unlikely to match the\n",
    "performance of ```opt_imp_vol```.\n",
    "\n",
    "Recently NAG embarked upon a collaboration with mathematicians at Queen Mary University of\n",
    "London, who have been developing an alternative algorithm for computing implied volatilities. The new\n",
    "algorithm (based on Glau et. al. (2018)) uses Chebyshev interpolation to remove branching and give\n",
    "increased SIMD performance. We access it by setting ```mode=1``` in the call to ```opt_imp_vol```:"
   ]
  },
  {
   "cell_type": "code",
   "execution_count": 6,
   "metadata": {},
   "outputs": [
    {
     "name": "stdout",
     "output_type": "stream",
     "text": [
      "omp_imp_vol with mode = 1 (Glau algorithm):\n",
      "    Time taken: 0.01770 seconds\n",
      "    There were 0 failures\n"
     ]
    }
   ],
   "source": [
    "tic = time.perf_counter()\n",
    "sigma, ivalid = specfun.opt_imp_vol('C', p, k, s0, t, r, mode=1)\n",
    "toc = time.perf_counter()\n",
    "print('omp_imp_vol with mode = 1 (Glau algorithm):')\n",
    "print('    Time taken: {0:.5f} seconds'.format(toc-tic))\n",
    "print('    There were {} failures'.format(np.count_nonzero(ivalid)))"
   ]
  },
  {
   "cell_type": "markdown",
   "metadata": {},
   "source": [
    "Depending on your system, you should find that, for similar accuracy, there is a modest speedup over the Jäckel algorithm. Our numerical experiments have shown that for very small arrays (containing fewer than 100 elements) the Jäckel algorithm actually\n",
    "outperforms that of Glau et.al., but for larger arrays the converse is true. As vector units continue\n",
    "to improve in the future, we expect the performance of the highly vectorizable Glau et.al. approach to\n",
    "improve similarly.\n",
    "\n",
    "So far, we have been computing implied volatilities with a relative accuracy as close as possible to\n",
    "double precision. However, in some applications implied volatilities are only required with a few decimal\n",
    "places of precision. One advantage of the Glau et.al. algorithm is that it can be run in a lower accuracy\n",
    "mode, aiming only for seven decimal places of accuracy. This is accessed by setting ```mode=0``` in the call\n",
    "to ```opt_imp_vol```. It roughly doubles the speed of the routine:"
   ]
  },
  {
   "cell_type": "code",
   "execution_count": 7,
   "metadata": {},
   "outputs": [
    {
     "name": "stdout",
     "output_type": "stream",
     "text": [
      "omp_imp_vol with mode = 0 (lower accuracy Glau algorithm):\n",
      "    Time taken: 0.01556 seconds\n",
      "    There were 0 failures\n"
     ]
    }
   ],
   "source": [
    "tic = time.perf_counter()\n",
    "sigma, ivalid = specfun.opt_imp_vol('C', p, k, s0, t, r, mode=0)\n",
    "toc = time.perf_counter()\n",
    "print('omp_imp_vol with mode = 0 (lower accuracy Glau algorithm):')\n",
    "print('    Time taken: {0:.5f} seconds'.format(toc-tic))\n",
    "print('    There were {} failures'.format(np.count_nonzero(ivalid)))"
   ]
  },
  {
   "cell_type": "markdown",
   "metadata": {},
   "source": [
    "The charts below summarize the results, using timings collected on an Intel Skylake machine. We can see that the Glau et.al. algorithm outperforms the Jäckel algorithm for large arrays but not for small arrays. Note that the general purpose root finder\n",
    "is omitted here as it is so much slower ```opt_imp_vol```.\n",
    "<img src=\"graphs.PNG\" width=800 />\n",
    "\n",
    "In summary, NAG’s new state-of-the art algorithm can be run in three different modes, according to\n",
    "the length of the input arrays and the required accuracy. For more information, and to access the NAG\n",
    "Library, go to: https://www.nag.co.uk/content/nag-library.\n",
    "\n",
    "### References\n",
    "\n",
    "P. Jäckel (2015). Let’s be rational. *Wilmott* 2015, 40-53.\n",
    "\n",
    "K. Glau, P. Herold, D. B. Madan, C. Pötz (2019). The Chebyshev method for the implied volatility.\n",
    "*Journal of Computational Finance*, 23(3).\n",
    "\n",
    "### NAG Library for Python Setup\n",
    "\n",
    "Find instructions to install the NAG Library for Python in the documentation here: https://www.nag.com/numeric/py/nagdoc_latest/readme.html#installation"
   ]
  },
  {
   "cell_type": "code",
   "execution_count": null,
   "metadata": {},
   "outputs": [],
   "source": []
  }
 ],
 "metadata": {
  "kernelspec": {
   "display_name": "Python 3",
   "language": "python",
   "name": "python3"
  },
  "language_info": {
   "codemirror_mode": {
    "name": "ipython",
    "version": 3
   },
   "file_extension": ".py",
   "mimetype": "text/x-python",
   "name": "python",
   "nbconvert_exporter": "python",
   "pygments_lexer": "ipython3",
   "version": "3.7.5"
  }
 },
 "nbformat": 4,
 "nbformat_minor": 2
}
