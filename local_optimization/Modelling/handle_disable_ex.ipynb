{
 "cells": [
  {
   "cell_type": "markdown",
   "metadata": {},
   "source": [
    "# Installing the NAG library and running this notebook\n",
    "\n",
    "This notebook depends on the NAG library for Python to run. Please read the instructions in the [Readme.md](https://github.com/numericalalgorithmsgroup/NAGPythonExamples/blob/master/local_optimization/Readme.md#install) file to download, install and obtain a licence for the library.\n",
    "\n",
    "Instruction on how to run the notebook can be found [here](https://github.com/numericalalgorithmsgroup/NAGPythonExamples/blob/master/local_optimization/Readme.md#jupyter)."
   ]
  },
  {
   "cell_type": "markdown",
   "metadata": {},
   "source": [
    "# Removing outliers from a calibration problem with the NAG optimisation suite\n",
    "\n",
    "## Correct Rendering of this notebook\n",
    "\n",
    "This notebook makes use of the `latex_envs` Jupyter extension for equations and references.  If the LaTeX is not rendering properly in your local installation of Jupyter , it may be because you have not installed this extension.  Details at https://jupyter-contrib-nbextensions.readthedocs.io/en/latest/nbextensions/latex_envs/README.html\n",
    "\n",
    "The notebook is also not rendered well by GitHub so if you are reading it from there, you may prefer the [pdf version instead](./static/portfolio_optimization_qcqp.pdf).\n",
    "\n",
    "## Calibration problem\n",
    "\n",
    "Consider a simple calibration problem where we want to fit the 5 parameters of a model $f$ to some given data points. The model is of the form:\n",
    "$$\n",
    "\\min_{x\\in\\mathbb{R}^5} \\sum_{i=1}^{30}\\left( f(t_i, x) - y_i \\right)^2\n",
    "$$\n",
    "where $x=[a,b,c,d,\\omega]$ are the parameters to fit and $f(t, x) = at^2 + bt+ c + d\\sin(\\omega t)$ is the model.\n",
    "\n",
    "### Data\n",
    "\n",
    "The initial data points $\\{(t_i, y_i)\\}$ were simulated using \n",
    "$$(a=0.3,b=1.0,c=0.01,d=0.2,\\omega =5.0)$$\n",
    "with $t_i$ uniformly spread in $\\left[-1.0,1.0\\right]$ and $y_i=f(t_i,x)+\\epsilon_i$ where $\\epsilon_i$ is random noise.\n",
    "\n",
    "Two of those points ($y_{10}$ and $y_{20}$) were modified to emulate the presence of outilers."
   ]
  },
  {
   "cell_type": "code",
   "execution_count": 70,
   "metadata": {},
   "outputs": [
    {
     "data": {
      "image/png": "[encoded data removed]",
      "text/plain": [
       "<Figure size 432x288 with 1 Axes>"
      ]
     },
     "metadata": {
      "needs_background": "light"
     },
     "output_type": "display_data"
    }
   ],
   "source": [
    "import pickle\n",
    "import numpy as np\n",
    "import matplotlib.pyplot as plt\n",
    "import math\n",
    "\n",
    "# load the simulated data containing 2 outliers\n",
    "data = pickle.load(open('nlnlsq_data.pck', 'rb'))\n",
    "nres = len(data['y'])\n",
    "\n",
    "# plot the data points and the true function used to generate them\n",
    "f_true = lambda t : 0.3*t**2 + t + 0.01 + 0.2*math.sin(5.0*t)  \n",
    "plt.plot(data['t'], data['y'], '*')\n",
    "t = np.linspace(-1.0,1.0, num=200)\n",
    "y = [f_true(x) for x in t]\n",
    "plt.plot(t, y)\n",
    "plt.show()"
   ]
  },
  {
   "cell_type": "markdown",
   "metadata": {},
   "source": [
    "### Set up the calibration problem\n",
    "\n",
    "Start by defining the callbacks that will be used by the solver to determine the quality of the fit with any given set of parameters $x$."
   ]
  },
  {
   "cell_type": "code",
   "execution_count": 89,
   "metadata": {},
   "outputs": [],
   "source": [
    "def lsqfun(x, nres, inform, data):\n",
    "    \"\"\"\n",
    "    Objective function callback passed to the least squares solver.\n",
    "    \"\"\"\n",
    "    rx = np.zeros(nres)\n",
    "    t = data['t']\n",
    "    y = data['y']\n",
    "    for i in range(nres):\n",
    "        rx[i] = (\n",
    "            x[0]*t[i]**2 + x[1]*t[i] + x[2] + x[3]*np.sin(x[4]*t[i]) - y[i]\n",
    "            )\n",
    "    return rx, inform"
   ]
  },
  {
   "cell_type": "code",
   "execution_count": 90,
   "metadata": {},
   "outputs": [],
   "source": [
    "def lsqgrd(x, nres, rdx, inform, data):\n",
    "    \"\"\"\n",
    "    Computes the Jacobian of the least square residuals.\n",
    "    \"\"\"\n",
    "    n = len(x)\n",
    "    t = data['t']\n",
    "    for i in range(nres):\n",
    "        rdx[i*n+0] = t[i]**2\n",
    "        rdx[i*n+1] = t[i]\n",
    "        rdx[i*n+2] = 1.0\n",
    "        rdx[i*n+3] = np.sin(x[4]*t[i])\n",
    "        rdx[i*n+4] = x[3]*t[i]*np.cos(x[4]*t[i])\n",
    "    return rdx, inform"
   ]
  },
  {
   "cell_type": "markdown",
   "metadata": {},
   "source": [
    "Initialize the NAG 'handle' with the problem dimensions and some optional parameters."
   ]
  },
  {
   "cell_type": "code",
   "execution_count": 101,
   "metadata": {},
   "outputs": [],
   "source": [
    "from naginterfaces.library import opt\n",
    "from naginterfaces.base import utils\n",
    "\n",
    "nvar = 5\n",
    "# Initialize the Optimization model handle with the number of variables\n",
    "handle = opt.handle_init(nvar)\n",
    "\n",
    "# Define a dense nonlinear least-squares objective function\n",
    "opt.handle_set_nlnls(handle, nres)\n",
    "\n",
    "# Set some optional parameters to control the output of the solver\n",
    "for option in [\n",
    "        'Print Options = NO',\n",
    "        'Print Level = 1',\n",
    "        'Print Solution = X',\n",
    "        'Bxnl Iteration Limit = 100',\n",
    "]:\n",
    "    opt.handle_opt_set(handle, option)\n",
    "    \n",
    "# Use an explicit I/O manager for abbreviated iteration output:\n",
    "iom = utils.FileObjManager(locus_in_output=False)"
   ]
  },
  {
   "cell_type": "markdown",
   "metadata": {},
   "source": [
    "### Solve the problem with outliers"
   ]
  },
  {
   "cell_type": "code",
   "execution_count": 102,
   "metadata": {},
   "outputs": [
    {
     "name": "stdout",
     "output_type": "stream",
     "text": [
      " E04GG, Nonlinear least squares method for bound-constrained problems\n",
      " Status: converged, an optimal solution was found\n",
      " Value of the objective             1.05037E+00\n",
      " Norm of gradient                   8.78014E-06\n",
      " Norm of scaled gradient            6.05781E-06\n",
      " Norm of step                       1.47886E-01\n",
      "\n",
      " Primal variables:\n",
      "   idx   Lower bound       Value       Upper bound\n",
      "     1       -inf        3.61301E-01        inf\n",
      "     2       -inf        9.10227E-01        inf\n",
      "     3       -inf        3.42138E-03        inf\n",
      "     4       -inf       -6.08965E+00        inf\n",
      "     5       -inf        6.24881E-04        inf\n"
     ]
    }
   ],
   "source": [
    "# Call the solver\n",
    "x = np.ones(nvar, dtype=float)\n",
    "res = opt.handle_solve_bxnl(handle, lsqfun, lsqgrd, x, nres, data=data,\n",
    "                  io_manager=iom)"
   ]
  },
  {
   "cell_type": "markdown",
   "metadata": {},
   "source": [
    "We can plot the model with the fitted parameters and see the influence of outliers:"
   ]
  },
  {
   "cell_type": "code",
   "execution_count": 103,
   "metadata": {},
   "outputs": [
    {
     "data": {
      "image/png": "[encoded data removed]",
      "text/plain": [
       "<Figure size 432x288 with 1 Axes>"
      ]
     },
     "metadata": {
      "needs_background": "light"
     },
     "output_type": "display_data"
    }
   ],
   "source": [
    "# plot the data points and the fitted function\n",
    "x = res.x\n",
    "f_out = lambda t : x[0]*t**2 + x[1]*t + x[2] + x[3]*math.sin(x[4]*t)  \n",
    "plt.plot(data['t'], data['y'], '*')\n",
    "y = [f_out(z) for z in t]\n",
    "plt.plot(t, y)\n",
    "plt.savefig(\"outlier_fit.png\")\n",
    "plt.show()"
   ]
  },
  {
   "cell_type": "markdown",
   "metadata": {},
   "source": [
    "### Remove the outliers and solve again"
   ]
  },
  {
   "cell_type": "code",
   "execution_count": 94,
   "metadata": {},
   "outputs": [
    {
     "name": "stdout",
     "output_type": "stream",
     "text": [
      " E04GG, Nonlinear least squares method for bound-constrained problems\n",
      " Status: converged, an optimal solution was found\n",
      " Value of the objective             5.96811E-02\n",
      " Norm of gradient                   1.19914E-06\n",
      " Norm of scaled gradient            3.47087E-06\n",
      " Norm of step                       3.49256E-06\n",
      "\n",
      " Primal variables:\n",
      "   idx   Lower bound       Value       Upper bound\n",
      "     1       -inf        3.53888E-01        inf\n",
      "     2       -inf        1.06575E+00        inf\n",
      "     3       -inf        1.91383E-03        inf\n",
      "     4       -inf        2.17299E-01        inf\n",
      "     5       -inf        5.17660E+00        inf\n"
     ]
    }
   ],
   "source": [
    "# Disable the two outlier residuals\n",
    "opt.handle_disable(handle, comp='NLS', idx=[10, 20])\n",
    "\n",
    "# Solve the problem again\n",
    "x = np.ones(nvar, dtype=float)\n",
    "res = opt.handle_solve_bxnl(handle, lsqfun, lsqgrd, x, nres, data=data,\n",
    "                      io_manager=iom)"
   ]
  },
  {
   "cell_type": "markdown",
   "metadata": {},
   "source": [
    "The fitted function is much closer to the data!"
   ]
  },
  {
   "cell_type": "code",
   "execution_count": 99,
   "metadata": {},
   "outputs": [
    {
     "data": {
      "image/png": "[encoded data removed]",
      "text/plain": [
       "<Figure size 432x288 with 1 Axes>"
      ]
     },
     "metadata": {
      "needs_background": "light"
     },
     "output_type": "display_data"
    }
   ],
   "source": [
    "# plot the data points and the fitted function\n",
    "x = res.x\n",
    "f_fit = lambda t : x[0]*t**2 + x[1]*t + x[2] + x[3]*math.sin(x[4]*t)  \n",
    "plt.plot(data['t'], data['y'], '*')\n",
    "y = [f_fit(z) for z in t]\n",
    "plt.plot(t, y)\n",
    "plt.show()"
   ]
  },
  {
   "cell_type": "code",
   "execution_count": 100,
   "metadata": {},
   "outputs": [],
   "source": [
    "opt.handle_free(handle)"
   ]
  },
  {
   "cell_type": "code",
   "execution_count": null,
   "metadata": {},
   "outputs": [],
   "source": []
  }
 ],
 "metadata": {
  "kernelspec": {
   "display_name": "Python 3",
   "language": "python",
   "name": "python3"
  },
  "language_info": {
   "codemirror_mode": {
    "name": "ipython",
    "version": 3
   },
   "file_extension": ".py",
   "mimetype": "text/x-python",
   "name": "python",
   "nbconvert_exporter": "python",
   "pygments_lexer": "ipython3",
   "version": "3.8.5"
  },
  "latex_envs": {
   "LaTeX_envs_menu_present": true,
   "autoclose": false,
   "autocomplete": true,
   "bibliofile": "biblio.bib",
   "cite_by": "apalike",
   "current_citInitial": 1,
   "eqLabelWithNumbers": true,
   "eqNumInitial": 1,
   "hotkeys": {
    "equation": "Ctrl-E",
    "itemize": "Ctrl-I"
   },
   "labels_anchors": false,
   "latex_user_defs": false,
   "report_style_numbering": false,
   "user_envs_cfg": false
  }
 },
 "nbformat": 4,
 "nbformat_minor": 4
}
