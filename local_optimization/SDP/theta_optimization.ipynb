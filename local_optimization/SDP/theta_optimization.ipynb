{
 "cells": [
  {
   "cell_type": "code",
   "execution_count": 2,
   "metadata": {},
   "outputs": [],
   "source": [
    "from naginterfaces.library import opt\n",
    "from naginterfaces.base import utils\n",
    "import numpy as np\n",
    "import networkx as nx  \n",
    "import matplotlib.pyplot as plt\n",
    "import warnings"
   ]
  },
  {
   "cell_type": "markdown",
   "metadata": {},
   "source": [
    "# Compute the Lovasz $\\theta$ number of a graph using Semi-Definite Programming (SDP)\n",
    "\n",
    "## Correct Rendering of this notebook\n",
    "\n",
    "This notebook makes use of the `latex_envs` Jupyter extension for equations and references.  If the LaTeX is not rendering properly in your local installation of Jupyter , it may be because you have not installed this extension.  Details at https://jupyter-contrib-nbextensions.readthedocs.io/en/latest/nbextensions/latex_envs/README.html\n",
    "\n",
    "## Introduction"
   ]
  },
  {
   "cell_type": "markdown",
   "metadata": {},
   "source": [
    "The Lovasz number allows to compute an upper bound on the Shannon capacity of a graph $G$ (the maximum size of independent sets of vertices in G). While the complexity of computing the Shannon capacity is not known, the Lovasz number can be efficiently computed in polynomial time via SDP. \n",
    "\n",
    "Start by defining a graph $G = (V, E)$"
   ]
  },
  {
   "cell_type": "code",
   "execution_count": 3,
   "metadata": {},
   "outputs": [
    {
     "data": {
      "image/png": "[encoded data removed]",
      "text/plain": [
       "<Figure size 432x288 with 1 Axes>"
      ]
     },
     "metadata": {},
     "output_type": "display_data"
    }
   ],
   "source": [
    "warnings.simplefilter(\"ignore\")\n",
    "nv = 10 # number of vertices\n",
    "ne = 15 # number of edges\n",
    "G = nx.Graph()\n",
    "G.add_edges_from([(1,2), (2,3), (3,4), (4,5), (1,5), (1,6), (2,7), (3,8),\n",
    "                  (4,9), (5,10), (6,8), (6,9), (7,9), (7,10), (8,10)])\n",
    "ed = list(G.edges)\n",
    "nx.draw(G, with_labels=False) "
   ]
  },
  {
   "cell_type": "markdown",
   "metadata": {},
   "source": [
    "The $\\theta$ function can be expressed in various ways, here we use the following:\n",
    "\\begin{equation*}\n",
    "\\theta_G = \\min\\{\\lambda_{max}(H) / H \\in \\mathbb{S}^n ,  s_{ij} = 1 \\text{ if } i=j \\text{ or if } (i,j) \\notin E \\} \n",
    "\\end{equation*}\n",
    "where $n$ is the number of vertices $|V|$ and $\\mathbb{S}^n$ is the space of $n \\times n$ symmetric matrices\n",
    "\n",
    "The problem can therefore be written as:\n",
    "\\begin{equation*}\n",
    "\\min_{t,H} t\\\\\n",
    "\\text{s.t. } H \\preceq tI\\\\\n",
    "H \\in \\mathbb{S}^n, s_{ij} = 1 \\text{ if } i=j \\text{ or if } (i,j) \\notin E \n",
    "\\end{equation*}\n",
    "which can in turn be transformed int the solver-friendly form:\n",
    "\\begin{equation*}\n",
    "\\min_{t,x} t\\\\\n",
    "\\text{s.t. } tI + \\sum_{ij \\in E} x_{ij}E_{ij} - J \\succeq 0\n",
    "\\end{equation*}\n",
    "where $J$ is a matrix of all ones and $E_{ij}$ is a matrix of all zeros except $(i,j)$ and $(j,i)."
   ]
  },
  {
   "cell_type": "code",
   "execution_count": 4,
   "metadata": {},
   "outputs": [],
   "source": [
    "# Initialize the handle\n",
    "nvar = ne + 1\n",
    "handle = opt.handle_init(nvar)"
   ]
  },
  {
   "cell_type": "code",
   "execution_count": 5,
   "metadata": {},
   "outputs": [],
   "source": [
    "# Define the objective function: min_{t,H} t\n",
    "cvec = np.zeros(nvar, dtype=float)\n",
    "cvec[0] = 1\n",
    "opt.handle_set_linobj(handle, cvec)"
   ]
  },
  {
   "cell_type": "code",
   "execution_count": 6,
   "metadata": {},
   "outputs": [],
   "source": [
    "# Generate matrix constraint as:\n",
    "# sum_{ij is edge in G} x_ij*E_ij + t*I - J >=0 where J is the all-ones matrix.\n",
    "dima = nv\n",
    "\n",
    "# Total number of nonzeros\n",
    "nnzasum = int(ne + nv + (nv+1)*nv/2)\n",
    "\n",
    "nnza = np.empty(nvar+1, dtype=int)\n",
    "irowa = np.empty(nnzasum, dtype=int)\n",
    "icola = np.empty(nnzasum, dtype=int)\n",
    "a = np.empty(nnzasum, dtype=float)\n",
    "\n",
    "# A_0 is all ones matrix\n",
    "nnza[0] = (nv+1)*nv/2\n",
    "idx = 0\n",
    "for i in range(nv):\n",
    "    for j in range(i, nv):\n",
    "        irowa[idx] = i + 1\n",
    "        icola[idx] = j + 1\n",
    "        a[idx] = 1.0\n",
    "        idx += 1\n",
    "        \n",
    "# A_1 is the identity\n",
    "nnza[1] = nv\n",
    "for i in range(nv):\n",
    "    irowa[idx] = i + 1\n",
    "    icola[idx] = i + 1\n",
    "    a[idx] = 1.0\n",
    "    idx += 1\n",
    "# A_2, A_3, ..., A_{ne+1} match the E_ij matrices\n",
    "nnza[2:ne+2] = 1\n",
    "for i in range(ne):\n",
    "        irowa[idx] = ed[i][0]\n",
    "        icola[idx] = ed[i][1]\n",
    "        a[idx] = 1.0\n",
    "        idx += 1\n",
    "\n",
    "idblk = opt.handle_set_linmatineq(handle, dima, nnza, irowa, icola, a, \n",
    "                                  blksizea=None, idblk=0)"
   ]
  },
  {
   "cell_type": "code",
   "execution_count": 7,
   "metadata": {},
   "outputs": [
    {
     "name": "stdout",
     "output_type": "stream",
     "text": [
      " E04SV, NLP-SDP Solver (Pennon)\n",
      " ------------------------------\n",
      " Number of variables            16                 [eliminated            0]\n",
      "                            simple  linear  nonlin\n",
      " (Standard) inequalities         0       0       0\n",
      " (Standard) equalities                   0       0\n",
      " Matrix inequalities                     1       0 [dense    1, sparse    0]\n",
      "                                                   [max dimension        10]\n",
      "\n",
      " --------------------------------------------------------------\n",
      "  it|  objective |  optim  |   feas  |  compl  | pen min |inner\n",
      " --------------------------------------------------------------\n",
      "   0  0.00000E+00  4.71E+01  1.00E+01  4.81E+01  1.60E+01   0\n",
      "   1  9.55399E+01  9.29E-03  0.00E+00  9.52E+01  1.60E+01   8\n",
      "   2  3.93849E+01  1.16E-03  0.00E+00  3.81E+01  6.63E+00   5\n",
      "   3  1.68392E+01  1.19E-02  0.00E+00  1.52E+01  2.75E+00   3\n",
      "   4  8.50544E+00  7.32E-04  0.00E+00  5.78E+00  1.14E+00   4\n",
      "   5  5.62254E+00  1.56E-02  0.00E+00  2.07E+00  4.72E-01   3\n",
      "   6  4.63348E+00  7.66E-03  0.00E+00  7.33E-01  1.96E-01   4\n",
      "   7  4.25322E+00  2.99E-03  0.00E+00  2.72E-01  8.11E-02   4\n",
      "   8  4.10154E+00  2.41E-03  0.00E+00  1.05E-01  3.36E-02   4\n",
      "   9  4.04076E+00  1.87E-03  0.00E+00  4.14E-02  1.39E-02   4\n",
      "  10  4.01631E+00  6.25E-03  0.00E+00  1.65E-02  5.77E-03   5\n",
      "  11  4.00656E+00  3.23E-03  0.00E+00  6.59E-03  2.39E-03   5\n",
      "  12  4.00263E+00  2.89E-03  0.00E+00  2.64E-03  9.91E-04   5\n",
      "  13  4.00106E+00  2.08E-03  0.00E+00  1.06E-03  4.11E-04   5\n",
      "  14  4.00042E+00  1.53E-03  0.00E+00  4.25E-04  1.70E-04   5\n",
      " --------------------------------------------------------------\n",
      "  it|  objective |  optim  |   feas  |  compl  | pen min |inner\n",
      " --------------------------------------------------------------\n",
      "  15  4.00017E+00  1.30E-06  0.00E+00  1.70E-04  7.05E-05   6\n",
      "  16  4.00007E+00  7.48E-07  0.00E+00  6.82E-05  2.92E-05   6\n",
      "  17  4.00003E+00  3.20E-07  0.00E+00  2.73E-05  1.21E-05   6\n",
      "  18  4.00001E+00  1.31E-07  0.00E+00  1.10E-05  5.02E-06   6\n",
      "  19  4.00000E+00  5.15E-08  0.00E+00  4.39E-06  2.08E-06   6\n",
      "  20  4.00000E+00  1.93E-08  0.00E+00  1.76E-06  8.62E-07   6\n",
      "  21  4.00000E+00  6.92E-09  0.00E+00  7.05E-07  3.57E-07   6\n",
      "  22  4.00000E+00  2.22E-09  0.00E+00  2.82E-07  1.48E-07   6\n",
      " --------------------------------------------------------------\n",
      " Status: converged, an optimal solution found\n",
      " --------------------------------------------------------------\n",
      " Final objective value                4.000000E+00\n",
      " Relative precision                   8.450361E-08\n",
      " Optimality                           2.221086E-09\n",
      " Feasibility                          0.000000E+00\n",
      " Complementarity                      2.822749E-07\n",
      " DIMACS error 1                       1.110543E-09\n",
      " DIMACS error 2                       0.000000E+00\n",
      " DIMACS error 3                       0.000000E+00\n",
      " DIMACS error 4                       0.000000E+00\n",
      " DIMACS error 5                       3.117047E-08\n",
      " DIMACS error 6                       3.136387E-08\n",
      " Iteration counts\n",
      "   Outer iterations                             22\n",
      "   Inner iterations                            112\n",
      "   Linesearch steps                            308\n",
      " Evaluation counts\n",
      "   Augm. Lagr. values                          135\n",
      "   Augm. Lagr. gradient                        135\n",
      "   Augm. Lagr. hessian                         112\n",
      " --------------------------------------------------------------\n"
     ]
    }
   ],
   "source": [
    "# I/O\n",
    "iom = utils.FileObjManager(locus_in_output=False)\n",
    "\n",
    "# Set optional argument\n",
    "for option in ['Print Options = No',\n",
    "               'Initial X = Automatic']:\n",
    "    opt.handle_opt_set(handle, option)\n",
    "    \n",
    "x = np.empty(nvar)\n",
    "inform = 0\n",
    "x, _, _, _, rinfo, stats, _ = opt.handle_solve_pennon(handle, x, inform, u=None, \n",
    "                                                      uc=None, ua=None, io_manager=iom)"
   ]
  },
  {
   "cell_type": "code",
   "execution_count": 8,
   "metadata": {},
   "outputs": [
    {
     "name": "stdout",
     "output_type": "stream",
     "text": [
      "The Lovasz number of the graph G is: 4.000000\n"
     ]
    }
   ],
   "source": [
    "print('The Lovasz number of the graph G is: {0:2f}'.format(rinfo[0]))"
   ]
  },
  {
   "cell_type": "code",
   "execution_count": null,
   "metadata": {},
   "outputs": [],
   "source": [
    "help(opt.handle_solve_pennon)"
   ]
  }
 ],
 "metadata": {
  "kernelspec": {
   "display_name": "Python 3",
   "language": "python",
   "name": "python3"
  },
  "language_info": {
   "codemirror_mode": {
    "name": "ipython",
    "version": 3
   },
   "file_extension": ".py",
   "mimetype": "text/x-python",
   "name": "python",
   "nbconvert_exporter": "python",
   "pygments_lexer": "ipython3",
   "version": "3.7.0"
  },
  "latex_envs": {
   "LaTeX_envs_menu_present": true,
   "autoclose": false,
   "autocomplete": true,
   "bibliofile": "biblio.bib",
   "cite_by": "apalike",
   "current_citInitial": 1,
   "eqLabelWithNumbers": true,
   "eqNumInitial": 1,
   "hotkeys": {
    "equation": "Ctrl-E",
    "itemize": "Ctrl-I"
   },
   "labels_anchors": false,
   "latex_user_defs": false,
   "report_style_numbering": false,
   "user_envs_cfg": false
  }
 },
 "nbformat": 4,
 "nbformat_minor": 2
}
