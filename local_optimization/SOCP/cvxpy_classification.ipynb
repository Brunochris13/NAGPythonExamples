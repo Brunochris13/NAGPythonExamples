{
 "cells": [
  {
   "cell_type": "markdown",
   "metadata": {},
   "source": [
    "# Classification using NAG Second-order Conic Programming via CVXPY"
   ]
  },
  {
   "cell_type": "markdown",
   "metadata": {},
   "source": [
    "## Correct Rendering of this notebook\n",
    "\n",
    "This notebook makes use of the `latex_envs` Jupyter extension for equations and references.  If the LaTeX is not rendering properly in your local installation of Jupyter , it may be because you have not installed this extension.  Details at https://jupyter-contrib-nbextensions.readthedocs.io/en/latest/nbextensions/latex_envs/README.html"
   ]
  },
  {
   "cell_type": "markdown",
   "metadata": {},
   "source": [
    "## Installing the NAG library and running this notebook\n",
    "\n",
    "This notebook depends on the NAG library for Python to run. Please read the instructions in the [Readme.md](https://github.com/numericalalgorithmsgroup/NAGPythonExamples/blob/master/local_optimization/Readme.md#install) file to download, install and obtain a licence for the library.\n",
    "\n",
    "Instruction on how to run the notebook can be found [here](https://github.com/numericalalgorithmsgroup/NAGPythonExamples/blob/master/local_optimization/Readme.md#jupyter)."
   ]
  },
  {
   "cell_type": "markdown",
   "metadata": {},
   "source": [
    "## Introduction\n",
    "\n",
    "In this notebook, we demonstrate how NAG second-order conic programming (SOCP) solver can be used to find a quartic polynomial\n",
    "\\vspace{0.1cm}\n",
    "\\begin{equation}\\label{poly}\n",
    "p(x,y) = \\sum_{i,j} a_{ij} x^i y^j ~\\mbox{with}~ i+j\\leq4\n",
    "\\end{equation}\n",
    "\\vspace{0.1cm}\n",
    "that separates two sets of points in a plane robustly. The optimization model for this problem can be cast as\n",
    "\\vspace{0.1cm}\n",
    "\\begin{equation}\\label{prob}\n",
    "\\begin{array}{ll}\n",
    "\\underset{a\\in\\Re^{15}}{\\mbox{minimize}} & \\|a\\|\\\\[0.6ex]\n",
    "\\mbox{subject to} & p(x,y)\\leq -1, \\mbox{for x, y in set 1},\\\\[0.6ex]\n",
    "     & p(x,y)\\geq 1, \\mbox{for x, y in set 2}.\n",
    "\\end{array}\n",
    "\\end{equation}\n",
    "\\vspace{0.1cm}"
   ]
  },
  {
   "cell_type": "code",
   "execution_count": 1,
   "metadata": {},
   "outputs": [],
   "source": [
    "# Import necessary packages\n",
    "import numpy as np\n",
    "import cvxpy as cvx\n",
    "import matplotlib.pyplot as plt"
   ]
  },
  {
   "cell_type": "markdown",
   "metadata": {},
   "source": [
    "## Data preparation\n",
    "In this section, we generate two sets of random points used as training data for our model."
   ]
  },
  {
   "cell_type": "code",
   "execution_count": 2,
   "metadata": {},
   "outputs": [],
   "source": [
    "# Fix random seed\n",
    "np.random.seed(3)\n",
    "# Generate two primary sets of points\n",
    "# Number of points in each set\n",
    "n = 80\n",
    "set_1_base = np.random.uniform(-1.0, 1.0, (n,2))\n",
    "set_2_base = np.random.uniform(-1.0, 1.0, (n,2))\n",
    "# Scale the primary points to make set 1 surrounded by set 2\n",
    "for i in range(n):\n",
    "    set_1_base[i,0:] = 0.9 * set_1_base[i,0:] * np.random.rand() / \\\n",
    "                       np.linalg.norm(set_1_base[i,0:])\n",
    "    set_2_base[i,0:] = set_2_base[i,0:] * (1.1 + np.random.rand() / \\\n",
    "                                np.linalg.norm(set_2_base[i,0:]))\n",
    "# Further process the data to make abnormal shape of sets of points\n",
    "maxnorm_set_1 = max(np.linalg.norm(set_1_base,axis=1))\n",
    "set_2_pick = set_2_base[np.linalg.norm(set_2_base,axis=1)>maxnorm_set_1,0:]\n",
    "set_1_pick = np.concatenate((set_1_base,\n",
    "                             set_2_base[np.linalg.norm(set_2_base,axis=1)<=\n",
    "                                        maxnorm_set_1,0:]))\n",
    "# The shape of set 1 is primarily round, I punch set 1 from the left to make it abnormal\n",
    "# Feel free to modify punch power to see the resulting graph\n",
    "punch_power = 1.0\n",
    "set_1 = set_1_pick[np.linalg.norm(set_1_pick-[-1.0,-0.5],axis=1)>punch_power,0:]\n",
    "set_2 = np.concatenate((set_2_pick,\n",
    "                        set_1_pick[np.linalg.norm(set_1_pick-[-1.0,-0.5],axis=1)<=\n",
    "                                   punch_power,0:]))"
   ]
  },
  {
   "cell_type": "markdown",
   "metadata": {},
   "source": [
    "Now the training data is ready to use. Visualize it."
   ]
  },
  {
   "cell_type": "code",
   "execution_count": 3,
   "metadata": {},
   "outputs": [
    {
     "data": {
      "image/png": "[encoded data removed]",
      "text/plain": [
       "<Figure size 432x288 with 1 Axes>"
      ]
     },
     "metadata": {
      "needs_background": "light"
     },
     "output_type": "display_data"
    }
   ],
   "source": [
    "data = (set_1, set_2)\n",
    "colors = (\"red\", \"blue\")\n",
    "groups = (\"set1\", \"set2\")\n",
    "\n",
    "fig = plt.figure()\n",
    "ax = fig.add_subplot(1, 1, 1, alpha=1.0)\n",
    "for data, color, group in zip(data, colors, groups):\n",
    "    x = data[0:,0]\n",
    "    y = data[0:,1]\n",
    "    ax.scatter(x, y, alpha=0.8, c=color, edgecolors='none', s=10, label=group)\n",
    "plt.xlim(-2.0, 2.0)\n",
    "plt.ylim(-2.0, 2.0)\n",
    "plt.title('Training Data')\n",
    "plt.legend(loc=2)\n",
    "plt.show()"
   ]
  },
  {
   "cell_type": "markdown",
   "metadata": {},
   "source": [
    "The number of coefficient for a quartic polynomial is $15$, which is therefore our number of variables."
   ]
  },
  {
   "cell_type": "code",
   "execution_count": 4,
   "metadata": {},
   "outputs": [],
   "source": [
    "# Number of variables\n",
    "nvar = 15"
   ]
  },
  {
   "cell_type": "markdown",
   "metadata": {},
   "source": [
    "Both constraints in (\\ref{prob}) are linear with respect to variable $a$. Use set_1 and set_2 to set linear coefficients for those constraints."
   ]
  },
  {
   "cell_type": "code",
   "execution_count": 5,
   "metadata": {},
   "outputs": [],
   "source": [
    "A_1 = np.zeros((set_1.shape[0], nvar))\n",
    "A_2 = np.zeros((set_2.shape[0], nvar))\n",
    "\n",
    "for i in range(set_1.shape[0]):\n",
    "    counter = 0\n",
    "    for j in range(5):\n",
    "        for k in range(5-j):\n",
    "            A_1[i,counter] = set_1[i,0]**j * set_1[i,1]**k\n",
    "            counter = counter + 1\n",
    "for i in range(set_2.shape[0]):\n",
    "    counter = 0\n",
    "    for j in range(5):\n",
    "        for k in range(5-j):\n",
    "            A_2[i,counter] = set_2[i,0]**j * set_2[i,1]**k\n",
    "            counter = counter + 1"
   ]
  },
  {
   "cell_type": "markdown",
   "metadata": {},
   "source": [
    "## Model our problem via CVXPY and solve"
   ]
  },
  {
   "cell_type": "code",
   "execution_count": 6,
   "metadata": {},
   "outputs": [
    {
     "name": "stdout",
     "output_type": "stream",
     "text": [
      "\n",
      " ------------------------------------------------\n",
      "  E04PT, Interior point method for SOCP problems\n",
      " ------------------------------------------------\n",
      "\n",
      " Begin of Options\n",
      "     Print File                    =                  -1     * U\n",
      "     Print Level                   =                   2     * d\n",
      "     Print Options                 =                 Yes     * d\n",
      "     Print Solution                =                  No     * d\n",
      "     Monitoring File               =                   6     * U\n",
      "     Monitoring Level              =                   2     * U\n",
      "     Socp Monitor Frequency        =                   0     * d\n",
      "\n",
      "     Infinite Bound Size           =         1.00000E+20     * d\n",
      "     Task                          =            Minimize     * d\n",
      "     Stats Time                    =                  No     * d\n",
      "     Time Limit                    =         1.00000E+06     * d\n",
      "\n",
      "     Socp Iteration Limit          =                 100     * d\n",
      "     Socp Max Iterative Refinement =                   9     * d\n",
      "     Socp Presolve                 =                 Yes     * d\n",
      "     Socp Scaling                  =                None     * d\n",
      "     Socp Stop Tolerance           =         1.05367E-08     * d\n",
      "     Socp Stop Tolerance 2         =         1.05367E-08     * d\n",
      "     Socp System Formulation       =                Auto     * d\n",
      " End of Options\n",
      "\n",
      " Problem Statistics\n",
      "   No of variables                 32\n",
      "     bounds               not defined\n",
      "   No of lin. constraints         176\n",
      "     nonzeroes                   2432\n",
      "   No of quad.constraints           0\n",
      "   No of cones                      1\n",
      "     biggest cone size             16\n",
      "   Objective function          Linear\n",
      "\n",
      " Presolved Problem Measures\n",
      "   No of variables                191\n",
      "   No of lin. constraints         175\n",
      "     nonzeroes                   2590\n",
      "   No of cones                      1\n",
      "\n",
      "\n",
      " ------------------------------------------------------------------------\n",
      "  it|    pobj    |    dobj    |  p.inf  |  d.inf  |  d.gap  |   tau  | I\n",
      " ------------------------------------------------------------------------\n",
      "   0  1.00000E+00  0.00000E+00  2.70E-02  5.35E-03  2.00E+00  1.0E+00\n",
      "   1  5.13493E+01  8.32818E+01  1.29E-02  2.55E-03  9.55E-01  5.0E-02\n",
      "   2  2.80351E+01  5.34418E+01  9.73E-03  1.93E-03  7.22E-01  3.6E-01\n",
      "   3  1.11360E+02  2.17980E+02  4.46E-03  8.86E-04  3.31E-01  1.2E-01\n",
      "   4  2.07571E+02  4.06965E+02  2.08E-03  4.13E-04  1.55E-01  5.9E-02\n",
      "   5  3.02366E+02  5.91847E+02  1.38E-03  2.74E-04  1.03E-01  3.5E-02\n",
      "   6  2.42309E+02  4.51372E+02  2.93E-04  5.82E-05  2.18E-02  2.0E-02\n",
      "   7  1.29884E+02  1.56324E+02  8.30E-05  1.65E-05  6.16E-03  2.2E-02\n",
      "   8  7.71822E+01  8.68099E+01  3.34E-05  6.63E-06  2.48E-03  3.4E-02\n",
      "   9  6.67725E+01  7.13985E+01  1.75E-05  3.48E-06  1.30E-03  3.6E-02\n",
      "  10  6.49722E+01  6.63180E+01  7.68E-06  1.52E-06  5.70E-04  3.2E-02\n",
      "  11  6.27050E+01  6.28895E+01  2.58E-06  5.11E-07  1.91E-04  3.2E-02\n",
      "  12  6.17692E+01  6.18968E+01  1.62E-06  3.21E-07  1.20E-04  2.9E-02\n",
      "  13  6.14587E+01  6.14705E+01  4.56E-07  9.04E-08  3.38E-05  2.9E-02\n",
      "  14  6.11965E+01  6.11981E+01  5.12E-08  1.02E-08  3.80E-06  2.8E-02\n",
      "  15  6.11753E+01  6.11754E+01  2.23E-09  4.43E-10  1.66E-07  2.8E-02\n",
      "  16  6.11747E+01  6.11747E+01  8.75E-11  1.72E-11  6.42E-09  2.8E-02\n",
      " ------------------------------------------------------------------------------\n",
      " Status: converged, an optimal solution found\n",
      " ------------------------------------------------------------------------------\n",
      " Final primal objective value         6.117468E+01\n",
      " Final dual objective value           6.117469E+01\n",
      " Absolute primal infeasibility        6.493819E-09\n",
      " Relative primal infeasibility        8.753236E-11\n",
      " Absolute dual infeasibility          3.212062E-09\n",
      " Relative dual infeasibility          1.718111E-11\n",
      " Absolute complementarity gap         6.424124E-09\n",
      " Relative complementarity gap         6.424124E-09\n",
      " Iterations                                     16\n"
     ]
    }
   ],
   "source": [
    "# Define decision variables\n",
    "x = cvx.Variable(nvar)\n",
    "# Define objective function\n",
    "objective = cvx.Minimize(cvx.norm(x))\n",
    "# Define constraints\n",
    "constraint = [A_1@x <= -1.0, A_2@x >= 1.0]\n",
    "# Define the entire problem\n",
    "problem = cvx.Problem(objective, constraint)\n",
    "# Solve, Bing!\n",
    "problem.solve(solver='NAG', verbose=True)\n",
    "# Save result\n",
    "coef = x.value"
   ]
  },
  {
   "cell_type": "markdown",
   "metadata": {},
   "source": [
    "## Visualize the classifier"
   ]
  },
  {
   "cell_type": "code",
   "execution_count": 7,
   "metadata": {},
   "outputs": [
    {
     "data": {
      "image/png": "[encoded data removed]",
      "text/plain": [
       "<Figure size 432x288 with 1 Axes>"
      ]
     },
     "metadata": {
      "needs_background": "light"
     },
     "output_type": "display_data"
    }
   ],
   "source": [
    "# Generate a mesh\n",
    "x = np.arange(-5.0,5.0,0.008)\n",
    "y = np.arange(-5.0,5.0,0.008)\n",
    "xx, yy = np.meshgrid(x,y)\n",
    "\n",
    "# Ploynomial value on the mesh\n",
    "polyval = np.zeros(xx.shape)\n",
    "counter = 0\n",
    "for i in range(5):\n",
    "    for j in range(5-i):\n",
    "        polyval = polyval + coef[counter]*np.power(xx,i)*np.power(yy,j)\n",
    "        counter = counter + 1\n",
    "\n",
    "# Plot the trained polynomial\n",
    "fig = plt.figure()\n",
    "ax = fig.add_subplot(1, 1, 1, alpha=1.0)\n",
    "\n",
    "ax.scatter(xx[polyval<=-1], yy[polyval<=-1], alpha=0.002)\n",
    "\n",
    "data = (set_1, set_2)\n",
    "colors = (\"red\", \"blue\")\n",
    "groups = (\"set1\", \"set2\")\n",
    "for data, color, group in zip(data, colors, groups):\n",
    "    x = data[0:,0]\n",
    "    y = data[0:,1]\n",
    "    ax.scatter(x, y, alpha=0.8, c=color, edgecolors='none', s=10, label=group)\n",
    "plt.xlim(-2.0, 2.0)\n",
    "plt.ylim(-2.0, 2.0)\n",
    "plt.title('Polynomial')\n",
    "plt.legend(loc=2)\n",
    "plt.show()"
   ]
  }
 ],
 "metadata": {
  "kernelspec": {
   "display_name": "Python 3",
   "language": "python",
   "name": "python3"
  },
  "language_info": {
   "codemirror_mode": {
    "name": "ipython",
    "version": 3
   },
   "file_extension": ".py",
   "mimetype": "text/x-python",
   "name": "python",
   "nbconvert_exporter": "python",
   "pygments_lexer": "ipython3",
   "version": "3.8.5"
  },
  "latex_envs": {
   "LaTeX_envs_menu_present": true,
   "autoclose": false,
   "autocomplete": true,
   "bibliofile": "biblio.bib",
   "cite_by": "apalike",
   "current_citInitial": 1,
   "eqLabelWithNumbers": true,
   "eqNumInitial": 1,
   "hotkeys": {
    "equation": "Ctrl-E",
    "itemize": "Ctrl-I"
   },
   "labels_anchors": false,
   "latex_user_defs": false,
   "report_style_numbering": false,
   "user_envs_cfg": false
  }
 },
 "nbformat": 4,
 "nbformat_minor": 2
}
