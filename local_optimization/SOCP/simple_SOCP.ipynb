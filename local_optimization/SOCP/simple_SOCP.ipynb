{
 "cells": [
  {
   "cell_type": "markdown",
   "metadata": {},
   "source": [
    "# Simple SOCP Example\n",
    "\n",
    "This demonstration is taken from the set of examples that are shipped with the [NAG Library for *Python*](https://www.nag.com/nag-library-python).  You can view all of them by executing the following command in a command shell.\n",
    "\n",
    "```\n",
    "python -m naginterfaces.library.examples --locate\n",
    "```\n",
    "\n",
    "NAG's **handle_solve_socp_ipm** function (also known as e04pt)  is a solver from the NAG optimization modelling suite for large-scale second-order cone programming (SOCP) problems. It is based on an interior point method (IPM).\n",
    "\n",
    "\n",
    "\n",
    "$$\n",
    "\\begin{array}{ll}\n",
    "{\\underset{x \\in \\mathbb{R}^{n}}{minimize}\\ } & {c^{T}x} \\\\\n",
    "\\text{subject to} & {l_{A} \\leq Ax \\leq u_{A}\\text{,}} \\\\\n",
    " & {l_{x} \\leq x \\leq u_{x}\\text{,}} \\\\\n",
    " & {x \\in \\mathcal{K}\\text{,}} \\\\\n",
    "\\end{array}\n",
    "$$\n",
    "\n",
    "\n",
    "\n",
    "where $\\mathcal{K} = \\mathcal{K}^{n_{1}} \\times \\cdots \\times \\mathcal{K}^{n_{r}} \\times \\mathbb{R}^{n_{l}}$ is a Cartesian product of  quadratic (second-order type) cones and $n_{l}$-dimensional real space, and $n = \\sum_{i = 1}^{r}n_{i} + n_{l}$ is the number of decision variables. Here $c$, $x$, $l_x$ and $u_x$ are are $n$-dimensional vectors.\n",
    "\n",
    "$A$  is an $m$ by $n$ sparse matrix, and $l_A$ and $u_A$ and are $m$-dimensional vectors. Note that $x \\in \\mathcal{K}$ partitions subsets of variables into quadratic cones and each $\\mathcal{K}^{n_{i}}$ can be either a quadratic cone or a rotated quadratic cone. These are defined as follows:\n",
    "\n",
    "* Quadratic cone:\n",
    "\n",
    "$$\n",
    " \\mathcal{K}_{q}^{n_{i}} := \\left\\{ {z = \\left\\{ {z_{1},z_{2},\\ldots,z_{n_{i}}} \\right\\} \\in {\\mathbb{R}}^{n_{i}} \\quad\\quad : \\quad\\quad  z_{1}^{2} \\geq \\sum\\limits_{j = 2}^{n_{i}}z_{j}^{2},\\quad\\quad\\quad       z_{1} \\geq 0} \\right\\}\\text{.}\n",
    "$$\n",
    "\n",
    "* Rotated quadratic cone:\n",
    "\n",
    "$$\n",
    "\\mathcal{K}_{r}^{n_{i}} := \\left\\{ {z = \\left\\{ {z_{1},z_{2},\\ldots,z_{n_{i}}} \\right\\} \\in {\\mathbb{R}}^{n_{i}}\\quad\\quad:\\quad \\quad\\quad 2z_{1}z_{2} \\geq \\sum\\limits_{j = 3}^{n_{i}}z_{j}^{2}, \\quad\\quad z_{1} \\geq 0, \\quad\\quad z_{2} \\geq 0} \\right\\}\\text{.}\n",
    "$$\n",
    "\n",
    "For a full explanation of this routine, refer to [e04ptc in the NAG Library Manual](https://www.nag.com/numeric/nl/nagdoc_27/clhtml/e04/e04ptc.html)\n",
    "\n",
    "This example, derived from the documentation for the [**handle_set_group**](https://www.nag.com/numeric/nl/nagdoc_27/clhtml/e04/e04rbc.html#example) function solves the following SOCP problem\n",
    "\n",
    "minimize $${10.0x_{1} + 20.0x_{2} + x_{3}}$$"
   ]
  },
  {
   "cell_type": "code",
   "execution_count": 1,
   "metadata": {},
   "outputs": [],
   "source": [
    "from naginterfaces.base import utils\n",
    "from naginterfaces.library import opt\n",
    "\n",
    "# The problem size:\n",
    "n = 3\n",
    "\n",
    "# Create the problem handle:\n",
    "handle = opt.handle_init(nvar=n)\n",
    "\n",
    "# Set objective function\n",
    "opt.handle_set_linobj(handle, cvec=[10.0, 20.0, 1.0])"
   ]
  },
  {
   "cell_type": "markdown",
   "metadata": {},
   "source": [
    "subject to the bounds\n",
    "$$ \n",
    "\\begin{array}{rllll}\n",
    "{- 2.0} & \\leq & x_{1} & \\leq & 2.0 \\\\\n",
    "{- 2.0} & \\leq & x_{2} & \\leq & 2.0 \\\\\n",
    "\\end{array}\n",
    "$$"
   ]
  },
  {
   "cell_type": "code",
   "execution_count": 2,
   "metadata": {},
   "outputs": [],
   "source": [
    "# Set box constraints\n",
    "opt.handle_set_simplebounds(\n",
    "    handle,\n",
    "    bl=[-2.0, -2.0, -1.e20],\n",
    "    bu=[2.0, 2.0, 1.e20]\n",
    ")"
   ]
  },
  {
   "cell_type": "markdown",
   "metadata": {},
   "source": [
    "the general linear constraints"
   ]
  },
  {
   "cell_type": "markdown",
   "metadata": {},
   "source": [
    "\\begin{array}{lcrcrcrclcl}\n",
    " & & {- 0.1x_{1}} & - & {0.1x_{2}} & + & x_{3} & \\leq & 1.5 & & \\\\\n",
    "1.0 & \\leq & {- 0.06x_{1}} & + & x_{2} & + & x_{3} & & & & \\\\\n",
    "\\end{array}"
   ]
  },
  {
   "cell_type": "code",
   "execution_count": 3,
   "metadata": {},
   "outputs": [],
   "source": [
    "# Set linear constraints\n",
    "_ = opt.handle_set_linconstr(\n",
    "    handle,\n",
    "    bl=[-1.e20, 1.0],\n",
    "    bu=[1.5, 1.e20],\n",
    "    irowb=[1, 1, 1, 2, 2, 2],\n",
    "    icolb=[1, 2, 3, 1, 2, 3],\n",
    "    b=[-0.1, -0.1, 1.0, -0.06, 1.0, 1.0]\n",
    "    )"
   ]
  },
  {
   "cell_type": "markdown",
   "metadata": {},
   "source": [
    "and the cone constraint\n",
    "\n",
    "$$\\left( {x_{3},x_{1},x_{2}} \\right) \\in \\mathcal{K}_{q}^{3}\\text{.}$$"
   ]
  },
  {
   "cell_type": "code",
   "execution_count": 4,
   "metadata": {},
   "outputs": [],
   "source": [
    "# Set cone constraint\n",
    "_ = opt.handle_set_group(\n",
    "    handle,\n",
    "    gtype='Q',\n",
    "    group=[ 3,1, 2],\n",
    "    idgroup=0\n",
    ")"
   ]
  },
  {
   "cell_type": "markdown",
   "metadata": {},
   "source": [
    "We set some algorithmic options"
   ]
  },
  {
   "cell_type": "code",
   "execution_count": 5,
   "metadata": {},
   "outputs": [],
   "source": [
    "# Set some algorithmic options.\n",
    "for option in [\n",
    "        'Print Options = NO',\n",
    "        'Print Level = 1'\n",
    "]:\n",
    "    opt.handle_opt_set(handle, option)\n",
    "\n",
    "# Use an explicit I/O manager for abbreviated iteration output:\n",
    "iom = utils.FileObjManager(locus_in_output=False)"
   ]
  },
  {
   "cell_type": "markdown",
   "metadata": {},
   "source": [
    "Finally, we call the solver"
   ]
  },
  {
   "cell_type": "code",
   "execution_count": 6,
   "metadata": {},
   "outputs": [
    {
     "name": "stdout",
     "output_type": "stream",
     "text": [
      "\n",
      " ------------------------------------------------\n",
      "  E04PT, Interior point method for SOCP problems\n",
      " ------------------------------------------------\n",
      "\n",
      " Status: converged, an optimal solution found\n",
      " Final primal objective value -1.951817E+01\n",
      " Final dual objective value   -1.951817E+01\n"
     ]
    }
   ],
   "source": [
    "# Call SOCP interior point solver\n",
    "result = opt.handle_solve_socp_ipm(handle, io_manager=iom)"
   ]
  },
  {
   "cell_type": "markdown",
   "metadata": {},
   "source": [
    "The optimal solution is "
   ]
  },
  {
   "cell_type": "code",
   "execution_count": 7,
   "metadata": {},
   "outputs": [
    {
     "data": {
      "text/plain": [
       "array([-1.26819151, -0.4084294 ,  1.3323379 ])"
      ]
     },
     "execution_count": 7,
     "metadata": {},
     "output_type": "execute_result"
    }
   ],
   "source": [
    "result.x"
   ]
  },
  {
   "cell_type": "markdown",
   "metadata": {},
   "source": [
    "and the objective function value is "
   ]
  },
  {
   "cell_type": "code",
   "execution_count": 8,
   "metadata": {},
   "outputs": [
    {
     "data": {
      "text/plain": [
       "-19.51816515094211"
      ]
     },
     "execution_count": 8,
     "metadata": {},
     "output_type": "execute_result"
    }
   ],
   "source": [
    "result.rinfo[0]"
   ]
  },
  {
   "cell_type": "markdown",
   "metadata": {},
   "source": [
    "Finally, we clean up after ourselves by destroying the handle"
   ]
  },
  {
   "cell_type": "code",
   "execution_count": 9,
   "metadata": {},
   "outputs": [],
   "source": [
    "# Destroy the handle:\n",
    "opt.handle_free(handle)"
   ]
  }
 ],
 "metadata": {
  "kernelspec": {
   "display_name": "Python 3",
   "language": "python",
   "name": "python3"
  },
  "language_info": {
   "codemirror_mode": {
    "name": "ipython",
    "version": 3
   },
   "file_extension": ".py",
   "mimetype": "text/x-python",
   "name": "python",
   "nbconvert_exporter": "python",
   "pygments_lexer": "ipython3",
   "version": "3.8.0"
  },
  "latex_envs": {
   "LaTeX_envs_menu_present": true,
   "autoclose": false,
   "autocomplete": true,
   "bibliofile": "biblio.bib",
   "cite_by": "apalike",
   "current_citInitial": 1,
   "eqLabelWithNumbers": true,
   "eqNumInitial": 1,
   "hotkeys": {
    "equation": "Ctrl-E",
    "itemize": "Ctrl-I"
   },
   "labels_anchors": false,
   "latex_user_defs": false,
   "report_style_numbering": false,
   "user_envs_cfg": false
  }
 },
 "nbformat": 4,
 "nbformat_minor": 2
}
