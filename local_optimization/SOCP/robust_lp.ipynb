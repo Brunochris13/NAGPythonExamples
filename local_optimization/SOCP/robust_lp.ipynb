{
 "cells": [
  {
   "cell_type": "markdown",
   "metadata": {},
   "source": [
    "# Robust linear programming in portfolio optimization using the NAG Library"
   ]
  },
  {
   "cell_type": "markdown",
   "metadata": {},
   "source": [
    "# Correct Rendering of this notebook\n",
    "\n",
    "This notebook makes use of the `latex_envs` Jupyter extension for equations and references.  If the LaTeX is not rendering properly in your local installation of Jupyter , it may be because you have not installed this extension.  Details at https://jupyter-contrib-nbextensions.readthedocs.io/en/latest/nbextensions/latex_envs/README.html\n",
    "\n",
    "## Introduction"
   ]
  },
  {
   "cell_type": "markdown",
   "metadata": {},
   "source": [
    "We consider a classic portfolio problem with loss risk constraints:\n",
    "\\vspace{0.1cn}\n",
    "\\begin{equation}\\label{prob}\n",
    "\\begin{array}{ll}\n",
    "\\underset{x\\in\\Re^n}{\\mbox{maximize}} & \\bar{r}^Tx\\\\[0.6ex]\n",
    "\\mbox{subject to} & \\mbox{Prob}(r^Tx\\leq\\alpha)\\leq\\beta,\\\\[0.6ex]\n",
    "     & \\sum_{i=1}^n x_i=1,\\\\[0.6ex]\n",
    "     & x\\geq0.\n",
    "\\end{array}\n",
    "\\end{equation}\n",
    "\\vspace{0.1cn}\n",
    "Here we suppose the return of aseets $r\\in\\Re^n$ is Gaussian with mean $\\bar{r}\\in\\Re^n$ and covariance $V\\in\\Re^{n\\times n}$, $\\alpha$  is a given unwanted return level (e.g. an excessive lose) and $\\beta$ is a given maximum probability. \n",
    "\n",
    "We will demonstrate that problem (\\ref{prob}) can be transformed into a second-order cone programming (SOCP) of the following form and solved easily using the SOCP solver introduced at Mark $27$ in the NAG Library:\n",
    "\\vspace{0.1cn}\n",
    "\\begin{equation}\\label{SOCP}\n",
    "\\begin{array}{ll}\n",
    "\\underset{x\\in\\Re^n}{\\mbox{minimize}} & c^Tx\\\\[0.6ex]\n",
    "\\mbox{subject to} & l_A\\leq Ax\\leq u_A,\\\\[0.6ex]\n",
    "     & l_x\\leq x\\leq u_x,\\\\[0.6ex]\n",
    "     & x\\in{\\cal K},\n",
    "\\end{array}\n",
    "\\end{equation}\n",
    "\\vspace{0.1cn}\n",
    "where $A\\in\\Re^{m\\times n}$, $l_A, u_A\\in\\Re^m$, $c, l_x, u_x\\in\\Re^n$ are the problem data, and $\\cal K={\\cal K}^{n_1}\\times\\cdots\\times{\\cal K}^{n_r}\\times\\Re^{n_l}$ where ${\\cal K}^{n_i}$ is either a quadratic cone or a rotated quadratic cone defined as follows:\n",
    "\\begin{itemize}\n",
    "\\item Quadratic cone:\n",
    "\\begin{equation}\\label{SOC}\n",
    "{\\cal K}_q^{n_i}:=\\left\\lbrace x=\\left(x_1,\\ldots,x_{n_i}\\right)\\in\\Re^{n_i}~:~x_1^2\\geq\\sum_{j=2}^{n_i} x_j^2, ~x_1\\geq0\\right\\rbrace.\n",
    "\\end{equation}\n",
    "\\item Rotated quadratic cone:\n",
    "\\begin{equation}\\label{RSOC}\n",
    "{\\cal K}_r^{n_i}=\\left\\lbrace x=\\left(x_1,x_2,\\ldots,x_{n_i}\\right)\\in\\Re^{n_i}~:~2x_1x_2\\geq\\sum_{j=3}^{n_i} x_j^2,\\quad x_1\\geq0,\\quad x_2\\geq0\\right\\rbrace.\n",
    "\\end{equation}\n",
    "\\end{itemize}"
   ]
  },
  {
   "cell_type": "markdown",
   "metadata": {},
   "source": [
    "## A closer look at the probability constraint"
   ]
  },
  {
   "cell_type": "markdown",
   "metadata": {},
   "source": [
    "Let $u=r^Tx$ with $\\sigma=x^TVx$ denoting its variance, the probability constraint in problem (\\ref{prob}) can be written as\n",
    "\\vspace{0.1cn}\n",
    "$$\n",
    "\\mbox{Prob}\\left(\\frac{u-\\bar{u}}{\\sqrt{\\sigma}}\\leq\\frac{\\alpha-\\bar{u}}{\\sqrt{\\sigma}}\\right)\\leq\\beta.\n",
    "$$\n",
    "\\vspace{0.1cn}\n",
    "Note that $(u-\\bar{u})/\\sqrt{\\sigma}$ is a standard Gaussian random variable, the probability above is simply $\\Phi((\\alpha-\\bar{u})/\\sqrt{\\sigma})$, where\n",
    "\\vspace{0.1cn}\n",
    "$$\n",
    "\\Phi(z) = \\frac{1}{\\sqrt{2\\pi}}\\int_{-\\infty}^z e^{-t^2/2}dt\n",
    "$$\n",
    "\\vspace{0.1cn}\n",
    "is the CDF of the standard Gaussian random variable. Thus the probability constraint in problem (\\ref{prob}) can be written as\n",
    "\\vspace{0.1cn}\n",
    "$$\n",
    "\\frac{\\alpha-\\bar{u}}{\\sqrt{\\sigma}}\\leq\\Phi^{-1}(\\beta)\n",
    "$$\n",
    "\\vspace{0.1cn}\n",
    "or, equivalently,\n",
    "\\vspace{0.1cn}\n",
    "\\begin{equation}\\label{label_1}\n",
    "\\bar{u} + \\Phi^{-1}(\\beta)\\sqrt{\\sigma}\\geq\\alpha.\n",
    "\\end{equation}\n",
    "\\vspace{0.1cn}\n",
    "From $\\bar{u}=\\bar{r}^Tx$ and $\\sigma=x^TVx=\\|Fx\\|^2$ by factorizing $V=F^TF$, (\\ref{label_1}) is equivalent to\n",
    "\\vspace{0.1cn}\n",
    "\\begin{equation}\\label{label_2}\n",
    "\\bar{r}^Tx + \\Phi^{-1}(\\beta)\\|Fx\\|\\geq\\alpha.\n",
    "\\end{equation}\n",
    "\\vspace{0.1cn}\n",
    "Depending on the value of $\\beta$, (\\ref{label_2}) could be convex or concave. By setting $\\beta\\leq0.5$ (which is reasonable for risk control), (\\ref{label_2}) is convex and can be written as\n",
    "\\vspace{0.1cn}\n",
    "\\begin{equation}\\label{label_3}\n",
    "\\bar{r}^Tx + \\Phi^{-1}(\\beta)t=\\alpha ~ \\mbox{and} ~ \\|Fx\\|\\leq t.\n",
    "\\end{equation}\n",
    "\\vspace{0.1cm}\n",
    "Note that by letting $Fx=y$, $\\|Fx\\|=\\|y\\|\\leq t$ in (\\ref{label_3}) fits exactly the quadratic cone constraint (\\ref{SOC}), thus can be solved by second-order cone programming. The final equivalent SOCP model to problem (\\ref{prob}) is\n",
    "\\vspace{0.1cn}\n",
    "\\begin{equation}\\label{final}\n",
    "\\begin{array}{ll}\n",
    "\\underset{x\\in\\Re^n}{\\mbox{maximize}} & \\bar{r}^Tx\\\\[0.6ex]\n",
    "\\mbox{subject to} & \\sum_{i=1}^n x_i=1,\\\\[0.6ex] \n",
    "     & Fx = y,\\\\[0.6ex]\n",
    "     & \\bar{r}^Tx + \\Phi^{-1}(\\beta)t=\\alpha, \\\\[0.6ex]\n",
    "     & (t;y)\\in{\\cal K}^{n+1}_q,\\\\[0.6ex]\n",
    "     & x\\geq0.\n",
    "\\end{array}\n",
    "\\end{equation}\n",
    "\\vspace{0.1cn}"
   ]
  },
  {
   "cell_type": "markdown",
   "metadata": {},
   "source": [
    "## Using the NAG Library"
   ]
  },
  {
   "cell_type": "markdown",
   "metadata": {},
   "source": [
    "We demonstrate how to use the NAG SOCP solver to model and solve problem (\\ref{prob}) by solving the equivalent SOCP problem (\\ref{final})."
   ]
  },
  {
   "cell_type": "code",
   "execution_count": 1,
   "metadata": {},
   "outputs": [],
   "source": [
    "# Import utility libraries and the NAG Library\n",
    "import numpy as np\n",
    "import math as mt\n",
    "from scipy.stats import norm\n",
    "from naginterfaces.library import opt\n",
    "from naginterfaces.library import lapackeig"
   ]
  },
  {
   "cell_type": "markdown",
   "metadata": {},
   "source": [
    "As an example, we set $\\alpha=0.0001$, $\\beta=0.05$ and randomly generate $\\bar{r}$ and $V$ for $8$ assets as follows."
   ]
  },
  {
   "cell_type": "code",
   "execution_count": 2,
   "metadata": {},
   "outputs": [],
   "source": [
    "# Set alpha and beta\n",
    "alpha = 0.0001\n",
    "beta = 0.05\n",
    "\n",
    "# Fix random seed\n",
    "np.random.seed(9)\n",
    "\n",
    "# Number of assets\n",
    "n_assets = 8\n",
    "\n",
    "# Vector of expected returns\n",
    "r = np.ones(n_assets)*.02 + np.random.rand(n_assets)*.15\n",
    "\n",
    "# Covariance matrix\n",
    "V = np.matrix(np.random.randn(n_assets, n_assets))\n",
    "V = V.T * V\n",
    "V = V / np.max(np.abs(np.diag(V))) * .2"
   ]
  },
  {
   "cell_type": "markdown",
   "metadata": {},
   "source": [
    "Now factorize $V=F^TF$ using eigenvalue decomposition from the NAG Library."
   ]
  },
  {
   "cell_type": "code",
   "execution_count": 3,
   "metadata": {},
   "outputs": [],
   "source": [
    "# Note one could use sparse factorization if V is input as sparse matrix\n",
    "U, lamda = lapackeig.dsyevd('V', 'L', V)\n",
    "\n",
    "# Find positive eigenvalues and corresponding eigenvectors\n",
    "i = 0\n",
    "k = 0\n",
    "F = []\n",
    "\n",
    "while i<len(lamda):\n",
    "    if lamda[i] > 0:\n",
    "        F = np.append(F, mt.sqrt(lamda[i])*U[:,i])\n",
    "        k += 1\n",
    "    i += 1\n",
    "\n",
    "F = F.reshape((k, n_assets))"
   ]
  },
  {
   "cell_type": "markdown",
   "metadata": {},
   "source": [
    "For modelling, NAG SOCP solver requires several input arguments for objective and constraints. Now we initialize the data that will be used to feed NAG SOCP solver."
   ]
  },
  {
   "cell_type": "code",
   "execution_count": 4,
   "metadata": {},
   "outputs": [],
   "source": [
    "# Number of variables\n",
    "n = n_assets\n",
    "# Number of constraints\n",
    "m = 0\n",
    "\n",
    "# Objective coefficient c\n",
    "c = np.full(n, 0.0, float)\n",
    "\n",
    "# Bounds on variables\n",
    "blx = np.full(n, -1.e20, float)\n",
    "bux = np.full(n, 1.e20, float)\n",
    "\n",
    "# Linear constraint bu <= Ax <= bu\n",
    "# A in coordinate list format (COO)\n",
    "irowa = np.empty(0, int)\n",
    "icola = np.empty(0, int)\n",
    "a = np.empty(0, float)\n",
    "# Bounds on Ax\n",
    "bl = np.empty(0, float)\n",
    "bu = np.empty(0, float)\n",
    "\n",
    "# Cone constraints\n",
    "ctype = []\n",
    "group = []"
   ]
  },
  {
   "cell_type": "markdown",
   "metadata": {},
   "source": [
    "Because we will add auxiliary variables and constraints during the process, it is necessary we keep tracking the number of variables and constraints in the model by maintaining the up-to-date problem size."
   ]
  },
  {
   "cell_type": "code",
   "execution_count": 5,
   "metadata": {},
   "outputs": [],
   "source": [
    "# Initialize the up-to-date problem size\n",
    "n_up = n\n",
    "m_up = m"
   ]
  },
  {
   "cell_type": "markdown",
   "metadata": {},
   "source": [
    "Now we keep modifying the above data during adding objective and constraints one by one. First is the objective coefficient $c$."
   ]
  },
  {
   "cell_type": "code",
   "execution_count": 6,
   "metadata": {},
   "outputs": [],
   "source": [
    "# Add objective function min -r'x\n",
    "c = -r"
   ]
  },
  {
   "cell_type": "markdown",
   "metadata": {},
   "source": [
    "Then we add the long-only constraint."
   ]
  },
  {
   "cell_type": "code",
   "execution_count": 7,
   "metadata": {},
   "outputs": [],
   "source": [
    "# Number of linear constraints will increase by 1\n",
    "m += 1\n",
    "\n",
    "# Set lower bound on x to 0\n",
    "blx[0:n] = np.zeros(n)\n",
    "\n",
    "# Add sum(x) = 1\n",
    "irowa = np.append(irowa, np.full(n, m_up+1, dtype=int))\n",
    "icola = np.append(icola, np.arange(1, n+1))\n",
    "a = np.append(a, np.full(n, 1.0, dtype=float))\n",
    "bl = np.append(bl, np.full(1, 1.0, dtype=float))\n",
    "bu = np.append(bu, np.full(1, 1.0, dtype=float))"
   ]
  },
  {
   "cell_type": "markdown",
   "metadata": {},
   "source": [
    "Now add the probability constraint by adding\n",
    "$$\n",
    "Fx = y,~ \\bar{r}^Tx + \\Phi^{-1}(\\beta)t=\\alpha ~and~(t;y)\\in{\\cal K}^{n+1}_q.\n",
    "$$"
   ]
  },
  {
   "cell_type": "code",
   "execution_count": 8,
   "metadata": {},
   "outputs": [],
   "source": [
    "# Get quantile function of beta\n",
    "quantile = norm.ppf(beta)\n",
    "\n",
    "# Up-to-date problem size\n",
    "m_up = m\n",
    "n_up = n\n",
    "\n",
    "# Then k + 1 more variables need to be added together with\n",
    "# k + 1 linear constraints and a second-order cone contraint\n",
    "# Enlarge the model\n",
    "n = n + k + 1\n",
    "m = m + k + 1\n",
    "\n",
    "# All the added auxiliary variables do not take part in obj\n",
    "c = np.append(c, np.zeros(k+1))\n",
    "\n",
    "# Enlarge bounds on x, add inf bounds on the new added k+1 variables\n",
    "blx = np.append(blx, np.full(k+1, -1.e20, dtype=float))\n",
    "bux = np.append(bux, np.full(k+1, 1.e20, dtype=float))\n",
    "\n",
    "# Enlarge linear constraints\n",
    "# Sparsity pattern of F (COO)\n",
    "row, col = np.nonzero(F)\n",
    "val = F[row, col]\n",
    "\n",
    "# Convert to 1-based and move row down by m\n",
    "# Add Fx = y and Phi^-1(beta)*t + r_bar'x - alpha = 0\n",
    "# [x,t,y]\n",
    "row = row + 1 + m_up\n",
    "col = col + 1\n",
    "\n",
    "row = np.append(row, np.arange(m_up+1, m_up+k+1+1))\n",
    "col = np.append(np.append(col, np.arange(n_up+2, n_up+k+1+1)), n_up+1)\n",
    "val = np.append(val, np.append(np.full(k, -1.0, dtype=float), quantile))\n",
    "\n",
    "irowa = np.append(irowa, row)\n",
    "icola = np.append(icola, col)\n",
    "a = np.append(a, val)\n",
    "bl = np.append(bl, np.append(np.zeros(k), alpha))\n",
    "bu = np.append(bu, np.append(np.zeros(k), alpha))\n",
    "\n",
    "# coeffient of x in Phi^-1(beta)*t + r'x - alpha = 0\n",
    "irowa = np.append(irowa, np.full(n_assets, m_up+k+1, dtype=int))\n",
    "icola = np.append(icola, np.arange(1, n_assets+1))\n",
    "a = np.append(a, r)\n",
    "\n",
    "# Enlarge cone constraints\n",
    "ctype.extend('Q')\n",
    "group_temp = np.arange(n_up+1, n_up+k+1+1)\n",
    "group.append(group_temp)"
   ]
  },
  {
   "cell_type": "markdown",
   "metadata": {},
   "source": [
    "By now, all the data we need is ready. Feed them to the NAG SOCP solver and solve."
   ]
  },
  {
   "cell_type": "code",
   "execution_count": 9,
   "metadata": {},
   "outputs": [
    {
     "name": "stdout",
     "output_type": "stream",
     "text": [
      "naginterfaces.base.opt.handle_solve_socp_ipm:\n",
      "naginterfaces.base.opt.handle_solve_socp_ipm:  ------------------------------------------------\n",
      "naginterfaces.base.opt.handle_solve_socp_ipm:   E04PT, Interior point method for SOCP problems\n",
      "naginterfaces.base.opt.handle_solve_socp_ipm:  ------------------------------------------------\n",
      "naginterfaces.base.opt.handle_solve_socp_ipm:\n",
      "naginterfaces.base.opt.handle_solve_socp_ipm:  Original Problem Statistics\n",
      "naginterfaces.base.opt.handle_solve_socp_ipm:\n",
      "naginterfaces.base.opt.handle_solve_socp_ipm:    Number of variables                          17\n",
      "naginterfaces.base.opt.handle_solve_socp_ipm:    Number of linear constraints                 10\n",
      "naginterfaces.base.opt.handle_solve_socp_ipm:    Number of nonzeros                           89\n",
      "naginterfaces.base.opt.handle_solve_socp_ipm:    Number of cones                               1\n",
      "naginterfaces.base.opt.handle_solve_socp_ipm:\n",
      "naginterfaces.base.opt.handle_solve_socp_ipm:\n",
      "naginterfaces.base.opt.handle_solve_socp_ipm:  Presolved Problem Statistics\n",
      "naginterfaces.base.opt.handle_solve_socp_ipm:\n",
      "naginterfaces.base.opt.handle_solve_socp_ipm:    Number of variables                          17\n",
      "naginterfaces.base.opt.handle_solve_socp_ipm:    Number of linear constraints                 10\n",
      "naginterfaces.base.opt.handle_solve_socp_ipm:    Number of nonzeros                           89\n",
      "naginterfaces.base.opt.handle_solve_socp_ipm:    Number of cones                               1\n",
      "naginterfaces.base.opt.handle_solve_socp_ipm:\n",
      "naginterfaces.base.opt.handle_solve_socp_ipm:\n",
      "naginterfaces.base.opt.handle_solve_socp_ipm:  ------------------------------------------------------------------------\n",
      "naginterfaces.base.opt.handle_solve_socp_ipm:   it|    pobj    |    dobj    |  p.inf  |  d.inf  |  d.gap  |   tau  | I\n",
      "naginterfaces.base.opt.handle_solve_socp_ipm:  ------------------------------------------------------------------------\n",
      "naginterfaces.base.opt.handle_solve_socp_ipm:    0 -1.13221E+00  0.00000E+00  8.43E-01  2.14E-01  4.45E+00  1.0E+00\n",
      "naginterfaces.base.opt.handle_solve_socp_ipm:    1 -2.82490E-01 -8.98481E-02  1.91E-01  4.87E-02  1.01E+00  1.3E+00\n",
      "naginterfaces.base.opt.handle_solve_socp_ipm:    2 -1.32896E-01 -9.68963E-02  3.73E-02  9.50E-03  1.97E-01  1.4E+00\n",
      "naginterfaces.base.opt.handle_solve_socp_ipm:    3 -1.10308E-01 -9.31071E-02  1.83E-02  4.66E-03  9.65E-02  1.4E+00\n",
      "naginterfaces.base.opt.handle_solve_socp_ipm:    4 -1.02701E-01 -8.92455E-02  1.10E-02  2.81E-03  5.83E-02  1.1E+00\n",
      "naginterfaces.base.opt.handle_solve_socp_ipm:    5 -8.78903E-02 -8.59020E-02  1.62E-03  4.12E-04  8.55E-03  1.1E+00\n",
      "naginterfaces.base.opt.handle_solve_socp_ipm:    6 -8.58224E-02 -8.53194E-02  3.89E-04  9.90E-05  2.05E-03  1.0E+00\n",
      "naginterfaces.base.opt.handle_solve_socp_ipm:    7 -8.54027E-02 -8.51613E-02  1.71E-04  4.34E-05  9.01E-04  9.6E-01\n",
      "naginterfaces.base.opt.handle_solve_socp_ipm:    8 -8.50652E-02 -8.50604E-02  3.51E-06  8.93E-07  1.85E-05  9.7E-01\n",
      "naginterfaces.base.opt.handle_solve_socp_ipm:    9 -8.50588E-02 -8.50583E-02  3.86E-07  9.84E-08  2.04E-06  9.7E-01\n",
      "naginterfaces.base.opt.handle_solve_socp_ipm:   10 -8.50580E-02 -8.50580E-02  9.88E-09  2.51E-09  5.21E-08  9.7E-01\n",
      "naginterfaces.base.opt.handle_solve_socp_ipm:   11 -8.50580E-02 -8.50580E-02  3.19E-10  1.47E-10  8.04E-10  9.7E-01\n",
      "naginterfaces.base.opt.handle_solve_socp_ipm:  ------------------------------------------------------------------------------\n",
      "naginterfaces.base.opt.handle_solve_socp_ipm:  Status: converged, an optimal solution found\n",
      "naginterfaces.base.opt.handle_solve_socp_ipm:  ------------------------------------------------------------------------------\n",
      "naginterfaces.base.opt.handle_solve_socp_ipm:  Final primal objective value        -8.505797E-02\n",
      "naginterfaces.base.opt.handle_solve_socp_ipm:  Final dual objective value          -8.505797E-02\n",
      "naginterfaces.base.opt.handle_solve_socp_ipm:  Absolute primal infeasibility        2.869531E-09\n",
      "naginterfaces.base.opt.handle_solve_socp_ipm:  Relative primal infeasibility        3.186829E-10\n",
      "naginterfaces.base.opt.handle_solve_socp_ipm:  Absolute dual infeasibility          1.765929E-09\n",
      "naginterfaces.base.opt.handle_solve_socp_ipm:  Relative dual infeasibility          1.471607E-10\n",
      "naginterfaces.base.opt.handle_solve_socp_ipm:  Absolute complementarity gap         1.266105E-09\n",
      "naginterfaces.base.opt.handle_solve_socp_ipm:  Relative complementarity gap         8.044616E-10\n",
      "naginterfaces.base.opt.handle_solve_socp_ipm:  Iterations                                     11\n"
     ]
    }
   ],
   "source": [
    "# Create problem handle\n",
    "handle = opt.handle_init(n)\n",
    "\n",
    "# Set objective function\n",
    "opt.handle_set_linobj(handle, c)\n",
    "\n",
    "# Set box constraints\n",
    "opt.handle_set_simplebounds(handle, blx, bux)\n",
    "\n",
    "# Set linear constraints\n",
    "opt.handle_set_linconstr(handle, bl, bu, irowa, icola, a)\n",
    "\n",
    "# Set cone constraints\n",
    "i = 0\n",
    "while i<len(ctype):\n",
    "    opt.handle_set_group(handle, ctype[i], 0, group[i])\n",
    "    i += 1\n",
    "\n",
    "# Set options\n",
    "for option in [\n",
    "        'Print Options = NO',\n",
    "        'Print File = 1',\n",
    "        'SOCP Scaling = A'\n",
    "]:\n",
    "    opt.handle_opt_set(handle, option)\n",
    "\n",
    "# Call socp interior point solver\n",
    "slt = opt.handle_solve_socp_ipm(handle)"
   ]
  },
  {
   "cell_type": "markdown",
   "metadata": {},
   "source": [
    "Now we can print the optimal portfolio and the corresponding return."
   ]
  },
  {
   "cell_type": "code",
   "execution_count": 10,
   "metadata": {},
   "outputs": [
    {
     "data": {
      "text/plain": [
       "array([1.93322779e-10, 3.97165177e-01, 3.35524516e-01, 7.15459782e-10,\n",
       "       1.16762817e-01, 1.15110232e-10, 8.27684160e-02, 6.77790766e-02])"
      ]
     },
     "execution_count": 10,
     "metadata": {},
     "output_type": "execute_result"
    }
   ],
   "source": [
    "# Optimal portfolio\n",
    "slt.x[0:n_assets]"
   ]
  },
  {
   "cell_type": "code",
   "execution_count": 11,
   "metadata": {},
   "outputs": [
    {
     "data": {
      "text/plain": [
       "0.08505797359531912"
      ]
     },
     "execution_count": 11,
     "metadata": {},
     "output_type": "execute_result"
    }
   ],
   "source": [
    "# Optimal expected return\n",
    "r.dot(slt.x[0:n_assets])"
   ]
  },
  {
   "cell_type": "markdown",
   "metadata": {},
   "source": [
    "# Conclusion"
   ]
  },
  {
   "cell_type": "markdown",
   "metadata": {},
   "source": [
    "In this notebook, we demonstrated how to use the NAG Library to model and solve portfolio optimization with probability constraint via SOCP. It is worth noting that SOCP is widely used in portfolio optimization due to its flexibility and versatility to handle a large variety of problems with different kinds of constraints, not only the probability constraint mentioned above, e.g. leverage constraint, turnover constraint, max position constraint and tracking-error constraint. We refer the readers to \\cite{AG03, LVBL98, NAGDOC} for more details."
   ]
  },
  {
   "cell_type": "markdown",
   "metadata": {},
   "source": [
    "# References\n",
    "\n",
    "[<a id=\"cit-AG03\" href=\"#call-AG03\">1</a>] Alizadeh Farid and Goldfarb Donald, ``_Second-order cone programming_'', Mathematical programming, vol. 95, number 1, pp. 3--51,  2003.\n",
    "\n",
    "[<a id=\"cit-LVBL98\" href=\"#call-LVBL98\">2</a>] Lobo Miguel Sousa, Vandenberghe Lieven, Boyd Stephen <em>et al.</em>, ``_Applications of second-order cone programming_'', Linear algebra and its applications, vol. 284, number 1-3, pp. 193--228,  1998.\n",
    "\n",
    "[<a id=\"cit-NAGDOC\" href=\"#call-NAGDOC\">3</a>] Numerical Algorithms Group, ``_NAG documentation_'',  2019.  [online](https://www.nag.com/numeric/fl/nagdoc_latest/html/frontmatter/manconts.html)\n",
    "\n"
   ]
  }
 ],
 "metadata": {
  "kernelspec": {
   "display_name": "Python 2",
   "language": "python",
   "name": "python"
  },
  "language_info": {
   "codemirror_mode": {
    "name": "ipython",
    "version": 3
   },
   "file_extension": ".py",
   "mimetype": "text/x-python",
   "name": "python",
   "nbconvert_exporter": "python",
   "pygments_lexer": "ipython3",
   "version": "3.8.0"
  },
  "latex_envs": {
   "LaTeX_envs_menu_present": true,
   "autoclose": false,
   "autocomplete": true,
   "bibliofile": "biblio.bib",
   "cite_by": "number",
   "current_citInitial": 1,
   "eqLabelWithNumbers": true,
   "eqNumInitial": 1,
   "hotkeys": {
    "equation": "Ctrl-E",
    "itemize": "Ctrl-I"
   },
   "labels_anchors": false,
   "latex_user_defs": false,
   "report_style_numbering": false,
   "user_envs_cfg": false
  }
 },
 "nbformat": 4,
 "nbformat_minor": 2
}
